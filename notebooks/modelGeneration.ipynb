{
 "cells": [
  {
   "cell_type": "code",
   "execution_count": 112,
   "metadata": {},
   "outputs": [],
   "source": [
    "CLEANED_SAVE_PATH = \"../cleaned_tweet_data.csv\""
   ]
  },
  {
   "cell_type": "code",
   "execution_count": 113,
   "metadata": {},
   "outputs": [],
   "source": [
    "import pandas as pd\n",
    "from wordcloud import STOPWORDS,WordCloud"
   ]
  },
  {
   "cell_type": "code",
   "execution_count": 114,
   "metadata": {},
   "outputs": [],
   "source": [
    "# taking a csv file path and reading a dataframe\n",
    "\n",
    "def read_proccessed_data(csv_path):\n",
    "    try:    \n",
    "        df = pd.read_csv(csv_path)\n",
    "        print(\"file read as csv\")\n",
    "        return df\n",
    "    \n",
    "    except FileNotFoundError:\n",
    "        print(\"file not found\")"
   ]
  },
  {
   "cell_type": "code",
   "execution_count": 115,
   "metadata": {},
   "outputs": [
    {
     "name": "stdout",
     "output_type": "stream",
     "text": [
      "file read as csv\n"
     ]
    }
   ],
   "source": [
    "df = read_proccessed_data(CLEANED_SAVE_PATH)"
   ]
  },
  {
   "cell_type": "code",
   "execution_count": 116,
   "metadata": {},
   "outputs": [
    {
     "name": "stdout",
     "output_type": "stream",
     "text": [
      "<class 'pandas.core.frame.DataFrame'>\n",
      "RangeIndex: 6532 entries, 0 to 6531\n",
      "Data columns (total 17 columns):\n",
      " #   Column              Non-Null Count  Dtype  \n",
      "---  ------              --------------  -----  \n",
      " 0   created_at          6532 non-null   object \n",
      " 1   source              6532 non-null   object \n",
      " 2   original_text       6532 non-null   object \n",
      " 3   polarity            6532 non-null   float64\n",
      " 4   subjectivity        6532 non-null   float64\n",
      " 5   lang                6532 non-null   object \n",
      " 6   favorite_count      6532 non-null   int64  \n",
      " 7   retweet_count       4785 non-null   float64\n",
      " 8   original_author     6532 non-null   object \n",
      " 9   followers_count     6532 non-null   int64  \n",
      " 10  friends_count       6532 non-null   int64  \n",
      " 11  possibly_sensitive  0 non-null      float64\n",
      " 12  hashtags            6532 non-null   object \n",
      " 13  user_mentions       6532 non-null   object \n",
      " 14  place               4088 non-null   object \n",
      " 15  friends_count       6532 non-null   float64\n",
      " 16  clean_text          6532 non-null   object \n",
      "dtypes: float64(5), int64(3), object(9)\n",
      "memory usage: 867.7+ KB\n"
     ]
    }
   ],
   "source": [
    "# inspecting the columns\n",
    "df.info()"
   ]
  },
  {
   "cell_type": "code",
   "execution_count": 117,
   "metadata": {},
   "outputs": [
    {
     "data": {
      "text/plain": [
       " 0.000000    1829\n",
       "-0.750000     501\n",
       " 0.500000     210\n",
       " 0.133333     201\n",
       " 0.337500     189\n",
       "             ... \n",
       "-0.190625       1\n",
       "-0.035714       1\n",
       "-0.175000       1\n",
       " 0.186111       1\n",
       "-0.055556       1\n",
       "Name: polarity, Length: 401, dtype: int64"
      ]
     },
     "execution_count": 117,
     "metadata": {},
     "output_type": "execute_result"
    }
   ],
   "source": [
    "# inspecting the polarity column\n",
    "df['polarity']\n",
    "df['polarity'].value_counts()\n"
   ]
  },
  {
   "cell_type": "code",
   "execution_count": 118,
   "metadata": {},
   "outputs": [
    {
     "name": "stdout",
     "output_type": "stream",
     "text": [
      "sum of null values in clean_text column: 0\n",
      "sum of null values in polarity cloumn: 0\n"
     ]
    }
   ],
   "source": [
    "# checking if there are null values\n",
    "text_null_sum = df['clean_text'].isnull().sum()\n",
    "polarity_null_sum = df['polarity'].isnull().sum()\n",
    "\n",
    "print(f'sum of null values in clean_text column: {text_null_sum}')\n",
    "print(f'sum of null values in polarity cloumn: {polarity_null_sum}')"
   ]
  },
  {
   "cell_type": "code",
   "execution_count": 119,
   "metadata": {},
   "outputs": [],
   "source": [
    "# creating cleanedTweet dataframe\n",
    "cleanedTweet = pd.DataFrame(columns=['clean_text','polarity'])\n",
    "\n",
    "cleanedTweet['clean_text'] = df['clean_text']\n",
    "cleanedTweet['polarity'] = df['polarity']\n",
    "cleanedTweet.dropna(inplace=True)"
   ]
  },
  {
   "cell_type": "code",
   "execution_count": 120,
   "metadata": {},
   "outputs": [
    {
     "data": {
      "text/html": [
       "<div>\n",
       "<style scoped>\n",
       "    .dataframe tbody tr th:only-of-type {\n",
       "        vertical-align: middle;\n",
       "    }\n",
       "\n",
       "    .dataframe tbody tr th {\n",
       "        vertical-align: top;\n",
       "    }\n",
       "\n",
       "    .dataframe thead th {\n",
       "        text-align: right;\n",
       "    }\n",
       "</style>\n",
       "<table border=\"1\" class=\"dataframe\">\n",
       "  <thead>\n",
       "    <tr style=\"text-align: right;\">\n",
       "      <th></th>\n",
       "      <th>clean_text</th>\n",
       "      <th>polarity</th>\n",
       "    </tr>\n",
       "  </thead>\n",
       "  <tbody>\n",
       "    <tr>\n",
       "      <th>0</th>\n",
       "      <td>🚨africa is \"in the midst of a full-blown third...</td>\n",
       "      <td>0.166667</td>\n",
       "    </tr>\n",
       "    <tr>\n",
       "      <th>1</th>\n",
       "      <td>dr moeti is head of who in africa and one of t...</td>\n",
       "      <td>0.133333</td>\n",
       "    </tr>\n",
       "    <tr>\n",
       "      <th>2</th>\n",
       "      <td>thank you  for creating this amazing campaign ...</td>\n",
       "      <td>0.316667</td>\n",
       "    </tr>\n",
       "    <tr>\n",
       "      <th>3</th>\n",
       "      <td>former pfizer vp and virologist dr michael yea...</td>\n",
       "      <td>0.086111</td>\n",
       "    </tr>\n",
       "    <tr>\n",
       "      <th>4</th>\n",
       "      <td>i think it’s important that we don’t sell cova...</td>\n",
       "      <td>0.280000</td>\n",
       "    </tr>\n",
       "    <tr>\n",
       "      <th>...</th>\n",
       "      <td>...</td>\n",
       "      <td>...</td>\n",
       "    </tr>\n",
       "    <tr>\n",
       "      <th>6527</th>\n",
       "      <td>rt : zweli please just release the graphic des...</td>\n",
       "      <td>0.000000</td>\n",
       "    </tr>\n",
       "    <tr>\n",
       "      <th>6528</th>\n",
       "      <td>former pfizer vp and virologist dr michael yea...</td>\n",
       "      <td>0.086111</td>\n",
       "    </tr>\n",
       "    <tr>\n",
       "      <th>6529</th>\n",
       "      <td>respectfully veterinarians have to have a br...</td>\n",
       "      <td>0.281250</td>\n",
       "    </tr>\n",
       "    <tr>\n",
       "      <th>6530</th>\n",
       "      <td>\"africa needs millions more doses here &amp;amp; n...</td>\n",
       "      <td>0.125000</td>\n",
       "    </tr>\n",
       "    <tr>\n",
       "      <th>6531</th>\n",
       "      <td>rt : liars you tried to load off your expired ...</td>\n",
       "      <td>0.000000</td>\n",
       "    </tr>\n",
       "  </tbody>\n",
       "</table>\n",
       "<p>6532 rows × 2 columns</p>\n",
       "</div>"
      ],
      "text/plain": [
       "                                             clean_text  polarity\n",
       "0     🚨africa is \"in the midst of a full-blown third...  0.166667\n",
       "1     dr moeti is head of who in africa and one of t...  0.133333\n",
       "2     thank you  for creating this amazing campaign ...  0.316667\n",
       "3     former pfizer vp and virologist dr michael yea...  0.086111\n",
       "4     i think it’s important that we don’t sell cova...  0.280000\n",
       "...                                                 ...       ...\n",
       "6527  rt : zweli please just release the graphic des...  0.000000\n",
       "6528  former pfizer vp and virologist dr michael yea...  0.086111\n",
       "6529    respectfully veterinarians have to have a br...  0.281250\n",
       "6530  \"africa needs millions more doses here &amp; n...  0.125000\n",
       "6531  rt : liars you tried to load off your expired ...  0.000000\n",
       "\n",
       "[6532 rows x 2 columns]"
      ]
     },
     "execution_count": 120,
     "metadata": {},
     "output_type": "execute_result"
    }
   ],
   "source": [
    "cleanedTweet"
   ]
  },
  {
   "cell_type": "code",
   "execution_count": 121,
   "metadata": {},
   "outputs": [],
   "source": [
    "# takes polarity and returns a string either postive, negative or neutral\n",
    "\n",
    "def text_category(p: float) -> str:\n",
    "    if p > 0:\n",
    "        return \"positive\"\n",
    "    elif p == 0:\n",
    "        return \"neutral\"\n",
    "    else:\n",
    "        return \"negative\""
   ]
  },
  {
   "cell_type": "code",
   "execution_count": 122,
   "metadata": {},
   "outputs": [
    {
     "data": {
      "text/plain": [
       "positive    3426\n",
       "neutral     1829\n",
       "negative    1277\n",
       "Name: score, dtype: int64"
      ]
     },
     "execution_count": 122,
     "metadata": {},
     "output_type": "execute_result"
    }
   ],
   "source": [
    "# creating score column by applying text_category\n",
    "cleanedTweet['score'] = cleanedTweet['polarity'].apply(text_category)\n",
    "cleanedTweet['score'].value_counts()"
   ]
  },
  {
   "cell_type": "code",
   "execution_count": 123,
   "metadata": {},
   "outputs": [
    {
     "data": {
      "text/plain": [
       "<matplotlib.axes._subplots.AxesSubplot at 0x1a24e25050>"
      ]
     },
     "execution_count": 123,
     "metadata": {},
     "output_type": "execute_result"
    },
    {
     "data": {
      "image/png": "[encoded data removed]",
      "text/plain": [
       "<Figure size 576x576 with 1 Axes>"
      ]
     },
     "metadata": {
      "needs_background": "light"
     },
     "output_type": "display_data"
    }
   ],
   "source": [
    "# Grouping the scores and plotting bar graph\n",
    "score_count =  cleanedTweet['score'].value_counts()\n",
    "score_count.plot(kind=\"bar\", y=\"score\", title=\"score\", figsize=[8, 8])"
   ]
  },
  {
   "cell_type": "code",
   "execution_count": 124,
   "metadata": {},
   "outputs": [
    {
     "data": {
      "text/plain": [
       "<matplotlib.axes._subplots.AxesSubplot at 0x1a284472d0>"
      ]
     },
     "execution_count": 124,
     "metadata": {},
     "output_type": "execute_result"
    },
    {
     "data": {
      "image/png": "[encoded data removed]",
      "text/plain": [
       "<Figure size 576x576 with 1 Axes>"
      ]
     },
     "metadata": {},
     "output_type": "display_data"
    }
   ],
   "source": [
    "score_count.plot(kind=\"pie\", y=\"score\", title=\"score\", x=\"\", figsize=[8, 8])\n"
   ]
  },
  {
   "cell_type": "code",
   "execution_count": 125,
   "metadata": {},
   "outputs": [],
   "source": [
    "# takes a string and returns if a value is \"neutral\"\n",
    "def remove_neutral(value):\n",
    "    return value != \"neutral\""
   ]
  },
  {
   "cell_type": "code",
   "execution_count": 126,
   "metadata": {},
   "outputs": [
    {
     "name": "stderr",
     "output_type": "stream",
     "text": [
      "/Users/daniel/opt/anaconda3/lib/python3.7/site-packages/ipykernel_launcher.py:6: SettingWithCopyWarning: \n",
      "A value is trying to be set on a copy of a slice from a DataFrame.\n",
      "Try using .loc[row_indexer,col_indexer] = value instead\n",
      "\n",
      "See the caveats in the documentation: https://pandas.pydata.org/pandas-docs/stable/user_guide/indexing.html#returning-a-view-versus-a-copy\n",
      "  \n"
     ]
    }
   ],
   "source": [
    "# creating score_map column\n",
    "# we remove all rows that have neutral score\n",
    "# then create a score_map. if score is \"positive\" it has value 1 else 0\n",
    "\n",
    "cleanedTweet = cleanedTweet[cleanedTweet['score'].map(remove_neutral)]\n",
    "cleanedTweet['score_map'] = cleanedTweet[\"score\"].map( lambda score: 1 if score == \"positive\" else 0)"
   ]
  },
  {
   "cell_type": "code",
   "execution_count": 127,
   "metadata": {},
   "outputs": [],
   "source": [
    "\n",
    "from sklearn.feature_extraction.text import CountVectorizer, TfidfTransformer\n",
    "from joblib import dump, load # used for saving and loading sklearn objects\n",
    "from scipy.sparse import save_npz, load_npz # used for saving and loading sparse matrices\n",
    "from sklearn.decomposition import NMF, LatentDirichletAllocation\n",
    "from sklearn.linear_model import SGDClassifier\n",
    "from sklearn.model_selection import train_test_split"
   ]
  },
  {
   "cell_type": "code",
   "execution_count": 128,
   "metadata": {},
   "outputs": [],
   "source": [
    "# separating our input and output\n",
    "(X, y) = cleanedTweet['clean_text'], cleanedTweet['score_map']"
   ]
  },
  {
   "cell_type": "code",
   "execution_count": 129,
   "metadata": {},
   "outputs": [
    {
     "data": {
      "text/plain": [
       "CountVectorizer(analyzer='word', binary=False, decode_error='strict',\n",
       "                dtype=<class 'numpy.int64'>, encoding='utf-8', input='content',\n",
       "                lowercase=True, max_df=1.0, max_features=None, min_df=1,\n",
       "                ngram_range=(1, 3), preprocessor=None, stop_words=None,\n",
       "                strip_accents=None, token_pattern='(?u)\\\\b\\\\w\\\\w+\\\\b',\n",
       "                tokenizer=None, vocabulary=None)"
      ]
     },
     "execution_count": 129,
     "metadata": {},
     "output_type": "execute_result"
    }
   ],
   "source": [
    "# creating CountVectorizer and fitting it\n",
    "trigram_vectorizer = CountVectorizer(ngram_range=(1, 3))\n",
    "trigram_vectorizer.fit(X.values)\n"
   ]
  },
  {
   "cell_type": "code",
   "execution_count": 130,
   "metadata": {},
   "outputs": [],
   "source": [
    "# creating a tri_gram Vector representation for X\n",
    "X_trigram = trigram_vectorizer.transform(X.values)"
   ]
  },
  {
   "cell_type": "code",
   "execution_count": 131,
   "metadata": {},
   "outputs": [
    {
     "data": {
      "text/plain": [
       "TfidfTransformer(norm='l2', smooth_idf=True, sublinear_tf=False, use_idf=True)"
      ]
     },
     "execution_count": 131,
     "metadata": {},
     "output_type": "execute_result"
    }
   ],
   "source": [
    "# creating a trigram tfidf transformer\n",
    "trigram_tf_idf_transformer = TfidfTransformer()\n",
    "trigram_tf_idf_transformer.fit(X_trigram)"
   ]
  },
  {
   "cell_type": "code",
   "execution_count": 132,
   "metadata": {},
   "outputs": [],
   "source": [
    "# creating a tfidf representation of x\n",
    "X_train_tf_idf = trigram_tf_idf_transformer.transform(X_trigram)"
   ]
  },
  {
   "cell_type": "code",
   "execution_count": 133,
   "metadata": {},
   "outputs": [],
   "source": [
    "# takes input as X, and ouput as Y, title of model as title\n",
    "# split the input to train and valid\n",
    "# use Stochastic Gradient Descent Classifier\n",
    "# train\n",
    "# out put the training score and validation score\n",
    "def train_and_show_scores(X, y, title: str) -> None:\n",
    "    X_train, X_valid, y_train, y_valid = train_test_split(\n",
    "        X, y, train_size=0.75, stratify=y\n",
    "    )\n",
    "\n",
    "    clf = SGDClassifier()\n",
    "    clf.fit(X_train, y_train)\n",
    "    train_score = clf.score(X_train, y_train)\n",
    "    valid_score = clf.score(X_valid, y_valid)\n",
    "    print(f'{title}\\nTrain score: {round(train_score, 2)} ; Validation score: {round(valid_score, 2)}\\n')"
   ]
  },
  {
   "cell_type": "code",
   "execution_count": 134,
   "metadata": {},
   "outputs": [
    {
     "name": "stdout",
     "output_type": "stream",
     "text": [
      "trigram\n",
      "Train score: 1.0 ; Validation score: 0.97\n",
      "\n"
     ]
    }
   ],
   "source": [
    "# train using inputs vectorized as trigram\n",
    "\n",
    "train_and_show_scores(X_trigram, y, title=\"trigram\")"
   ]
  },
  {
   "cell_type": "code",
   "execution_count": 135,
   "metadata": {},
   "outputs": [
    {
     "name": "stdout",
     "output_type": "stream",
     "text": [
      "trigram_tf_idf\n",
      "Train score: 1.0 ; Validation score: 0.95\n",
      "\n"
     ]
    }
   ],
   "source": [
    "# train using inputs vectorized as trigram_tfidf\n",
    "\n",
    "\n",
    "train_and_show_scores(X_train_tf_idf, y, title=\"trigram_tf_idf\")"
   ]
  },
  {
   "cell_type": "code",
   "execution_count": null,
   "metadata": {},
   "outputs": [],
   "source": []
  },
  {
   "cell_type": "code",
   "execution_count": null,
   "metadata": {},
   "outputs": [],
   "source": []
  },
  {
   "cell_type": "code",
   "execution_count": null,
   "metadata": {},
   "outputs": [],
   "source": []
  },
  {
   "cell_type": "code",
   "execution_count": 136,
   "metadata": {},
   "outputs": [],
   "source": [
    "# Topic Modeling"
   ]
  },
  {
   "cell_type": "code",
   "execution_count": 137,
   "metadata": {},
   "outputs": [],
   "source": [
    "# !pip3 install gensim"
   ]
  },
  {
   "cell_type": "code",
   "execution_count": 138,
   "metadata": {},
   "outputs": [],
   "source": [
    "\n",
    "import string\n",
    "import gensim\n",
    "from gensim.models import CoherenceModel\n",
    "from gensim import corpora\n",
    "from pprint import pprint\n",
    "import pyLDAvis\n",
    "import pyLDAvis.gensim_models\n",
    "\n",
    "\n",
    "\n",
    "\n"
   ]
  },
  {
   "cell_type": "code",
   "execution_count": 139,
   "metadata": {},
   "outputs": [],
   "source": [
    "def remove_stopwords(sent: str) -> str:\n",
    "    sent_list = sent.split()\n",
    "    return ' '.join([word for word in sent_list if word not in STOPWORDS])"
   ]
  },
  {
   "cell_type": "code",
   "execution_count": 140,
   "metadata": {},
   "outputs": [],
   "source": [
    "class TopicModel:\n",
    "    \n",
    "    def __init__(self, tweet_df, num_of_topics):\n",
    "        self.df = tweet_df\n",
    "        self.num_of_topics = num_of_topics\n",
    "    \n",
    "    def extract_text_df(self):\n",
    "        self.df = pd.DataFrame(self.df['clean_text']) \n",
    "        \n",
    "        return self.df\n",
    "    \n",
    "    \n",
    "    def further_pre_process(self):\n",
    "        \n",
    "        self.df['clean_text']= df['clean_text'].apply(lambda x: str(x).translate(str.maketrans(' ', ' ', string.punctuation))) \n",
    "        \n",
    "        self.df['clean_text'] = self.df['clean_text'].apply(remove_stopwords)\n",
    "        \n",
    "        return self.df\n",
    "    \n",
    "    def prepare_inputs(self):\n",
    "        \n",
    "        df = self.extract_text_df()\n",
    "        df = self.further_pre_process()\n",
    "        \n",
    "        sentence_list = [text for text in self.df['clean_text']]\n",
    "        \n",
    "        word_list = [sent.split() for sent in sentence_list]\n",
    "        word_to_int = corpora.Dictionary(word_list)\n",
    "        \n",
    "        corpus = [word_to_int.doc2bow(tweet) for tweet in word_list]\n",
    "        \n",
    "        return word_list, word_to_int, corpus\n",
    "    \n",
    "    def lda_prepared(self, lda_model, corpus,  word_list):\n",
    "        pyLDAvis.enable_notebook()\n",
    "        LDAvis_prepared = pyLDAvis.gensim_models.prepare(lda_model, corpus, word_list)\n",
    "        return LDAvis_prepared\n",
    "        \n",
    "    \n",
    "            \n",
    "    def build(self, show_print=False):\n",
    "        word_list, word_to_int, corpus = self.prepare_inputs()\n",
    "        \n",
    "        lda_model = gensim.models.ldamodel.LdaModel(\n",
    "            corpus, id2word=word_to_int,num_topics=self.num_of_topics, \n",
    "            random_state=100, update_every=1, \n",
    "            chunksize=100, passes=10, alpha='auto',\n",
    "            per_word_topics=True\n",
    "        )\n",
    "        \n",
    "        lda_prepared = self.lda_prepared(lda_model, corpus, word_to_int)\n",
    "        \n",
    "        \n",
    "        if show_print:\n",
    "            pprint(lda_model.print_topics())\n",
    "        \n",
    "        return lda_model, lda_prepared\n",
    "    \n",
    "        \n",
    "        "
   ]
  },
  {
   "cell_type": "code",
   "execution_count": 141,
   "metadata": {},
   "outputs": [
    {
     "name": "stdout",
     "output_type": "stream",
     "text": [
      "file read as csv\n",
      "[(0,\n",
      "  '0.052*\"need\" + 0.037*\"world\" + 0.035*\"support\" + 0.034*\"covid19\" + '\n",
      "  '0.033*\"countries\" + 0.027*\"oxygen\" + 0.026*\"coronavirus\" + 0.026*\"cases\" + '\n",
      "  '0.024*\"rich\" + 0.022*\"vaccines\"'),\n",
      " (1,\n",
      "  '0.041*\"covid19\" + 0.035*\"amp\" + 0.035*\"vaccines\" + 0.023*\"australia\" + '\n",
      "  '0.021*\"government\" + 0.011*\"covid\" + 0.011*\"will\" + 0.010*\"yet\" + '\n",
      "  '0.010*\"graphic\" + 0.010*\"designers\"'),\n",
      " (2,\n",
      "  '0.057*\"vaccines\" + 0.043*\"age\" + 0.041*\"capacity\" + 0.039*\"limit\" + '\n",
      "  '0.039*\"dose1\" + 0.039*\"pin\" + 0.039*\"min\" + 0.025*\"pmcg\" + 0.023*\"hospital\" '\n",
      "  '+ 0.019*\"1845\"'),\n",
      " (3,\n",
      "  '0.054*\"covid19\" + 0.039*\"vaccines\" + 0.024*\"vaccination\" + 0.018*\"people\" + '\n",
      "  '0.017*\"vaccine\" + 0.015*\"doses\" + 0.014*\"will\" + 0.014*\"risk\" + 0.013*\"go\" '\n",
      "  '+ 0.012*\"administered\"'),\n",
      " (4,\n",
      "  '0.098*\"africa\" + 0.069*\"one\" + 0.036*\"dr\" + 0.027*\"vaccines\" + '\n",
      "  '0.026*\"urgently\" + 0.026*\"public\" + 0.023*\"know\" + 0.022*\"uk\" + '\n",
      "  '0.022*\"health\" + 0.020*\"technology\"'),\n",
      " (5,\n",
      "  '0.043*\"covaxin\" + 0.038*\"covid19\" + 0.037*\"dont\" + 0.030*\"0\" + '\n",
      "  '0.026*\"south\" + 0.020*\"…\" + 0.017*\"provide\" + 0.016*\"africa\" + '\n",
      "  '0.015*\"vaccine\" + 0.015*\"dose2\"'),\n",
      " (6,\n",
      "  '0.103*\"india\" + 0.045*\"covid19\" + 0.038*\"africa\" + 0.029*\"wave\" + '\n",
      "  '0.027*\"amp\" + 0.027*\"third\" + 0.020*\"everyone\" + 0.019*\"vaccines\" + '\n",
      "  '0.019*\"cases\" + 0.018*\"please\"'),\n",
      " (7,\n",
      "  '0.079*\"vaccines\" + 0.071*\"rt\" + 0.063*\"israel\" + 0.053*\"expired\" + '\n",
      "  '0.050*\"another\" + 0.049*\"tried\" + 0.049*\"war\" + 0.049*\"liars\" + '\n",
      "  '0.049*\"crime\" + 0.049*\"load\"')]\n"
     ]
    }
   ],
   "source": [
    "df = read_proccessed_data(CLEANED_SAVE_PATH)\n",
    "tm = TopicModel(df, 8)\n",
    "lda_model, lda_prepared =tm.build(show_print=True)"
   ]
  },
  {
   "cell_type": "code",
   "execution_count": 142,
   "metadata": {},
   "outputs": [
    {
     "data": {
      "text/html": [
       "\n",
       "<link rel=\"stylesheet\" type=\"text/css\" href=\"https://cdn.jsdelivr.net/gh/bmabey/pyLDAvis@3.3.1/pyLDAvis/js/ldavis.v1.0.0.css\">\n",
       "\n",
       "\n",
       "<div id=\"ldavis_el872441123076995367489561874\"></div>\n",
       "<script type=\"text/javascript\">\n",
       "\n",
       "var ldavis_el872441123076995367489561874_data = {\"mdsDat\": {\"x\": [-0.05022557493867311, 0.23750594831107996, 0.28536458459353925, -0.018801815288288264, -0.1855345946859742, -0.11445172737881897, -0.1407036268845304, -0.01315319372833445], \"y\": [0.19633091986256856, 0.10983164300990401, -0.11367404452704981, 0.17588350770346786, -0.07234989486575236, 0.06048320377635421, -0.06531107192980626, -0.2911942630296865], \"topics\": [1, 2, 3, 4, 5, 6, 7, 8], \"cluster\": [1, 1, 1, 1, 1, 1, 1, 1], \"Freq\": [20.83507611188481, 13.886244765449621, 13.265829677940818, 12.761029032216452, 11.167640449337243, 10.583496132776121, 10.095634129641615, 7.405049700753318]}, \"tinfo\": {\"Term\": [\"india\", \"africa\", \"rt\", \"israel\", \"expired\", \"tried\", \"war\", \"liars\", \"crime\", \"load\", \"one\", \"another\", \"need\", \"age\", \"capacity\", \"min\", \"pin\", \"dose1\", \"limit\", \"covaxin\", \"amp\", \"world\", \"dont\", \"covid19\", \"support\", \"vaccination\", \"countries\", \"help\", \"cases\", \"dr\", \"vaccination\", \"risk\", \"go\", \"administered\", \"china\", \"free\", \"ontario\", \"question\", \"covidvaccination\", \"less\", \"huge\", \"committed\", \"jab\", \"education\", \"directly\", \"virus\", \"providing\", \"increased\", \"centre\", \"past\", \"population\", \"per\", \"vax\", \"21st\", \"expanded\", \"pace\", \"84\", \"fund\", \"204344\", \"beautiful\", \"preregister\", \"far\", \"june\", \"people\", \"covid19\", \"million\", \"vaccinated\", \"will\", \"doses\", \"vaccine\", \"vaccines\", \"today\", \"amp\", \"world\", \"israel\", \"expired\", \"tried\", \"war\", \"liars\", \"crime\", \"load\", \"\\ud83d\\udd30\", \"must\", \"indian\", \"pandemic\", \"sent\", \"palestinians\", \"helping\", \"palestinian\", \"friday\", \"2nd\", \"authority\", \"afternoon\", \"safe\", \"pa\", \"buy\", \"post\", \"delivery\", \"deliver\", \"future\", \"mandates\", \"fight\", \"india\\u2764\\ufe0f\", \"\\u2764\\ufe0findia\", \"rt\", \"another\", \"help\", \"retweet\", \"vaccines\", \"covid19\", \"make\", \"age\", \"capacity\", \"dose1\", \"limit\", \"min\", \"pin\", \"pmcg\", \"hospital\", \"1845\", \"covishield\", \"now\", \"4518\", \"2021\", \"delta\", \"way\", \"variant\", \"time\", \"needs\", \"protect\", \"america\", \"response\", \"millions\", \"dose2\\u2026\", \"many\", \"threat\", \"calls\", \"code411041\", \"parts\", \"surges\", \"critical\", \"every\", \"vaccines\", \"doses\", \"fully\", \"dr\", \"australia\", \"government\", \"yet\", \"graphic\", \"designers\", \"fireworks\", \"release\", \"zweli\", \"mrna\", \"6\", \"speaks\", \"taiwan\", \"it\\u2019s\", \"21\", \"uganda\", \"cost\", \"benefit\", \"mask\", \"puts\", \"dose\", \"myocarditis\", \"coming\", \"deltavariant\", \"budget\", \"economy\", \"5\", \"order\", \"little\", \"folks\", \"personnel\", \"amp\", \"covid19\", \"vaccines\", \"covid\", \"will\", \"new\", \"vaccine\", \"vaccinated\", \"india\", \"everyone\", \"please\", \"take\", \"blown\", \"seen\", \"see\", \"overwhelm\", \"action\", \"nft\", \"elsewhere\", \"surging\", \"said\", \"urgent\", \"trajectory\", \"quickly\", \"rebound\", \"sobering\", \"staff\", \"long\", \"travel\", \"community\", \"we\\u2019ve\", \"astrazeneca\", \"rouse\", \"reach\", \"forward\", \"jammu\", \"vaccinationdrive\", \"bakarwals\", \"wave\", \"third\", \"days\", \"midst\", \"systems\", \"full\", \"africa\", \"amp\", \"cases\", \"covid19\", \"people\", \"health\", \"vaccines\", \"vaccine\", \"covaxin\", \"dont\", \"0\", \"south\", \"\\u2026\", \"provide\", \"dose2\", \"18\", \"sending\", \"medical\", \"indiafightscorona\", \"variants\", \"total\", \"bringing\", \"welcome\", \"find\", \"wecandothis\", \"call\", \"recorded\", \"global\", \"118\", \"zip\", \"438829\", \"code\", \"pleased\", \"i\\u2019m\", \"near\", \"reported\", \"youre\", \"18002320233\", \"3\", \"latest\", \"covid19\", \"today\", \"vaccine\", \"africa\", \"new\", \"1\", \"support\", \"countries\", \"oxygen\", \"rich\", \"workers\", \"via\", \"stand\", \"20\", \"coverage\", \"failure\", \"across\", \"money\", \"dying\", \"30\", \"pay\", \"kills\", \"ppes\", \"ugandans\", \"mulago\", \"overstretched\", \"risen\", \"continent\", \"last\", \"ppe\", \"reports\", \"\\ud83e\\uddf5\", \"safety\", \"vaccinateourworld\", \"vownow\", \"shortage\", \"need\", \"week\", \"coronavirus\", \"world\", \"deaths\", \"patients\", \"cases\", \"covid\", \"covid19\", \"health\", \"vaccines\", \"one\", \"urgently\", \"public\", \"know\", \"uk\", \"technology\", \"roberts\", \"germany\", \"production\", \"best\", \"leaders\", \"experts\", \"restrictions\", \"transfer\", \"lift\", \"desperate\", \"request\", \"patent\", \"moeti\", \"enable\", \"plead\", \"minister\", \"zimbabwe\", \"expected\", \"code411038\", \"pmc\", \"23\", \"story\", \"rwanda\", \"truth\", \"dr\", \"africa\", \"head\", \"health\", \"vaccines\"], \"Freq\": [1333.0, 1535.0, 1206.0, 1023.0, 850.0, 792.0, 791.0, 791.0, 791.0, 791.0, 594.0, 843.0, 639.0, 671.0, 640.0, 608.0, 608.0, 608.0, 608.0, 532.0, 1144.0, 623.0, 460.0, 3559.0, 411.0, 593.0, 382.0, 502.0, 552.0, 411.0, 593.1199807473059, 329.4627444295666, 325.731635122675, 291.84352403938317, 234.57332791019516, 228.59722967924228, 225.53205840002144, 198.1216896540528, 197.15593498044623, 192.24875219732672, 164.62072505775086, 163.19402148687124, 160.53984471950537, 159.59346656610163, 157.35753356814914, 156.22766564009723, 156.43815381789514, 151.7523105155543, 152.12906865837957, 128.1759069753862, 120.41459438308732, 116.62148246988232, 113.74095271651049, 150.71389389118707, 150.71389389118707, 110.22016221224023, 109.40118806667371, 108.85049290916047, 107.55047067869793, 107.36555815256636, 143.6237812487119, 150.48652465412152, 236.24370590180752, 432.0831666763043, 1308.8020976168243, 202.16121986585145, 289.12347161999895, 330.1120836899307, 357.82868275518905, 423.7083997777233, 949.4279905836386, 221.21536264923733, 242.57553717033056, 183.84699818727438, 1022.4578459485473, 849.255439270263, 791.1720298912007, 790.3659948594963, 790.3258978075755, 790.2604541207318, 790.2233673579943, 224.01137698881575, 159.33371843362193, 157.33338127135846, 146.19011854452674, 145.8645106150215, 135.22082042959448, 124.28413127223969, 112.34948609630284, 107.81735274219774, 106.81575427370399, 94.67920900224719, 85.76187450907096, 82.46122788266078, 79.52759571347129, 78.31885924627872, 77.68178422070653, 75.16572431557029, 74.13190070136991, 72.53830628782299, 73.36863435323627, 70.09398909964632, 70.34126930460363, 70.34126930460363, 1150.1850180512874, 805.8523071511107, 472.39471746876865, 148.32039483938476, 1269.338886560158, 143.29729084521608, 79.35694994539632, 670.4831019355196, 640.0187200822531, 607.2663562815386, 607.2663562815386, 607.2663562815386, 607.2663562815386, 390.4612015501944, 354.60574066479586, 293.45122710547935, 279.10420566530235, 246.09063346804834, 240.63211705951144, 218.7627941872094, 166.07559682591906, 141.59073903505978, 138.50975680856578, 134.88654356624554, 125.13407803113367, 125.60997885136175, 121.042858023947, 124.99874315123559, 119.14632200753424, 106.34999356089402, 103.99780950563188, 98.58842604276134, 93.64356244416487, 92.03616597645912, 89.96974241159799, 88.58708207918411, 88.18150161914956, 88.31886393403124, 882.4736593607064, 220.38219709613008, 103.56965406031895, 99.4846026319122, 341.9571029992207, 315.74482182228917, 154.30929443429247, 150.8277718212422, 146.7095570324565, 146.3146034493071, 146.30297089472882, 146.30297089472882, 122.75169536278682, 119.65519509128404, 118.86751484684862, 115.92969313197153, 112.15311028792937, 111.61878735884548, 108.65743081446189, 102.94026538004758, 101.56784524881378, 99.95830635047449, 97.87895609802534, 97.38285046775219, 90.3282801362479, 83.87421104224588, 81.41667827968679, 81.40542609996093, 80.9401031691099, 77.70031223273928, 75.60390735508796, 75.61257990172362, 74.34373238485638, 73.35244785576874, 521.18160036362, 615.9997837626463, 518.7790698047238, 162.39802791461415, 161.7953066711549, 111.8185256518156, 107.15135387598663, 84.31821914954739, 1332.4361159162133, 257.490732131473, 235.5058692439745, 212.40872763669043, 173.3725719354561, 137.86719425376063, 136.28432024635197, 132.11044254214517, 130.23582051862698, 131.1079294438881, 126.17063111566686, 123.91202309235504, 123.65260678942401, 121.22312850657347, 120.83325961175746, 120.0218316592271, 120.0049818858297, 120.0049818858297, 108.84106284170605, 105.29230930959885, 104.43349136938826, 102.18789592251483, 101.34275026610624, 100.93095366690127, 100.08065139880641, 98.68178732695868, 97.06511693497707, 96.41876108001894, 96.41016672720848, 96.4078486728941, 374.80309117706247, 357.1896550611888, 123.13630407051605, 209.326090644967, 136.3639330047103, 184.59701459092102, 490.813272619922, 357.42484981486103, 242.56539168971113, 583.2959169505272, 234.57603289821608, 184.9948726024341, 246.6769784931255, 141.89675945908527, 532.109602668276, 459.56151650493734, 373.38789887091605, 322.5806713793291, 249.1140572358516, 207.99775306143346, 181.8738169860674, 171.1438684000951, 164.56222022708496, 156.28570610645883, 152.5240776383767, 129.5825479157791, 129.20677395492723, 126.95009972331829, 123.39507408928509, 120.069800901689, 101.48266967736855, 100.241962874672, 96.864471136238, 96.79057133296519, 95.56868362795088, 92.43673494123263, 92.37992202975971, 92.37992202975971, 90.92423815265573, 90.90045760435015, 90.23136727127189, 89.77411654035716, 89.58149180476953, 88.97167503324212, 119.24114113931475, 106.14682329641138, 464.17001010450184, 168.61971175418748, 185.6121352398915, 196.66719936832806, 122.06374194572308, 93.79559883391832, 410.6598063152535, 382.02145642946493, 314.0566532400464, 284.3713654079733, 237.7459575981336, 202.68267360504862, 199.51270824447656, 169.45518042955803, 148.8322953123997, 141.7768829485955, 136.47256441360875, 135.04563900798598, 134.43998988165063, 130.91326854845525, 129.47269751686287, 128.499502853184, 122.45888953953536, 122.40326747313317, 121.8427900741455, 121.8427900741455, 111.41134917203564, 77.77894092216367, 77.40221987770265, 75.9173251829267, 75.01343651129159, 66.33716561736864, 62.298618411296964, 58.62001152200034, 58.62001152200034, 60.32958850644836, 609.5686053327765, 172.9806105166713, 311.08109701417857, 433.4027205295256, 187.1975034499922, 153.95947239333987, 308.821832195463, 177.22088756616705, 396.35139905155256, 169.00758857788594, 256.0219920182598, 593.3564001330649, 224.79037403536472, 224.70046218148565, 197.64519715572874, 189.2989980875863, 176.31762704152652, 157.1197847713053, 156.41211218312364, 154.78239762688153, 150.4031236783672, 150.26295044000403, 148.3256317159292, 144.4433370718681, 143.36007661630404, 143.03282379481163, 141.5948441399678, 141.36071373667795, 141.1820939905411, 140.57752867560802, 140.57184597675547, 140.57184597675547, 139.78405375588136, 104.07941607291573, 88.08668819323626, 86.69942742829261, 67.66183244986713, 49.152740504346056, 48.754754937601966, 54.19461874435119, 63.814882105802134, 310.92941351381535, 847.7728183121056, 160.56317921952498, 187.06104212026077, 231.35636334460187], \"Total\": [1333.0, 1535.0, 1206.0, 1023.0, 850.0, 792.0, 791.0, 791.0, 791.0, 791.0, 594.0, 843.0, 639.0, 671.0, 640.0, 608.0, 608.0, 608.0, 608.0, 532.0, 1144.0, 623.0, 460.0, 3559.0, 411.0, 593.0, 382.0, 502.0, 552.0, 411.0, 593.9916875126503, 330.33420548904854, 326.60379622234154, 292.71477409351814, 235.44566939287105, 229.4688670892032, 226.40314454035544, 198.99338512927457, 198.02921928165816, 193.1205304023315, 165.49207129287132, 164.0710667691164, 161.41160860180022, 160.47727994626885, 158.23180462791882, 157.0998208464533, 157.31156539029368, 152.62410893912684, 153.1321519546041, 129.0507691340699, 121.28604722485098, 117.49259858845122, 114.61240585117345, 151.88354266927794, 151.88354266927794, 111.0916039479466, 110.27228556278766, 109.72871099555947, 108.42182725303135, 108.23675054906124, 144.79079406447806, 153.31717551224764, 263.8973691903911, 669.6728810931531, 3559.750149959659, 260.9524809880364, 443.4513956915859, 553.4321026954519, 646.8495961696927, 917.8500811359356, 4418.790065893651, 390.5750410473265, 1144.0853096301403, 623.2360219386558, 1023.3458501300432, 850.1433967083076, 792.0599755368555, 791.2539382691099, 791.2138409236501, 791.1483972114776, 791.1113104487401, 224.91358550282231, 160.2317420217258, 158.22293028054415, 147.0796634924916, 146.7564332898049, 136.10912608861403, 125.1796455513615, 113.237476355776, 108.70783344954019, 107.70717956533207, 95.56719998325973, 86.65096133555019, 83.35175666103007, 80.41557462996387, 79.21278833706084, 78.57047457817912, 76.05647951231906, 75.02198212766133, 73.42733159910559, 74.27220033454002, 70.9826247406912, 71.30347538817077, 71.30347538817077, 1206.106340868459, 843.5049340345784, 502.92915577920604, 153.82152294937134, 4418.790065893651, 3559.750149959659, 113.83833388830692, 671.3630615516594, 640.8983111764555, 608.1458731708518, 608.1458731708518, 608.1458731708518, 608.1458731708518, 391.3408386554258, 355.48543269320425, 294.3307109176043, 279.98387004936404, 246.9717709987636, 241.51165433688706, 219.6581752837251, 166.95527078437803, 142.47307337224603, 139.38938100570306, 135.76665343229087, 126.01436119074395, 126.50248367167153, 121.92325041705813, 125.91024672013013, 120.02692941189369, 107.22951432978914, 104.87767739162987, 99.46814095991449, 94.52400963613705, 92.91563835109662, 90.84944685606064, 89.46668899565374, 89.06146066645894, 89.20147974017253, 4418.790065893651, 646.8495961696927, 157.44960116647567, 411.14930150838114, 342.85265113935617, 316.64314614482316, 155.20535937935162, 151.722984172983, 147.60472487898465, 147.2097829147282, 147.19815077423806, 147.19815077423806, 123.64693681434407, 120.55066225848384, 119.76909040290187, 116.82489453979045, 113.0495987279674, 112.51448146451386, 109.5541408645019, 103.84076391391577, 102.46759405446491, 100.85336643080562, 98.7749188676402, 98.27830310625146, 91.22397758775438, 84.76939552881514, 82.31193159142042, 82.30921676274767, 81.85180249930224, 78.59673950952826, 76.49902532889264, 76.50865306495179, 75.24131547934496, 74.25188596100863, 1144.0853096301403, 3559.750149959659, 4418.790065893651, 396.03932693423326, 553.4321026954519, 304.2324823456282, 917.8500811359356, 443.4513956915859, 1333.3354509161447, 258.3921249368119, 236.40735638772458, 213.3086080017802, 174.2714582219414, 138.76609315419566, 137.18377967064018, 133.0095242969678, 131.13482045106022, 132.03715303970984, 127.06950421990975, 124.81092805194767, 124.55311396299527, 122.12199125498249, 121.73212880210751, 120.92069061649518, 120.90384072504116, 120.90384072504116, 109.74037052764457, 106.19191200534067, 105.33259615954744, 103.0869717110642, 102.24165612583013, 101.83233731291833, 100.97951025152551, 99.58070120132743, 97.96400444293364, 97.3176203533911, 97.30902585243312, 97.30670776468632, 444.98019125069055, 421.88344044314965, 130.2106605489175, 272.5493405002378, 154.83275336511923, 257.8311449658472, 1535.8754306008036, 1144.0853096301403, 552.1606183665077, 3559.750149959659, 669.6728810931531, 576.7804004789849, 4418.790065893651, 917.8500811359356, 532.9865922643028, 460.4412124250223, 374.26416709117433, 323.45714876277907, 249.99155673099904, 208.87785128392076, 182.74967138046745, 172.02047400467004, 165.44175711052472, 157.16224454617816, 153.40880362347713, 130.45973186204557, 130.08250642371695, 127.82566308657891, 124.27156719893672, 120.94533627510225, 102.35811113707777, 101.11744845307605, 97.74022613086422, 97.66780599480587, 96.44438954133996, 93.3121428093034, 93.25532979124311, 93.25532979124311, 91.79964081395752, 91.77588186930697, 91.10677257333516, 90.64976752408666, 90.45776437567127, 89.84707834307069, 127.71768962970317, 112.7198816646537, 3559.750149959659, 390.5750410473265, 917.8500811359356, 1535.8754306008036, 304.2324823456282, 227.36909596464324, 411.5433253018158, 382.90382841930085, 314.93737311460256, 285.26619911171116, 238.6283031626925, 203.56433283019123, 200.39407275855135, 170.33675395440176, 149.74655510349623, 142.65782826183374, 137.3543842709081, 135.9263728852989, 135.32085208247938, 131.79398836089544, 130.35343572436028, 129.3802606082633, 123.33956948009401, 123.28395241917927, 122.72346903406952, 122.72346903406952, 112.2920283227438, 78.65971038236835, 78.28301996833088, 76.80325271223573, 75.89423967628419, 67.21825730057954, 63.18212952786026, 59.50416117659517, 59.50416117659517, 61.251777937669814, 639.684740685491, 189.03013167669016, 369.01188083702647, 623.2360219386558, 238.3939160713428, 193.204018981603, 552.1606183665077, 396.03932693423326, 3559.750149959659, 576.7804004789849, 4418.790065893651, 594.2191555248111, 225.6516947157967, 225.5617604699173, 198.5063061015195, 190.159986922827, 177.17885695741666, 157.98403051897628, 157.2730751130619, 155.64323181879135, 151.26389646680215, 151.1237242384598, 149.18640662857365, 145.30409676593985, 144.2208533976676, 143.89357722335902, 142.45560696890402, 142.22147238595608, 142.0428477164082, 141.43827972906521, 141.43259694870218, 141.43259694870218, 140.64556400606648, 104.94139969713454, 88.94903975923434, 87.56076413404423, 68.52318109571264, 50.015774440502106, 49.615730939018114, 55.16515197249236, 65.07352208773797, 411.14930150838114, 1535.8754306008036, 257.269158350067, 576.7804004789849, 4418.790065893651], \"Category\": [\"Default\", \"Default\", \"Default\", \"Default\", \"Default\", \"Default\", \"Default\", \"Default\", \"Default\", \"Default\", \"Default\", \"Default\", \"Default\", \"Default\", \"Default\", \"Default\", \"Default\", \"Default\", \"Default\", \"Default\", \"Default\", \"Default\", \"Default\", \"Default\", \"Default\", \"Default\", \"Default\", \"Default\", \"Default\", \"Default\", \"Topic1\", \"Topic1\", \"Topic1\", \"Topic1\", \"Topic1\", \"Topic1\", \"Topic1\", \"Topic1\", \"Topic1\", \"Topic1\", \"Topic1\", \"Topic1\", \"Topic1\", \"Topic1\", \"Topic1\", \"Topic1\", \"Topic1\", \"Topic1\", \"Topic1\", \"Topic1\", \"Topic1\", \"Topic1\", \"Topic1\", \"Topic1\", \"Topic1\", \"Topic1\", \"Topic1\", \"Topic1\", \"Topic1\", \"Topic1\", \"Topic1\", \"Topic1\", \"Topic1\", \"Topic1\", \"Topic1\", \"Topic1\", \"Topic1\", \"Topic1\", \"Topic1\", \"Topic1\", \"Topic1\", \"Topic1\", \"Topic1\", \"Topic1\", \"Topic2\", \"Topic2\", \"Topic2\", \"Topic2\", \"Topic2\", \"Topic2\", \"Topic2\", \"Topic2\", \"Topic2\", \"Topic2\", \"Topic2\", \"Topic2\", \"Topic2\", \"Topic2\", \"Topic2\", \"Topic2\", \"Topic2\", \"Topic2\", \"Topic2\", \"Topic2\", \"Topic2\", \"Topic2\", \"Topic2\", \"Topic2\", \"Topic2\", \"Topic2\", \"Topic2\", \"Topic2\", \"Topic2\", \"Topic2\", \"Topic2\", \"Topic2\", \"Topic2\", \"Topic2\", \"Topic2\", \"Topic2\", \"Topic2\", \"Topic3\", \"Topic3\", \"Topic3\", \"Topic3\", \"Topic3\", \"Topic3\", \"Topic3\", \"Topic3\", \"Topic3\", \"Topic3\", \"Topic3\", \"Topic3\", \"Topic3\", \"Topic3\", \"Topic3\", \"Topic3\", \"Topic3\", \"Topic3\", \"Topic3\", \"Topic3\", \"Topic3\", \"Topic3\", \"Topic3\", \"Topic3\", \"Topic3\", \"Topic3\", \"Topic3\", \"Topic3\", \"Topic3\", \"Topic3\", \"Topic3\", \"Topic3\", \"Topic3\", \"Topic3\", \"Topic3\", \"Topic4\", \"Topic4\", \"Topic4\", \"Topic4\", \"Topic4\", \"Topic4\", \"Topic4\", \"Topic4\", \"Topic4\", \"Topic4\", \"Topic4\", \"Topic4\", \"Topic4\", \"Topic4\", \"Topic4\", \"Topic4\", \"Topic4\", \"Topic4\", \"Topic4\", \"Topic4\", \"Topic4\", \"Topic4\", \"Topic4\", \"Topic4\", \"Topic4\", \"Topic4\", \"Topic4\", \"Topic4\", \"Topic4\", \"Topic4\", \"Topic4\", \"Topic4\", \"Topic4\", \"Topic4\", \"Topic4\", \"Topic4\", \"Topic4\", \"Topic4\", \"Topic5\", \"Topic5\", \"Topic5\", \"Topic5\", \"Topic5\", \"Topic5\", \"Topic5\", \"Topic5\", \"Topic5\", \"Topic5\", \"Topic5\", \"Topic5\", \"Topic5\", \"Topic5\", \"Topic5\", \"Topic5\", \"Topic5\", \"Topic5\", \"Topic5\", \"Topic5\", \"Topic5\", \"Topic5\", \"Topic5\", \"Topic5\", \"Topic5\", \"Topic5\", \"Topic5\", \"Topic5\", \"Topic5\", \"Topic5\", \"Topic5\", \"Topic5\", \"Topic5\", \"Topic5\", \"Topic5\", \"Topic5\", \"Topic5\", \"Topic5\", \"Topic5\", \"Topic5\", \"Topic5\", \"Topic5\", \"Topic5\", \"Topic5\", \"Topic6\", \"Topic6\", \"Topic6\", \"Topic6\", \"Topic6\", \"Topic6\", \"Topic6\", \"Topic6\", \"Topic6\", \"Topic6\", \"Topic6\", \"Topic6\", \"Topic6\", \"Topic6\", \"Topic6\", \"Topic6\", \"Topic6\", \"Topic6\", \"Topic6\", \"Topic6\", \"Topic6\", \"Topic6\", \"Topic6\", \"Topic6\", \"Topic6\", \"Topic6\", \"Topic6\", \"Topic6\", \"Topic6\", \"Topic6\", \"Topic6\", \"Topic6\", \"Topic6\", \"Topic6\", \"Topic6\", \"Topic6\", \"Topic6\", \"Topic6\", \"Topic7\", \"Topic7\", \"Topic7\", \"Topic7\", \"Topic7\", \"Topic7\", \"Topic7\", \"Topic7\", \"Topic7\", \"Topic7\", \"Topic7\", \"Topic7\", \"Topic7\", \"Topic7\", \"Topic7\", \"Topic7\", \"Topic7\", \"Topic7\", \"Topic7\", \"Topic7\", \"Topic7\", \"Topic7\", \"Topic7\", \"Topic7\", \"Topic7\", \"Topic7\", \"Topic7\", \"Topic7\", \"Topic7\", \"Topic7\", \"Topic7\", \"Topic7\", \"Topic7\", \"Topic7\", \"Topic7\", \"Topic7\", \"Topic7\", \"Topic7\", \"Topic7\", \"Topic7\", \"Topic7\", \"Topic8\", \"Topic8\", \"Topic8\", \"Topic8\", \"Topic8\", \"Topic8\", \"Topic8\", \"Topic8\", \"Topic8\", \"Topic8\", \"Topic8\", \"Topic8\", \"Topic8\", \"Topic8\", \"Topic8\", \"Topic8\", \"Topic8\", \"Topic8\", \"Topic8\", \"Topic8\", \"Topic8\", \"Topic8\", \"Topic8\", \"Topic8\", \"Topic8\", \"Topic8\", \"Topic8\", \"Topic8\", \"Topic8\", \"Topic8\", \"Topic8\", \"Topic8\", \"Topic8\", \"Topic8\", \"Topic8\"], \"logprob\": [30.0, 29.0, 28.0, 27.0, 26.0, 25.0, 24.0, 23.0, 22.0, 21.0, 20.0, 19.0, 18.0, 17.0, 16.0, 15.0, 14.0, 13.0, 12.0, 11.0, 10.0, 9.0, 8.0, 7.0, 6.0, 5.0, 4.0, 3.0, 2.0, 1.0, -3.7107, -4.2987, -4.31, -4.4199, -4.6383, -4.6642, -4.6777, -4.8072, -4.8121, -4.8373, -4.9925, -5.0012, -5.0176, -5.0235, -5.0376, -5.0448, -5.0435, -5.0739, -5.0714, -5.2427, -5.3052, -5.3372, -5.3622, -5.0807, -5.0807, -5.3936, -5.4011, -5.4061, -5.4182, -5.4199, -5.1289, -5.0822, -4.6313, -4.0275, -2.9193, -4.7871, -4.4293, -4.2967, -4.2161, -4.0471, -3.2403, -4.697, -4.6048, -4.882, -2.7604, -2.946, -3.0169, -3.0179, -3.0179, -3.018, -3.0181, -4.2787, -4.6194, -4.632, -4.7055, -4.7077, -4.7835, -4.8678, -4.9688, -5.0099, -5.0193, -5.1399, -5.2388, -5.2781, -5.3143, -5.3296, -5.3378, -5.3707, -5.3845, -5.4063, -5.3949, -5.4405, -5.437, -5.437, -2.6427, -2.9985, -3.5326, -4.691, -2.5441, -4.7255, -5.3164, -3.1367, -3.1832, -3.2357, -3.2357, -3.2357, -3.2357, -3.6773, -3.7737, -3.963, -4.0131, -4.139, -4.1614, -4.2567, -4.5322, -4.6917, -4.7137, -4.7402, -4.8153, -4.8115, -4.8485, -4.8164, -4.8643, -4.9779, -5.0003, -5.0537, -5.1052, -5.1225, -5.1452, -5.1607, -5.1653, -5.1637, -2.8619, -4.2493, -5.0044, -5.0447, -3.7712, -3.8509, -4.5669, -4.5897, -4.6174, -4.6201, -4.6202, -4.6202, -4.7957, -4.8213, -4.8279, -4.8529, -4.886, -4.8908, -4.9177, -4.9717, -4.9851, -5.0011, -5.0221, -5.0272, -5.1024, -5.1766, -5.2063, -5.2064, -5.2122, -5.253, -5.2804, -5.2803, -5.2972, -5.3106, -3.3498, -3.1826, -3.3544, -4.5158, -4.5195, -4.889, -4.9316, -5.1713, -2.2777, -3.9215, -4.0108, -4.114, -4.3171, -4.5462, -4.5578, -4.5889, -4.6032, -4.5965, -4.6349, -4.6529, -4.655, -4.6749, -4.6781, -4.6848, -4.685, -4.685, -4.7826, -4.8158, -4.824, -4.8457, -4.854, -4.8581, -4.8665, -4.8806, -4.8971, -4.9038, -4.9039, -4.9039, -3.5461, -3.5942, -4.6592, -4.1286, -4.5572, -4.2543, -3.2764, -3.5936, -3.9812, -3.1038, -4.0147, -4.2522, -3.9644, -4.5174, -3.1419, -3.2885, -3.4962, -3.6424, -3.9009, -4.0812, -4.2155, -4.2763, -4.3155, -4.3671, -4.3915, -4.5545, -4.5574, -4.575, -4.6034, -4.6307, -4.7989, -4.8112, -4.8455, -4.8462, -4.8589, -4.8923, -4.8929, -4.8929, -4.9087, -4.909, -4.9164, -4.9215, -4.9236, -4.9305, -4.6376, -4.754, -3.2785, -4.2911, -4.1951, -4.1373, -4.6142, -4.8777, -3.3538, -3.4261, -3.622, -3.7213, -3.9004, -4.0599, -4.0757, -4.239, -4.3688, -4.4173, -4.4555, -4.466, -4.4705, -4.497, -4.5081, -4.5157, -4.5638, -4.5643, -4.5689, -4.5689, -4.6584, -5.0177, -5.0226, -5.0419, -5.0539, -5.1768, -5.2396, -5.3005, -5.3005, -5.2718, -2.9588, -4.2184, -3.6315, -3.2999, -4.1394, -4.3349, -3.6388, -4.1942, -3.3893, -4.2416, -3.8263, -2.6758, -3.6465, -3.6469, -3.7752, -3.8183, -3.8894, -4.0046, -4.0091, -4.0196, -4.0483, -4.0493, -4.0622, -4.0888, -4.0963, -4.0986, -4.1087, -4.1103, -4.1116, -4.1159, -4.1159, -4.1159, -4.1215, -4.4165, -4.5833, -4.5992, -4.8471, -5.1667, -5.1748, -5.0691, -4.9057, -3.3221, -2.319, -3.983, -3.8302, -3.6177], \"loglift\": [30.0, 29.0, 28.0, 27.0, 26.0, 25.0, 24.0, 23.0, 22.0, 21.0, 20.0, 19.0, 18.0, 17.0, 16.0, 15.0, 14.0, 13.0, 12.0, 11.0, 10.0, 9.0, 8.0, 7.0, 6.0, 5.0, 4.0, 3.0, 2.0, 1.0, 1.5671, 1.5659, 1.5659, 1.5656, 1.5648, 1.5647, 1.5647, 1.5641, 1.5641, 1.564, 1.5633, 1.5632, 1.5631, 1.563, 1.563, 1.563, 1.563, 1.5628, 1.562, 1.5617, 1.5613, 1.5611, 1.5609, 1.5608, 1.5608, 1.5607, 1.5606, 1.5605, 1.5605, 1.5605, 1.5604, 1.5499, 1.4578, 1.1304, 0.568, 1.3133, 1.1408, 1.0518, 0.9765, 0.7955, 0.0308, 1.0, 0.0175, 0.3477, 1.9734, 1.9732, 1.9731, 1.9731, 1.9731, 1.9731, 1.9731, 1.9703, 1.9687, 1.9686, 1.9682, 1.9682, 1.9677, 1.9671, 1.9664, 1.966, 1.966, 1.9649, 1.964, 1.9635, 1.9632, 1.9629, 1.9629, 1.9625, 1.9623, 1.9621, 1.962, 1.9617, 1.9607, 1.9607, 1.9268, 1.9286, 1.9116, 1.9379, 0.7269, -1.2383, 1.6134, 2.0187, 2.0186, 2.0185, 2.0185, 2.0185, 2.0185, 2.0177, 2.0175, 2.017, 2.0168, 2.0164, 2.0163, 2.0159, 2.0147, 2.0138, 2.0136, 2.0135, 2.013, 2.0129, 2.0127, 2.0127, 2.0126, 2.0117, 2.0116, 2.0111, 2.0106, 2.0105, 2.0102, 2.0101, 2.01, 2.01, 0.4091, 0.9432, 1.6011, 0.601, 2.0562, 2.0559, 2.053, 2.0529, 2.0527, 2.0527, 2.0527, 2.0527, 2.0515, 2.0513, 2.0512, 2.0511, 2.0508, 2.0508, 2.0506, 2.0501, 2.05, 2.0499, 2.0497, 2.0496, 2.0489, 2.0482, 2.0478, 2.0477, 2.0476, 2.0473, 2.047, 2.047, 2.0468, 2.0466, 1.2725, 0.3046, -0.0834, 1.1673, 0.829, 1.0579, -0.089, 0.3988, 2.1915, 2.1887, 2.1883, 2.1879, 2.187, 2.1857, 2.1856, 2.1854, 2.1853, 2.1851, 2.1851, 2.1849, 2.1849, 2.1848, 2.1847, 2.1847, 2.1847, 2.1847, 2.1839, 2.1836, 2.1836, 2.1834, 2.1833, 2.1833, 2.1832, 2.1831, 2.1829, 2.1829, 2.1829, 2.1829, 2.0205, 2.0257, 2.1363, 1.9282, 2.0651, 1.858, 1.0514, 1.0287, 1.3696, 0.3834, 1.1431, 1.055, -0.6934, 0.3252, 2.2442, 2.244, 2.2435, 2.2432, 2.2424, 2.2417, 2.2411, 2.2408, 2.2405, 2.2403, 2.2401, 2.2391, 2.2391, 2.239, 2.2388, 2.2386, 2.2373, 2.2372, 2.2369, 2.2369, 2.2368, 2.2364, 2.2364, 2.2364, 2.2363, 2.2363, 2.2362, 2.2362, 2.2361, 2.2361, 2.1772, 2.1858, 0.2087, 1.4059, 0.6475, 0.1905, 1.3326, 1.3604, 2.2909, 2.2908, 2.2903, 2.2899, 2.2894, 2.2887, 2.2887, 2.2879, 2.2869, 2.2869, 2.2866, 2.2866, 2.2865, 2.2864, 2.2863, 2.2862, 2.2859, 2.2859, 2.2859, 2.2859, 2.2852, 2.2818, 2.2818, 2.2815, 2.2814, 2.2799, 2.279, 2.2781, 2.2781, 2.2779, 2.2448, 2.2043, 2.1223, 1.9298, 2.0513, 2.066, 1.712, 1.489, 0.0979, 1.0655, -0.5553, 2.6016, 2.5992, 2.5992, 2.5987, 2.5985, 2.5981, 2.5975, 2.5975, 2.5975, 2.5973, 2.5973, 2.5972, 2.5971, 2.597, 2.597, 2.5969, 2.5969, 2.5969, 2.5969, 2.5969, 2.5969, 2.5969, 2.5948, 2.5933, 2.5931, 2.5904, 2.5856, 2.5855, 2.5853, 2.5835, 2.3236, 2.0088, 2.1316, 1.477, -0.3467]}, \"token.table\": {\"Topic\": [6, 1, 6, 6, 6, 6, 3, 7, 3, 1, 4, 1, 8, 2, 6, 7, 7, 6, 3, 4, 4, 1, 7, 5, 1, 5, 6, 8, 2, 3, 3, 1, 2, 4, 5, 2, 4, 5, 4, 2, 5, 1, 4, 8, 5, 6, 4, 2, 6, 3, 3, 5, 7, 1, 1, 6, 8, 3, 4, 1, 5, 7, 6, 7, 4, 7, 6, 7, 1, 4, 7, 1, 2, 3, 4, 5, 6, 7, 1, 3, 2, 3, 5, 7, 1, 2, 5, 7, 2, 2, 3, 4, 4, 8, 1, 6, 4, 3, 6, 3, 1, 2, 3, 4, 3, 8, 7, 4, 1, 5, 8, 3, 5, 1, 8, 8, 2, 7, 1, 2, 2, 6, 4, 4, 5, 1, 2, 4, 5, 1, 3, 1, 2, 8, 6, 1, 4, 4, 7, 8, 1, 5, 7, 8, 2, 4, 2, 3, 1, 1, 5, 6, 2, 2, 2, 4, 6, 1, 5, 1, 6, 7, 8, 7, 4, 6, 8, 1, 2, 8, 3, 4, 2, 5, 2, 7, 2, 3, 4, 6, 5, 7, 1, 2, 3, 3, 8, 8, 7, 4, 7, 2, 4, 6, 5, 7, 3, 1, 4, 6, 5, 3, 8, 1, 4, 7, 5, 7, 2, 1, 2, 2, 2, 3, 1, 8, 4, 7, 7, 1, 3, 5, 1, 4, 3, 8, 5, 6, 8, 3, 1, 2, 7, 7, 1, 8, 3, 6, 1, 8, 4, 1, 5, 5, 5, 6, 4, 6, 7, 8, 3, 8, 2, 5, 7, 7, 7, 1, 8, 5, 2, 6, 8, 2, 7, 5, 5, 5, 6, 2, 7, 5, 6, 4, 5, 7, 8, 7, 3, 5, 2, 5, 4, 5, 8, 5, 7, 3, 3, 1, 6, 6, 5, 8, 5, 2, 8, 4, 7, 8, 5, 8, 1, 4, 6, 7, 1, 5, 1, 2, 3, 4, 5, 6, 1, 2, 3, 4, 5, 6, 7, 8, 3, 6, 1, 7, 1, 7, 2, 5, 7, 3, 6, 1, 7, 6, 5, 1, 2, 4, 7, 1, 2, 7, 4, 6, 8, 6, 4, 6, 2, 2, 7], \"Freq\": [0.9966222598839756, 0.5849519673539187, 0.413424698731341, 0.9953922717178952, 0.9940677177494446, 0.9905719990155248, 0.9954788580727588, 0.992152287023389, 0.9970036385721818, 0.9961093880843116, 0.9954274200279177, 0.9941827623075541, 0.9796909184779203, 0.9934342393126809, 0.9317425044645052, 0.06263815156063901, 0.9939755343110094, 0.9865387877126891, 0.9978814507387153, 0.9924075793315075, 0.9954321092214067, 0.9884623270816018, 0.990139490063624, 0.9913461546890687, 0.9975581208849753, 0.3196873849384586, 0.12826561065758932, 0.5521281108509428, 0.9924875462947331, 0.9979697102362035, 0.9924276098783456, 0.21239674869923555, 0.01922933527318182, 0.4553856216967149, 0.3120396678420868, 0.955536793536953, 0.04386459225914052, 0.9918263948871108, 0.9975130682626409, 0.9940649094735529, 0.9865712467855116, 0.9885736541166704, 0.9954366640616509, 0.9916444274124623, 0.992704151127707, 0.9935407095363966, 0.984093922719233, 0.9846894881177485, 0.9889490046458737, 0.9944563329660455, 0.9985983561498133, 0.44008933617700324, 0.5596197731633498, 0.9926066998984007, 0.998107124271938, 0.9865387877126891, 0.9935957144779393, 0.9901454871607648, 0.9909236638527922, 0.9934719338990851, 0.9894557799785719, 0.9916131094411426, 0.15446657129496044, 0.8427912925040825, 0.9919033346613979, 0.9976395419627115, 0.9981489360546362, 0.995014542384763, 0.1414000989081052, 0.40905028612701866, 0.44692531262026114, 0.36772243692856765, 0.040171358656062015, 0.013484092416020815, 0.17304585267226713, 0.1637755391362528, 0.1303462266882012, 0.11124376243217172, 0.9948026897980429, 0.9964859759628633, 0.9985484427251256, 0.988081706065498, 0.9446231167362168, 0.046079176426156915, 0.10067371011606545, 0.016778951686010908, 0.09647897219456272, 0.7844159913210099, 0.9863775642994573, 0.9861092766968271, 0.9942782831599742, 0.9840614651356674, 0.9959030791224303, 0.9968017617656603, 0.992215189412676, 0.999041761655742, 0.9869930283099266, 0.9981157922442567, 0.9958978236469345, 0.9885338067837581, 0.5534516866361052, 0.07575176716527697, 0.3401099750277742, 0.02937313420694413, 0.24078844263336763, 0.7564162187775488, 0.9902391090349157, 0.9895933568560142, 0.9970258721581731, 0.9915833131916622, 0.9969413207560694, 0.9865307196285059, 0.9946123553991735, 0.9941827623075541, 0.989330522714993, 0.9920474884047082, 0.9986550542970342, 0.9953887685670753, 0.9783639667169406, 0.013044852889559208, 0.986156827191431, 0.9921837724031625, 0.9917819122426872, 0.9835022092392082, 0.9901596055774221, 0.9979567289665445, 0.9934886619751395, 0.2792525317666229, 0.7175238663447949, 0.3366156510232229, 0.660528824649343, 0.9933589760697275, 0.9941802106954029, 0.9919053206523322, 0.9931624757205932, 0.9981512884132844, 0.9979688613107419, 0.9952348408059342, 0.3731500527139459, 0.6258037342390135, 0.06068167359871173, 0.32074598902176205, 0.2930057953766367, 0.3242135132274027, 0.9385019631019673, 0.05965054850224368, 0.9905763788820005, 0.9986344512360843, 0.997026617112064, 0.9959108102680176, 0.9989984134035984, 0.9973352010196203, 0.9922708403998347, 0.9817193288114675, 0.998684853092557, 0.9907155908576636, 0.9915459066858997, 0.997449944242761, 0.986460618862171, 0.8942870507728924, 0.10231250157147498, 0.9893317527590824, 0.9974494205677246, 0.9836104947298927, 0.053229296477175586, 0.9403842377634354, 0.9925642102580355, 0.9941977665450842, 0.9984658497350943, 0.9937900131430331, 0.9981157922442567, 0.9933516923305398, 0.9985952540002118, 0.9887758683045398, 0.6939665866641308, 0.29866916388076514, 0.9828711102026099, 0.9916314184919209, 0.9915385429261688, 0.9926048107194304, 0.7668336295233766, 0.22748174655717393, 0.774087294495816, 0.22226268851860065, 0.9914441749286979, 0.9981157922442567, 0.995409993833587, 0.9969012651320083, 0.9931847450525249, 0.9947678702682667, 0.9941048844221583, 0.9923127464871548, 0.9865827206824329, 0.9878519176777524, 0.045334831606149276, 0.9535947337845193, 0.9919504318304757, 0.2300871999607043, 0.36813951993712685, 0.40100911993151317, 0.992144990892087, 0.9960652547664306, 0.9979483065911359, 0.9982193509671701, 0.993476709974445, 0.9941048844221583, 0.9924101352718632, 0.9970236205842059, 0.9948321624029156, 0.9901738393438079, 0.9890718479817757, 0.9918511996918419, 0.9926593285104524, 0.9906499501597794, 0.9918577073106921, 0.9926582173395293, 0.1966832791590033, 0.7970848681706977, 0.9896171841053565, 0.6450910768475747, 0.0029865327631832164, 0.3509175996740279, 0.995807407493159, 0.9831400112629325, 0.9981157922442567, 0.9969413207560694, 0.9982768878517617, 0.9912892816696518, 0.992364903564797, 0.9965737318394046, 0.9893965773122544, 0.9927393263023824, 0.9895414232617812, 0.9891391749967945, 0.9945383677906628, 0.9958672676526003, 0.9960278750496655, 0.9957972983802503, 0.9916626257768165, 0.997509504852476, 0.9921547000339368, 0.9950079489897152, 0.9923859960458282, 0.994168536731295, 0.9925243009682656, 0.9924265969072639, 0.9918602865053944, 0.9928321104197647, 0.9882172918511545, 0.9914114770050947, 0.9927706700301095, 0.9910250516333305, 0.9621540416597785, 0.02600416328810212, 0.00650104082202553, 0.9955613419477878, 0.9884940334408217, 0.9959610434920801, 0.9937713291923003, 0.9902999108523532, 0.9534814311414203, 0.045601285837198365, 0.9788788405210348, 0.9837825054302417, 0.9812901284478074, 0.9955592120871454, 0.9913708481171588, 0.9944792482314511, 0.9973298330588353, 0.9948456549886904, 0.979563402405337, 0.9925243009682656, 0.9985866790561666, 0.993578556868766, 0.9932534351389121, 0.9980335109061527, 0.9875900056823732, 0.9986797858975909, 0.9947836563430171, 0.9935027479996771, 0.1162544720596246, 0.8783671222282747, 0.99293905170606, 0.9938651889671078, 0.9933465144901573, 0.8462052922129497, 0.1517006686320134, 0.9952935587676948, 0.994353153643334, 0.5658323670846677, 0.43269533953533407, 0.9916783089942094, 0.9939857389391613, 0.9915348344646021, 0.9873486820971454, 0.9986617483907868, 0.9835029355520276, 0.9949418537708468, 0.989585405123826, 0.9938999421403107, 0.990812537173261, 0.9971119440666399, 0.6517061459447866, 0.18942323965177188, 0.1555976611425269, 0.991527295459238, 0.998330469039385, 0.986547744765031, 0.46194907939132673, 0.029416568734825052, 0.03486408146349636, 0.11657677239356594, 0.1547093614942651, 0.20264747350657258, 0.21476467219496095, 0.287182686001481, 0.19960215055422084, 0.11745296614244967, 0.055897654406907644, 0.014709909054449381, 0.057934411045216024, 0.05227675371658164, 0.9972065231734752, 0.9964760631078736, 0.9946567228335764, 0.9972277420983077, 0.992999222783785, 0.991527295459238, 0.9984152517814282, 0.84273414271768, 0.15506308226005314, 0.9966795594349958, 0.9867317682791256, 0.07935242845651412, 0.9151980081984629, 0.9897678348507413, 0.9878556727963991, 0.5962791070354581, 0.11022128948231194, 0.2927188343628612, 0.9973670216216384, 0.2952332559784403, 0.008022642825501096, 0.6947608686883948, 0.9922337773375113, 0.9949394683935568, 0.9910292820578774, 0.9859381344185296, 0.9918602865053944, 0.9960336391197964, 0.9817193288114675, 0.9959380599407551, 0.9818760951339178], \"Term\": [\"0\", \"1\", \"1\", \"118\", \"18\", \"18002320233\", \"1845\", \"20\", \"2021\", \"204344\", \"21\", \"21st\", \"23\", \"2nd\", \"3\", \"3\", \"30\", \"438829\", \"4518\", \"5\", \"6\", \"84\", \"across\", \"action\", \"administered\", \"africa\", \"africa\", \"africa\", \"afternoon\", \"age\", \"america\", \"amp\", \"amp\", \"amp\", \"amp\", \"another\", \"another\", \"astrazeneca\", \"australia\", \"authority\", \"bakarwals\", \"beautiful\", \"benefit\", \"best\", \"blown\", \"bringing\", \"budget\", \"buy\", \"call\", \"calls\", \"capacity\", \"cases\", \"cases\", \"centre\", \"china\", \"code\", \"code411038\", \"code411041\", \"coming\", \"committed\", \"community\", \"continent\", \"coronavirus\", \"coronavirus\", \"cost\", \"countries\", \"covaxin\", \"coverage\", \"covid\", \"covid\", \"covid\", \"covid19\", \"covid19\", \"covid19\", \"covid19\", \"covid19\", \"covid19\", \"covid19\", \"covidvaccination\", \"covishield\", \"crime\", \"critical\", \"days\", \"days\", \"deaths\", \"deaths\", \"deaths\", \"deaths\", \"deliver\", \"delivery\", \"delta\", \"deltavariant\", \"designers\", \"desperate\", \"directly\", \"dont\", \"dose\", \"dose1\", \"dose2\", \"dose2\\u2026\", \"doses\", \"doses\", \"doses\", \"doses\", \"dr\", \"dr\", \"dying\", \"economy\", \"education\", \"elsewhere\", \"enable\", \"every\", \"everyone\", \"expanded\", \"expected\", \"experts\", \"expired\", \"failure\", \"far\", \"far\", \"fight\", \"find\", \"fireworks\", \"folks\", \"forward\", \"free\", \"friday\", \"full\", \"full\", \"fully\", \"fully\", \"fund\", \"future\", \"germany\", \"global\", \"go\", \"government\", \"graphic\", \"head\", \"head\", \"health\", \"health\", \"health\", \"health\", \"help\", \"help\", \"helping\", \"hospital\", \"huge\", \"increased\", \"india\", \"indiafightscorona\", \"indian\", \"india\\u2764\\ufe0f\", \"israel\", \"it\\u2019s\", \"i\\u2019m\", \"jab\", \"jammu\", \"june\", \"june\", \"kills\", \"know\", \"last\", \"latest\", \"latest\", \"leaders\", \"less\", \"liars\", \"lift\", \"limit\", \"little\", \"load\", \"long\", \"make\", \"make\", \"mandates\", \"many\", \"mask\", \"medical\", \"midst\", \"midst\", \"million\", \"million\", \"millions\", \"min\", \"minister\", \"moeti\", \"money\", \"mrna\", \"mulago\", \"must\", \"myocarditis\", \"near\", \"need\", \"need\", \"needs\", \"new\", \"new\", \"new\", \"nft\", \"now\", \"one\", \"ontario\", \"order\", \"overstretched\", \"overwhelm\", \"oxygen\", \"pa\", \"pace\", \"palestinian\", \"palestinians\", \"pandemic\", \"parts\", \"past\", \"patent\", \"patients\", \"patients\", \"pay\", \"people\", \"people\", \"people\", \"per\", \"personnel\", \"pin\", \"plead\", \"please\", \"pleased\", \"pmc\", \"pmcg\", \"population\", \"post\", \"ppe\", \"ppes\", \"preregister\", \"production\", \"protect\", \"provide\", \"providing\", \"public\", \"puts\", \"question\", \"quickly\", \"reach\", \"rebound\", \"recorded\", \"release\", \"reported\", \"reports\", \"request\", \"response\", \"restrictions\", \"retweet\", \"retweet\", \"retweet\", \"rich\", \"risen\", \"risk\", \"roberts\", \"rouse\", \"rt\", \"rt\", \"rwanda\", \"safe\", \"safety\", \"said\", \"see\", \"seen\", \"sending\", \"sent\", \"shortage\", \"sobering\", \"south\", \"speaks\", \"staff\", \"stand\", \"story\", \"support\", \"surges\", \"surging\", \"systems\", \"systems\", \"taiwan\", \"take\", \"technology\", \"third\", \"third\", \"threat\", \"time\", \"today\", \"today\", \"total\", \"trajectory\", \"transfer\", \"travel\", \"tried\", \"truth\", \"uganda\", \"ugandans\", \"uk\", \"urgent\", \"urgently\", \"vaccinated\", \"vaccinated\", \"vaccinated\", \"vaccinateourworld\", \"vaccination\", \"vaccinationdrive\", \"vaccine\", \"vaccine\", \"vaccine\", \"vaccine\", \"vaccine\", \"vaccine\", \"vaccines\", \"vaccines\", \"vaccines\", \"vaccines\", \"vaccines\", \"vaccines\", \"vaccines\", \"vaccines\", \"variant\", \"variants\", \"vax\", \"via\", \"virus\", \"vownow\", \"war\", \"wave\", \"wave\", \"way\", \"wecandothis\", \"week\", \"week\", \"welcome\", \"we\\u2019ve\", \"will\", \"will\", \"will\", \"workers\", \"world\", \"world\", \"world\", \"yet\", \"youre\", \"zimbabwe\", \"zip\", \"zweli\", \"\\u2026\", \"\\u2764\\ufe0findia\", \"\\ud83d\\udd30\", \"\\ud83e\\uddf5\"]}, \"R\": 30, \"lambda.step\": 0.01, \"plot.opts\": {\"xlab\": \"PC1\", \"ylab\": \"PC2\"}, \"topic.order\": [4, 8, 3, 2, 7, 6, 1, 5]};\n",
       "\n",
       "function LDAvis_load_lib(url, callback){\n",
       "  var s = document.createElement('script');\n",
       "  s.src = url;\n",
       "  s.async = true;\n",
       "  s.onreadystatechange = s.onload = callback;\n",
       "  s.onerror = function(){console.warn(\"failed to load library \" + url);};\n",
       "  document.getElementsByTagName(\"head\")[0].appendChild(s);\n",
       "}\n",
       "\n",
       "if(typeof(LDAvis) !== \"undefined\"){\n",
       "   // already loaded: just create the visualization\n",
       "   !function(LDAvis){\n",
       "       new LDAvis(\"#\" + \"ldavis_el872441123076995367489561874\", ldavis_el872441123076995367489561874_data);\n",
       "   }(LDAvis);\n",
       "}else if(typeof define === \"function\" && define.amd){\n",
       "   // require.js is available: use it to load d3/LDAvis\n",
       "   require.config({paths: {d3: \"https://d3js.org/d3.v5\"}});\n",
       "   require([\"d3\"], function(d3){\n",
       "      window.d3 = d3;\n",
       "      LDAvis_load_lib(\"https://cdn.jsdelivr.net/gh/bmabey/pyLDAvis@3.3.1/pyLDAvis/js/ldavis.v3.0.0.js\", function(){\n",
       "        new LDAvis(\"#\" + \"ldavis_el872441123076995367489561874\", ldavis_el872441123076995367489561874_data);\n",
       "      });\n",
       "    });\n",
       "}else{\n",
       "    // require.js not available: dynamically load d3 & LDAvis\n",
       "    LDAvis_load_lib(\"https://d3js.org/d3.v5.js\", function(){\n",
       "         LDAvis_load_lib(\"https://cdn.jsdelivr.net/gh/bmabey/pyLDAvis@3.3.1/pyLDAvis/js/ldavis.v3.0.0.js\", function(){\n",
       "                 new LDAvis(\"#\" + \"ldavis_el872441123076995367489561874\", ldavis_el872441123076995367489561874_data);\n",
       "            })\n",
       "         });\n",
       "}\n",
       "</script>"
      ],
      "text/plain": [
       "PreparedData(topic_coordinates=              x         y  topics  cluster       Freq\n",
       "topic                                                \n",
       "3     -0.050226  0.196331       1        1  20.835076\n",
       "7      0.237506  0.109832       2        1  13.886245\n",
       "2      0.285365 -0.113674       3        1  13.265830\n",
       "1     -0.018802  0.175884       4        1  12.761029\n",
       "6     -0.185535 -0.072350       5        1  11.167640\n",
       "5     -0.114452  0.060483       6        1  10.583496\n",
       "0     -0.140704 -0.065311       7        1  10.095634\n",
       "4     -0.013153 -0.291194       8        1   7.405050, topic_info=         Term         Freq        Total Category  logprob  loglift\n",
       "224     india  1333.000000  1333.000000  Default  30.0000  30.0000\n",
       "19     africa  1535.000000  1535.000000  Default  29.0000  29.0000\n",
       "210        rt  1206.000000  1206.000000  Default  28.0000  28.0000\n",
       "472    israel  1023.000000  1023.000000  Default  27.0000  27.0000\n",
       "471   expired   850.000000   850.000000  Default  26.0000  26.0000\n",
       "..        ...          ...          ...      ...      ...      ...\n",
       "22         dr   310.929414   411.149302   Topic8  -3.3221   2.3236\n",
       "19     africa   847.772818  1535.875431   Topic8  -2.3190   2.0088\n",
       "8        head   160.563179   257.269158   Topic8  -3.9830   2.1316\n",
       "26     health   187.061042   576.780400   Topic8  -3.8302   1.4770\n",
       "42   vaccines   231.356363  4418.790066   Topic8  -3.6177  -0.3467\n",
       "\n",
       "[342 rows x 6 columns], token_table=      Topic      Freq     Term\n",
       "term                          \n",
       "688       6  0.996622        0\n",
       "285       1  0.584952        1\n",
       "285       6  0.413425        1\n",
       "1048      6  0.995392      118\n",
       "681       6  0.994068       18\n",
       "...     ...       ...      ...\n",
       "2953      4  0.991860    zweli\n",
       "510       6  0.996034        …\n",
       "6664      2  0.981719  ❤️india\n",
       "6440      2  0.995938        🔰\n",
       "18        7  0.981876        🧵\n",
       "\n",
       "[353 rows x 3 columns], R=30, lambda_step=0.01, plot_opts={'xlab': 'PC1', 'ylab': 'PC2'}, topic_order=[4, 8, 3, 2, 7, 6, 1, 5])"
      ]
     },
     "execution_count": 142,
     "metadata": {},
     "output_type": "execute_result"
    }
   ],
   "source": [
    "lda_prepared"
   ]
  },
  {
   "cell_type": "code",
   "execution_count": null,
   "metadata": {},
   "outputs": [],
   "source": []
  }
 ],
 "metadata": {
  "kernelspec": {
   "display_name": "Python 3",
   "language": "python",
   "name": "python3"
  },
  "language_info": {
   "codemirror_mode": {
    "name": "ipython",
    "version": 3
   },
   "file_extension": ".py",
   "mimetype": "text/x-python",
   "name": "python",
   "nbconvert_exporter": "python",
   "pygments_lexer": "ipython3",
   "version": "3.7.6"
  }
 },
 "nbformat": 4,
 "nbformat_minor": 4
}
