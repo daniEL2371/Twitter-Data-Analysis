{
 "cells": [
  {
   "cell_type": "markdown",
   "metadata": {},
   "source": [
    "## Sentiment Analyisis and Topic Modeling for Tweeter Data"
   ]
  },
  {
   "cell_type": "markdown",
   "metadata": {},
   "source": [
    "### Helper Functions"
   ]
  },
  {
   "cell_type": "markdown",
   "metadata": {},
   "source": [
    "#### A. Stemmer"
   ]
  },
  {
   "cell_type": "code",
   "execution_count": 2,
   "metadata": {},
   "outputs": [],
   "source": [
    "from nltk.stem import PorterStemmer"
   ]
  },
  {
   "cell_type": "code",
   "execution_count": 3,
   "metadata": {},
   "outputs": [],
   "source": [
    "stemmer = PorterStemmer()"
   ]
  },
  {
   "cell_type": "code",
   "execution_count": 4,
   "metadata": {},
   "outputs": [],
   "source": [
    "def get_stem_word(text: str) -> str:\n",
    "    \n",
    "    stemmed_words = []\n",
    "    sent_list = text.split()\n",
    "    \n",
    "    for word in sent_list:\n",
    "        try:\n",
    "            stemmed_words.append(stemmer.stem(word)) \n",
    "        except:\n",
    "             stemmed_words.append(word)\n",
    "    return ' '.join(stemmed_words)"
   ]
  },
  {
   "cell_type": "markdown",
   "metadata": {},
   "source": [
    "#### B. Reader"
   ]
  },
  {
   "cell_type": "code",
   "execution_count": 5,
   "metadata": {},
   "outputs": [],
   "source": [
    "# path for the cleaned data we are going to use\n",
    "CLEANED_SAVE_PATH = \"../cleaned_tweet_data.csv\""
   ]
  },
  {
   "cell_type": "code",
   "execution_count": 6,
   "metadata": {},
   "outputs": [],
   "source": [
    "# taking a csv file path and reading a dataframe\n",
    "\n",
    "def read_proccessed_data(csv_path: str):\n",
    "    try:    \n",
    "        df = pd.read_csv(csv_path)\n",
    "        print(\"file read as csv\")\n",
    "        return df\n",
    "    \n",
    "    except FileNotFoundError:\n",
    "        print(\"file not found\")"
   ]
  },
  {
   "cell_type": "markdown",
   "metadata": {},
   "source": [
    "### A. Sentiment Analyisis"
   ]
  },
  {
   "cell_type": "code",
   "execution_count": 7,
   "metadata": {},
   "outputs": [],
   "source": [
    "import pandas as pd\n",
    "from wordcloud import STOPWORDS,WordCloud"
   ]
  },
  {
   "cell_type": "code",
   "execution_count": 8,
   "metadata": {},
   "outputs": [
    {
     "name": "stdout",
     "output_type": "stream",
     "text": [
      "file read as csv\n"
     ]
    }
   ],
   "source": [
    "# reading the data\n",
    "\n",
    "df = read_proccessed_data(CLEANED_SAVE_PATH)"
   ]
  },
  {
   "cell_type": "code",
   "execution_count": 9,
   "metadata": {},
   "outputs": [
    {
     "name": "stdout",
     "output_type": "stream",
     "text": [
      "<class 'pandas.core.frame.DataFrame'>\n",
      "RangeIndex: 6532 entries, 0 to 6531\n",
      "Data columns (total 16 columns):\n",
      " #   Column              Non-Null Count  Dtype  \n",
      "---  ------              --------------  -----  \n",
      " 0   created_at          6532 non-null   object \n",
      " 1   source              6532 non-null   object \n",
      " 2   original_text       6532 non-null   object \n",
      " 3   polarity            6532 non-null   float64\n",
      " 4   subjectivity        6532 non-null   float64\n",
      " 5   lang                6532 non-null   object \n",
      " 6   favorite_count      6532 non-null   int64  \n",
      " 7   retweet_count       6532 non-null   float64\n",
      " 8   original_author     6532 non-null   object \n",
      " 9   followers_count     6532 non-null   int64  \n",
      " 10  friends_count       6532 non-null   int64  \n",
      " 11  possibly_sensitive  6532 non-null   float64\n",
      " 12  hashtags            3405 non-null   object \n",
      " 13  user_mentions       2721 non-null   object \n",
      " 14  place               6532 non-null   object \n",
      " 15  clean_text          6530 non-null   object \n",
      "dtypes: float64(4), int64(3), object(9)\n",
      "memory usage: 816.6+ KB\n"
     ]
    }
   ],
   "source": [
    "# inspecting the columns\n",
    "df.info()"
   ]
  },
  {
   "cell_type": "code",
   "execution_count": 10,
   "metadata": {},
   "outputs": [
    {
     "data": {
      "text/plain": [
       " 0.000000    1829\n",
       "-0.750000     501\n",
       " 0.500000     210\n",
       " 0.133333     202\n",
       " 0.337500     189\n",
       "             ... \n",
       " 0.518182       1\n",
       "-0.060000       1\n",
       " 0.096591       1\n",
       " 0.260000       1\n",
       "-0.292857       1\n",
       "Name: polarity, Length: 380, dtype: int64"
      ]
     },
     "execution_count": 10,
     "metadata": {},
     "output_type": "execute_result"
    }
   ],
   "source": [
    "# inspecting the polarity column\n",
    "df['polarity']\n",
    "df['polarity'].value_counts()\n"
   ]
  },
  {
   "cell_type": "code",
   "execution_count": 11,
   "metadata": {},
   "outputs": [
    {
     "name": "stdout",
     "output_type": "stream",
     "text": [
      "sum of null values in clean_text column: 2\n",
      "sum of null values in polarity cloumn: 0\n"
     ]
    }
   ],
   "source": [
    "# checking if there are null values\n",
    "text_null_sum = df['clean_text'].isnull().sum()\n",
    "polarity_null_sum = df['polarity'].isnull().sum()\n",
    "\n",
    "print(f'sum of null values in clean_text column: {text_null_sum}')\n",
    "print(f'sum of null values in polarity cloumn: {polarity_null_sum}')"
   ]
  },
  {
   "cell_type": "markdown",
   "metadata": {},
   "source": [
    "#### A.1 Data preparation for Sentiment Analysis\n",
    "\n"
   ]
  },
  {
   "cell_type": "code",
   "execution_count": 12,
   "metadata": {},
   "outputs": [],
   "source": [
    "# creating cleanedTweet dataframe\n",
    "cleanedTweet = pd.DataFrame(columns=['clean_text','polarity'])\n",
    "\n",
    "cleanedTweet['clean_text'] = df['clean_text']\n",
    "cleanedTweet['polarity'] = df['polarity']\n",
    "cleanedTweet.dropna(inplace=True)"
   ]
  },
  {
   "cell_type": "code",
   "execution_count": 13,
   "metadata": {},
   "outputs": [
    {
     "data": {
      "text/html": [
       "<div>\n",
       "<style scoped>\n",
       "    .dataframe tbody tr th:only-of-type {\n",
       "        vertical-align: middle;\n",
       "    }\n",
       "\n",
       "    .dataframe tbody tr th {\n",
       "        vertical-align: top;\n",
       "    }\n",
       "\n",
       "    .dataframe thead th {\n",
       "        text-align: right;\n",
       "    }\n",
       "</style>\n",
       "<table border=\"1\" class=\"dataframe\">\n",
       "  <thead>\n",
       "    <tr style=\"text-align: right;\">\n",
       "      <th></th>\n",
       "      <th>clean_text</th>\n",
       "      <th>polarity</th>\n",
       "    </tr>\n",
       "  </thead>\n",
       "  <tbody>\n",
       "    <tr>\n",
       "      <th>0</th>\n",
       "      <td>africa is \"in the midst of a full-blown third ...</td>\n",
       "      <td>0.166667</td>\n",
       "    </tr>\n",
       "    <tr>\n",
       "      <th>1</th>\n",
       "      <td>dr moeti is head of who in africa and one of t...</td>\n",
       "      <td>0.133333</td>\n",
       "    </tr>\n",
       "    <tr>\n",
       "      <th>2</th>\n",
       "      <td>thank you  for creating this amazing campaign ...</td>\n",
       "      <td>0.316667</td>\n",
       "    </tr>\n",
       "    <tr>\n",
       "      <th>3</th>\n",
       "      <td>former pfizer vp and virologist dr michael yea...</td>\n",
       "      <td>0.086111</td>\n",
       "    </tr>\n",
       "    <tr>\n",
       "      <th>4</th>\n",
       "      <td>i think it s important that we don t sell cova...</td>\n",
       "      <td>0.280000</td>\n",
       "    </tr>\n",
       "    <tr>\n",
       "      <th>...</th>\n",
       "      <td>...</td>\n",
       "      <td>...</td>\n",
       "    </tr>\n",
       "    <tr>\n",
       "      <th>6527</th>\n",
       "      <td>rt : zweli please just release the graphic des...</td>\n",
       "      <td>0.000000</td>\n",
       "    </tr>\n",
       "    <tr>\n",
       "      <th>6528</th>\n",
       "      <td>former pfizer vp and virologist dr michael yea...</td>\n",
       "      <td>0.086111</td>\n",
       "    </tr>\n",
       "    <tr>\n",
       "      <th>6529</th>\n",
       "      <td>respectfully veterinarians have to have a broa...</td>\n",
       "      <td>0.281250</td>\n",
       "    </tr>\n",
       "    <tr>\n",
       "      <th>6530</th>\n",
       "      <td>\"africa needs millions more doses here &amp;amp; n...</td>\n",
       "      <td>0.125000</td>\n",
       "    </tr>\n",
       "    <tr>\n",
       "      <th>6531</th>\n",
       "      <td>rt : liars you tried to load off your expired ...</td>\n",
       "      <td>0.000000</td>\n",
       "    </tr>\n",
       "  </tbody>\n",
       "</table>\n",
       "<p>6530 rows × 2 columns</p>\n",
       "</div>"
      ],
      "text/plain": [
       "                                             clean_text  polarity\n",
       "0     africa is \"in the midst of a full-blown third ...  0.166667\n",
       "1     dr moeti is head of who in africa and one of t...  0.133333\n",
       "2     thank you  for creating this amazing campaign ...  0.316667\n",
       "3     former pfizer vp and virologist dr michael yea...  0.086111\n",
       "4     i think it s important that we don t sell cova...  0.280000\n",
       "...                                                 ...       ...\n",
       "6527  rt : zweli please just release the graphic des...  0.000000\n",
       "6528  former pfizer vp and virologist dr michael yea...  0.086111\n",
       "6529  respectfully veterinarians have to have a broa...  0.281250\n",
       "6530  \"africa needs millions more doses here &amp; n...  0.125000\n",
       "6531  rt : liars you tried to load off your expired ...  0.000000\n",
       "\n",
       "[6530 rows x 2 columns]"
      ]
     },
     "execution_count": 13,
     "metadata": {},
     "output_type": "execute_result"
    }
   ],
   "source": [
    "cleanedTweet"
   ]
  },
  {
   "cell_type": "code",
   "execution_count": 14,
   "metadata": {},
   "outputs": [],
   "source": [
    "# takes polarity and returns a string either postive, negative or neutral\n",
    "\n",
    "def text_category(p: float) -> str:\n",
    "    if p > 0:\n",
    "        return \"positive\"\n",
    "    elif p == 0:\n",
    "        return \"neutral\"\n",
    "    else:\n",
    "        return \"negative\""
   ]
  },
  {
   "cell_type": "code",
   "execution_count": 15,
   "metadata": {},
   "outputs": [
    {
     "data": {
      "text/plain": [
       "positive    3426\n",
       "neutral     1827\n",
       "negative    1277\n",
       "Name: score, dtype: int64"
      ]
     },
     "execution_count": 15,
     "metadata": {},
     "output_type": "execute_result"
    }
   ],
   "source": [
    "# creating score column by applying text_category\n",
    "cleanedTweet['score'] = cleanedTweet['polarity'].apply(text_category)\n",
    "cleanedTweet['score'].value_counts()"
   ]
  },
  {
   "cell_type": "markdown",
   "metadata": {},
   "source": [
    "#### A.2 Looking into the prepared data for sentiment analysis"
   ]
  },
  {
   "cell_type": "code",
   "execution_count": 16,
   "metadata": {},
   "outputs": [],
   "source": [
    "\n",
    "from sklearn.feature_extraction.text import CountVectorizer, TfidfTransformer\n",
    "from joblib import dump, load # used for saving and loading sklearn objects\n",
    "from scipy.sparse import save_npz, load_npz # used for saving and loading sparse matrices\n",
    "from sklearn.decomposition import NMF, LatentDirichletAllocation\n",
    "from sklearn.linear_model import SGDClassifier\n",
    "from sklearn.model_selection import train_test_split"
   ]
  },
  {
   "cell_type": "code",
   "execution_count": 17,
   "metadata": {},
   "outputs": [
    {
     "data": {
      "text/plain": [
       "<AxesSubplot:title={'center':'score'}>"
      ]
     },
     "execution_count": 17,
     "metadata": {},
     "output_type": "execute_result"
    },
    {
     "data": {
      "image/png": "[encoded data removed]",
      "text/plain": [
       "<Figure size 576x576 with 1 Axes>"
      ]
     },
     "metadata": {
      "needs_background": "light"
     },
     "output_type": "display_data"
    }
   ],
   "source": [
    "# Grouping the scores and plotting bar graph\n",
    "score_count =  cleanedTweet['score'].value_counts()\n",
    "score_count.plot(kind=\"bar\", y=\"score\", title=\"score\", figsize=[8, 8])"
   ]
  },
  {
   "cell_type": "code",
   "execution_count": 18,
   "metadata": {},
   "outputs": [
    {
     "data": {
      "text/plain": [
       "<AxesSubplot:title={'center':'score'}, ylabel='score'>"
      ]
     },
     "execution_count": 18,
     "metadata": {},
     "output_type": "execute_result"
    },
    {
     "data": {
      "image/png": "[encoded data removed]",
      "text/plain": [
       "<Figure size 576x576 with 1 Axes>"
      ]
     },
     "metadata": {},
     "output_type": "display_data"
    }
   ],
   "source": [
    "score_count.plot(kind=\"pie\", y=\"score\", title=\"score\", x=\"\", figsize=[8, 8])\n"
   ]
  },
  {
   "cell_type": "code",
   "execution_count": 19,
   "metadata": {},
   "outputs": [],
   "source": [
    "# takes a string and returns if a value is \"neutral\"\n",
    "def remove_neutral(value):\n",
    "    return value != \"neutral\""
   ]
  },
  {
   "cell_type": "code",
   "execution_count": 20,
   "metadata": {},
   "outputs": [
    {
     "name": "stderr",
     "output_type": "stream",
     "text": [
      "<ipython-input-20-6621b22335ef>:6: SettingWithCopyWarning: \n",
      "A value is trying to be set on a copy of a slice from a DataFrame.\n",
      "Try using .loc[row_indexer,col_indexer] = value instead\n",
      "\n",
      "See the caveats in the documentation: https://pandas.pydata.org/pandas-docs/stable/user_guide/indexing.html#returning-a-view-versus-a-copy\n",
      "  cleanedTweet['score_map'] = cleanedTweet[\"score\"].map( lambda score: 1 if score == \"positive\" else 0)\n"
     ]
    }
   ],
   "source": [
    "# creating score_map column\n",
    "# we remove all rows that have neutral score\n",
    "# then create a score_map. if score is \"positive\" it has value 1 else 0\n",
    "\n",
    "cleanedTweet = cleanedTweet[cleanedTweet['score'].map(remove_neutral)]\n",
    "cleanedTweet['score_map'] = cleanedTweet[\"score\"].map( lambda score: 1 if score == \"positive\" else 0)\n"
   ]
  },
  {
   "cell_type": "code",
   "execution_count": 21,
   "metadata": {},
   "outputs": [
    {
     "name": "stderr",
     "output_type": "stream",
     "text": [
      "<ipython-input-21-c0833608cef5>:2: SettingWithCopyWarning: \n",
      "A value is trying to be set on a copy of a slice from a DataFrame.\n",
      "Try using .loc[row_indexer,col_indexer] = value instead\n",
      "\n",
      "See the caveats in the documentation: https://pandas.pydata.org/pandas-docs/stable/user_guide/indexing.html#returning-a-view-versus-a-copy\n",
      "  cleanedTweet['clean_text'] = cleanedTweet['clean_text'].apply(get_stem_word)\n"
     ]
    }
   ],
   "source": [
    "# transforming clean_tex bygetting the root word of clean_text words using Stemming\n",
    "cleanedTweet['clean_text'] = cleanedTweet['clean_text'].apply(get_stem_word)\n"
   ]
  },
  {
   "cell_type": "code",
   "execution_count": 22,
   "metadata": {},
   "outputs": [],
   "source": [
    "# separating our input and output\n",
    "(X, y) = cleanedTweet['clean_text'], cleanedTweet['score_map']"
   ]
  },
  {
   "cell_type": "code",
   "execution_count": 23,
   "metadata": {},
   "outputs": [
    {
     "data": {
      "text/plain": [
       "CountVectorizer(ngram_range=(1, 3))"
      ]
     },
     "execution_count": 23,
     "metadata": {},
     "output_type": "execute_result"
    }
   ],
   "source": [
    "# creating CountVectorizer and fitting it\n",
    "trigram_vectorizer = CountVectorizer(ngram_range=(1, 3))\n",
    "trigram_vectorizer.fit(X.values)\n"
   ]
  },
  {
   "cell_type": "code",
   "execution_count": 24,
   "metadata": {},
   "outputs": [],
   "source": [
    "# creating a tri_gram Vector representation for X\n",
    "X_trigram = trigram_vectorizer.transform(X.values)"
   ]
  },
  {
   "cell_type": "code",
   "execution_count": 25,
   "metadata": {},
   "outputs": [
    {
     "data": {
      "text/plain": [
       "TfidfTransformer()"
      ]
     },
     "execution_count": 25,
     "metadata": {},
     "output_type": "execute_result"
    }
   ],
   "source": [
    "# creating a trigram tfidf transformer\n",
    "trigram_tf_idf_transformer = TfidfTransformer()\n",
    "trigram_tf_idf_transformer.fit(X_trigram)"
   ]
  },
  {
   "cell_type": "code",
   "execution_count": 26,
   "metadata": {},
   "outputs": [],
   "source": [
    "# creating a tfidf representation of x\n",
    "X_train_tf_idf = trigram_tf_idf_transformer.transform(X_trigram)"
   ]
  },
  {
   "cell_type": "markdown",
   "metadata": {},
   "source": [
    "#### A.3 Model Training for sentiment analysis"
   ]
  },
  {
   "cell_type": "code",
   "execution_count": 27,
   "metadata": {},
   "outputs": [],
   "source": [
    "# takes input as X, and ouput as Y, title of model as title\n",
    "# split the input to train and valid\n",
    "# use Stochastic Gradient Descent Classifier\n",
    "# train\n",
    "# out put the training score and validation score\n",
    "def train_and_show_scores(X, y, title: str) -> None:\n",
    "    X_train, X_valid, y_train, y_valid = train_test_split(\n",
    "        X, y, train_size=0.75, stratify=y\n",
    "    )\n",
    "\n",
    "    clf = SGDClassifier()\n",
    "    clf.fit(X_train, y_train)\n",
    "    train_score = clf.score(X_train, y_train)\n",
    "    valid_score = clf.score(X_valid, y_valid)\n",
    "    print(f'{title}\\nTrain score: {round(train_score, 2)} ; Validation score: {round(valid_score, 2)}\\n')"
   ]
  },
  {
   "cell_type": "code",
   "execution_count": 28,
   "metadata": {},
   "outputs": [
    {
     "name": "stdout",
     "output_type": "stream",
     "text": [
      "trigram\n",
      "Train score: 1.0 ; Validation score: 0.96\n",
      "\n"
     ]
    }
   ],
   "source": [
    "# train using inputs vectorized as trigram\n",
    "\n",
    "train_and_show_scores(X_trigram, y, title=\"trigram\")"
   ]
  },
  {
   "cell_type": "code",
   "execution_count": 29,
   "metadata": {},
   "outputs": [
    {
     "name": "stdout",
     "output_type": "stream",
     "text": [
      "trigram_tf_idf\n",
      "Train score: 1.0 ; Validation score: 0.96\n",
      "\n"
     ]
    }
   ],
   "source": [
    "# train using inputs vectorized as trigram_tfidf\n",
    "\n",
    "\n",
    "train_and_show_scores(X_train_tf_idf, y, title=\"trigram_tf_idf\")"
   ]
  },
  {
   "cell_type": "code",
   "execution_count": null,
   "metadata": {},
   "outputs": [],
   "source": []
  },
  {
   "cell_type": "code",
   "execution_count": null,
   "metadata": {},
   "outputs": [],
   "source": []
  },
  {
   "cell_type": "code",
   "execution_count": null,
   "metadata": {},
   "outputs": [],
   "source": []
  },
  {
   "cell_type": "markdown",
   "metadata": {},
   "source": [
    "### B. Topic Modeling"
   ]
  },
  {
   "cell_type": "code",
   "execution_count": 30,
   "metadata": {},
   "outputs": [],
   "source": [
    "# !pip3 install gensim"
   ]
  },
  {
   "cell_type": "code",
   "execution_count": 37,
   "metadata": {},
   "outputs": [],
   "source": [
    "# importing packages\n",
    "\n",
    "import string\n",
    "import gensim\n",
    "from gensim.models import CoherenceModel\n",
    "from gensim import corpora\n",
    "from pprint import pprint\n",
    "import pyLDAvis\n",
    "import pyLDAvis.gensim_models\n",
    "\n",
    "\n",
    "\n",
    "\n"
   ]
  },
  {
   "cell_type": "code",
   "execution_count": 40,
   "metadata": {},
   "outputs": [
    {
     "name": "stderr",
     "output_type": "stream",
     "text": [
      "/Library/Frameworks/Python.framework/Versions/3.9/lib/python3.9/site-packages/ipykernel/ipkernel.py:283: DeprecationWarning: `should_run_async` will not call `transform_cell` automatically in the future. Please pass the result to `transformed_cell` argument and any exception that happen during thetransform in `preprocessing_exc_tuple` in IPython 7.17 and above.\n",
      "  and should_run_async(code)\n"
     ]
    }
   ],
   "source": [
    "# function that takes a string and remove stop words\n",
    "\n",
    "def remove_stopwords(sent: str) -> str:\n",
    "    sent_list = sent.split()\n",
    "    return ' '.join([word for word in sent_list if word not in STOPWORDS])"
   ]
  },
  {
   "cell_type": "code",
   "execution_count": 41,
   "metadata": {},
   "outputs": [
    {
     "name": "stderr",
     "output_type": "stream",
     "text": [
      "/Library/Frameworks/Python.framework/Versions/3.9/lib/python3.9/site-packages/ipykernel/ipkernel.py:283: DeprecationWarning: `should_run_async` will not call `transform_cell` automatically in the future. Please pass the result to `transformed_cell` argument and any exception that happen during thetransform in `preprocessing_exc_tuple` in IPython 7.17 and above.\n",
      "  and should_run_async(code)\n"
     ]
    }
   ],
   "source": [
    "'''\n",
    "    This is a topic model generator\n",
    "'''\n",
    "\n",
    "\n",
    "class TopicModel:\n",
    "    \n",
    "    # Topic model instance takes a cleaned tweet data frame and number of topics\n",
    "    def __init__(self, tweet_df: pd.DataFrame, num_of_topics: int, do_stemming = False):\n",
    "        self.df = tweet_df\n",
    "        self.num_of_topics = num_of_topics\n",
    "        self.do_stemming = do_stemming\n",
    "    \n",
    "    # extract the data of the clean_text only\n",
    "    def extract_text_df(self):\n",
    "        self.df = pd.DataFrame(self.df['clean_text']) \n",
    "        \n",
    "        return self.df\n",
    "    \n",
    "    \n",
    "    # removing stop words from for our clean_text\n",
    "    # removing panctuations\n",
    "    \n",
    "    def further_pre_process(self):\n",
    "        \n",
    "        self.df['clean_text']= df['clean_text'].apply(lambda x: str(x).translate(str.maketrans(' ', ' ', string.punctuation))) \n",
    "        \n",
    "        self.df['clean_text'] = self.df['clean_text'].apply(remove_stopwords)\n",
    "        \n",
    "        return self.df\n",
    "    \n",
    "    # preparing inputs to be trained\n",
    "    # creating a sentence list from the clean_text column\n",
    "    # getting root word by stemming sentences if stemming is True\n",
    "    # changing each sentence into a list of words\n",
    "    # creating a mapping from word to int\n",
    "    # representing the sentences using the word id mapping\n",
    "    def prepare_inputs(self, stemming=False):\n",
    "        \n",
    "        df = self.extract_text_df()\n",
    "        df = self.further_pre_process()\n",
    "        \n",
    "        sentence_list = [text for text in self.df['clean_text']]\n",
    "        \n",
    "        if (stemming):      \n",
    "            sentence_list = [get_stem_word(sentence) for sentence in sentence_list]\n",
    "        \n",
    "        word_list = [sent.split() for sent in sentence_list]\n",
    "        word_to_int = corpora.Dictionary(word_list)\n",
    "        \n",
    "        corpus = [word_to_int.doc2bow(tweet) for tweet in word_list]\n",
    "        \n",
    "        return word_list, word_to_int, corpus\n",
    "    \n",
    "    \n",
    "    # function that returns LDA_result to be visulazied\n",
    "    def lda_prepared(self, lda_model, corpus,  word_list):\n",
    "        pyLDAvis.enable_notebook()\n",
    "        LDAvis_prepared = pyLDAvis.gensim_models.prepare(lda_model, corpus, word_list)\n",
    "        return LDAvis_prepared\n",
    "        \n",
    "    \n",
    "    # building the model\n",
    "    # returns lda model and lda_model result to be visulazied\n",
    "            \n",
    "    def build(self, show_print=False):\n",
    "        word_list, word_to_int, corpus = self.prepare_inputs(self.do_stemming)\n",
    "        \n",
    "        lda_model = gensim.models.ldamodel.LdaModel(\n",
    "            corpus, id2word=word_to_int,num_topics=self.num_of_topics, \n",
    "            random_state=100, update_every=1, \n",
    "            chunksize=100, passes=10, alpha='auto',\n",
    "            per_word_topics=True\n",
    "        )\n",
    "        \n",
    "        lda_prepared = self.lda_prepared(lda_model, corpus, word_to_int)\n",
    "        \n",
    "        \n",
    "        if show_print:\n",
    "            pprint(lda_model.print_topics())\n",
    "        \n",
    "        return lda_model, lda_prepared\n",
    "    \n",
    "        \n",
    "        "
   ]
  },
  {
   "cell_type": "markdown",
   "metadata": {},
   "source": [
    "#### B.1 Topic Model building"
   ]
  },
  {
   "cell_type": "code",
   "execution_count": 42,
   "metadata": {},
   "outputs": [
    {
     "name": "stderr",
     "output_type": "stream",
     "text": [
      "/Library/Frameworks/Python.framework/Versions/3.9/lib/python3.9/site-packages/ipykernel/ipkernel.py:283: DeprecationWarning: `should_run_async` will not call `transform_cell` automatically in the future. Please pass the result to `transformed_cell` argument and any exception that happen during thetransform in `preprocessing_exc_tuple` in IPython 7.17 and above.\n",
      "  and should_run_async(code)\n"
     ]
    },
    {
     "name": "stdout",
     "output_type": "stream",
     "text": [
      "file read as csv\n",
      "[(0,\n",
      "  '0.053*\"covid19\" + 0.032*\"vaccines\" + 0.023*\"support\" + 0.023*\"amp\" + '\n",
      "  '0.021*\"countries\" + 0.021*\"africa\" + 0.019*\"please\" + 0.017*\"south\" + '\n",
      "  '0.017*\"government\" + 0.016*\"rich\"'),\n",
      " (1,\n",
      "  '0.038*\"covid19\" + 0.035*\"vaccines\" + 0.032*\"help\" + 0.029*\"people\" + '\n",
      "  '0.028*\"dont\" + 0.025*\"vaccine\" + 0.025*\"australia\" + 0.023*\"will\" + '\n",
      "  '0.019*\"go\" + 0.016*\"doses\"'),\n",
      " (2,\n",
      "  '0.061*\"vaccines\" + 0.059*\"covaxin\" + 0.049*\"0\" + 0.044*\"pmcg\" + '\n",
      "  '0.032*\"dose2\" + 0.020*\"covid19\" + 0.019*\"vaccine\" + 0.018*\"people\" + '\n",
      "  '0.017*\"medical\" + 0.016*\"days\"'),\n",
      " (3,\n",
      "  '0.097*\"rt\" + 0.086*\"israel\" + 0.085*\"vaccines\" + 0.071*\"expired\" + '\n",
      "  '0.068*\"another\" + 0.066*\"tried\" + 0.066*\"war\" + 0.066*\"liars\" + '\n",
      "  '0.066*\"crime\" + 0.066*\"load\"'),\n",
      " (4,\n",
      "  '0.047*\"s\" + 0.033*\"covid19\" + 0.033*\"vaccines\" + 0.028*\"one\" + 0.024*\"risk\" '\n",
      "  '+ 0.022*\"vaccinated\" + 0.018*\"china\" + 0.014*\"less\" + 0.014*\"indian\" + '\n",
      "  '0.014*\"graphic\"'),\n",
      " (5,\n",
      "  '0.039*\"vaccines\" + 0.037*\"capacity\" + 0.034*\"age\" + 0.031*\"dose1\" + '\n",
      "  '0.031*\"min\" + 0.031*\"pin\" + 0.031*\"limit\" + 0.023*\"africa\" + '\n",
      "  '0.015*\"hospital\" + 0.015*\"1845\"'),\n",
      " (6,\n",
      "  '0.050*\"covid19\" + 0.043*\"vaccination\" + 0.037*\"amp\" + 0.035*\"vaccines\" + '\n",
      "  '0.019*\"today\" + 0.014*\"question\" + 0.013*\"designers\" + 0.013*\"department\" + '\n",
      "  '0.012*\"coverage\" + 0.012*\"committed\"'),\n",
      " (7,\n",
      "  '0.100*\"india\" + 0.046*\"africa\" + 0.035*\"need\" + 0.035*\"covid19\" + '\n",
      "  '0.030*\"wave\" + 0.028*\"third\" + 0.024*\"cases\" + 0.021*\"health\" + '\n",
      "  '0.021*\"coronavirus\" + 0.018*\"oxygen\"')]\n"
     ]
    }
   ],
   "source": [
    "# reading the cleaned data\n",
    "df = read_proccessed_data(CLEANED_SAVE_PATH)\n",
    "\n",
    "# creating an instance of topic model generator\n",
    "tm = TopicModel(df, 8)\n",
    "\n",
    "# model building\n",
    "lda_model, lda_prepared =tm.build(show_print=True)"
   ]
  },
  {
   "cell_type": "code",
   "execution_count": 43,
   "metadata": {},
   "outputs": [
    {
     "name": "stderr",
     "output_type": "stream",
     "text": [
      "/Library/Frameworks/Python.framework/Versions/3.9/lib/python3.9/site-packages/ipykernel/ipkernel.py:283: DeprecationWarning: `should_run_async` will not call `transform_cell` automatically in the future. Please pass the result to `transformed_cell` argument and any exception that happen during thetransform in `preprocessing_exc_tuple` in IPython 7.17 and above.\n",
      "  and should_run_async(code)\n"
     ]
    },
    {
     "data": {
      "text/html": [
       "\n",
       "<link rel=\"stylesheet\" type=\"text/css\" href=\"https://cdn.jsdelivr.net/gh/bmabey/pyLDAvis@3.3.1/pyLDAvis/js/ldavis.v1.0.0.css\">\n",
       "\n",
       "\n",
       "<div id=\"ldavis_el146215006858048609156665\"></div>\n",
       "<script type=\"text/javascript\">\n",
       "\n",
       "var ldavis_el146215006858048609156665_data = {\"mdsDat\": {\"x\": [0.09702614464608045, 0.04670136082394104, 0.2793776415471976, 0.11130231027897176, -0.10570160095917865, -0.029677911987435805, -0.2932027283172966, -0.10582521603228007], \"y\": [0.1620008318465567, -0.13103991545119564, 0.10114646459885296, 0.02591214420499121, -0.20094691552069405, -0.10974538976403081, 0.261939173905782, -0.10926639382026201], \"topics\": [1, 2, 3, 4, 5, 6, 7, 8], \"cluster\": [1, 1, 1, 1, 1, 1, 1, 1], \"Freq\": [20.891795198546802, 15.895585234003256, 13.685014496153325, 12.413266350699423, 10.701580947321663, 9.342091607432565, 9.206276568036929, 7.864389597806038]}, \"tinfo\": {\"Term\": [\"india\", \"rt\", \"israel\", \"expired\", \"another\", \"tried\", \"war\", \"liars\", \"crime\", \"load\", \"africa\", \"capacity\", \"covaxin\", \"age\", \"s\", \"min\", \"pin\", \"dose1\", \"limit\", \"0\", \"vaccines\", \"vaccination\", \"amp\", \"pmcg\", \"need\", \"help\", \"dont\", \"wave\", \"people\", \"third\", \"capacity\", \"age\", \"dose1\", \"limit\", \"min\", \"pin\", \"1845\", \"covishield\", \"administered\", \"4518\", \"free\", \"provide\", \"urgently\", \"public\", \"uk\", \"delta\", \"sending\", \"technology\", \"variant\", \"germany\", \"production\", \"speaks\", \"best\", \"leaders\", \"experts\", \"restrictions\", \"transfer\", \"lift\", \"desperate\", \"protect\", \"million\", \"hospital\", \"dr\", \"yet\", \"africa\", \"vaccines\", \"health\", \"head\", \"covid19\", \"doses\", \"one\", \"today\", \"vaccine\", \"dont\", \"australia\", \"go\", \"ontario\", \"nft\", \"jab\", \"dose\", \"mrna\", \"cost\", \"2nd\", \"84\", \"204344\", \"beautiful\", \"ashevaks\", \"capita\", \"fish\", \"iqalutsiavak\", \"kenojuak\", \"still\", \"deltavariant\", \"budget\", \"outbreak\", \"cause\", \"5\", \"deadly\", \"direct\", \"use\", \"personnel\", \"control\", \"buy\", \"help\", \"people\", \"will\", \"vaccine\", \"doses\", \"covid19\", \"now\", \"vaccines\", \"world\", \"vaccinated\", \"us\", \"2\", \"india\", \"wave\", \"third\", \"coronavirus\", \"oxygen\", \"midst\", \"full\", \"blown\", \"via\", \"stand\", \"systems\", \"20\", \"seen\", \"overwhelm\", \"action\", \"elsewhere\", \"surging\", \"said\", \"failure\", \"urgent\", \"retweet\", \"trajectory\", \"quickly\", \"rebound\", \"sobering\", \"time\", \"money\", \"30\", \"pay\", \"kills\", \"need\", \"everyone\", \"cases\", \"africa\", \"health\", \"world\", \"covid19\", \"amp\", \"doses\", \"covid\", \"vaccines\", \"support\", \"countries\", \"south\", \"rich\", \"take\", \"covidvaccination\", \"indiafightscorona\", \"directly\", \"increased\", \"taiwan\", \"staff\", \"21\", \"total\", \"travel\", \"bringing\", \"community\", \"past\", \"reach\", \"forward\", \"jammu\", \"vaccinationdrive\", \"bakarwals\", \"distances\", \"gujjars\", \"karyakartas\", \"kashmirs\", \"remotest\", \"terrains\", \"latest\", \"coming\", \"please\", \"2021\", \"new\", \"government\", \"places\", \"covid19\", \"amp\", \"june\", \"africa\", \"vaccines\", \"deaths\", \"1\", \"cases\", \"healthcare\", \"risk\", \"china\", \"less\", \"indian\", \"graphic\", \"fireworks\", \"release\", \"zweli\", \"good\", \"huge\", \"fully\", \"education\", \"children\", \"puts\", \"myocarditis\", \"threat\", \"child\", \"already\", \"parts\", \"got\", \"surges\", \"every\", \"rural\", \"youre\", \"little\", \"pose\", \"shunned\", \"date\", \"ppe\", \"risks\", \"s\", \"one\", \"far\", \"vaccinated\", \"covid19\", \"vaccines\", \"vaccine\", \"virus\", \"will\", \"2\", \"vaccination\", \"question\", \"designers\", \"department\", \"coverage\", \"providing\", \"way\", \"response\", \"uganda\", \"centre\", \"benefit\", \"vax\", \"pace\", \"fund\", \"fastest\", \"21st\", \"expanded\", \"tripswaiver\", \"preregister\", \"zimbabwe\", \"well\", \"expected\", \"don\", \"older\", \"data\", \"based\", \"peoplesvaccine\", \"behind\", \"truth\", \"commission\", \"committed\", \"today\", \"amp\", \"covid19\", \"t\", \"vaccines\", \"israel\", \"expired\", \"tried\", \"war\", \"liars\", \"crime\", \"load\", \"must\", \"sent\", \"palestinians\", \"helping\", \"global\", \"post\", \"state\", \"cheap\", \"apartheid\", \"expire\", \"colonial\", \"occupation\", \"settler\", \"deal\", \"needed\", \"soontoexpire\", \"israelis\", \"agreed\", \"expiration\", \"shipment\", \"showed\", \"sooner\", \"cancels\", \"rt\", \"another\", \"proclaimed\", \"palestinian\", \"vaccines\", \"covaxin\", \"0\", \"pmcg\", \"dose2\", \"medical\", \"roberts\", \"america\", \"hit\", \"code411041\", \"read\", \"videos\", \"michael\", \"yeadon\", \"aundh\", \"moderna\", \"former\", \"vp\", \"laigude\", \"murlidhar\", \"code411027\", \"day\", \"virologist\", \"according\", \"14\", \"credentialed\", \"professionals\", \"gandhi\", \"code411007\", \"kuty\", \"rugnalaya\", \"days\", \"see\", \"vaccines\", \"people\", \"vaccine\", \"covid19\", \"pfizer\"], \"Freq\": [1583.0, 1067.0, 911.0, 758.0, 767.0, 705.0, 704.0, 704.0, 704.0, 704.0, 1583.0, 880.0, 532.0, 813.0, 702.0, 736.0, 736.0, 736.0, 736.0, 446.0, 4438.0, 463.0, 1089.0, 403.0, 597.0, 630.0, 515.0, 466.0, 756.0, 442.0, 879.5548977735609, 812.2564284727774, 735.667931853817, 735.667931853817, 735.667931853817, 735.667931853817, 355.49784344850866, 338.1179532656612, 331.7563684799256, 291.5103559237938, 268.85323180409216, 244.23622482331712, 237.51336169581046, 237.42217305979077, 201.73198153966572, 201.17015996540866, 193.1985552605345, 186.2962976668396, 169.85371497525844, 165.26437662087207, 163.54318550922252, 163.89744416504325, 158.92889699311164, 158.77199691992087, 156.72332512377562, 152.622269844505, 151.47824045148965, 151.13212283720244, 149.6134933980885, 152.1902788196621, 280.2519458692232, 370.7271081855932, 308.51086908575854, 182.3487447533429, 548.5231941256737, 949.6511941084634, 233.20114394668167, 180.64492343967598, 318.8593439388468, 202.68612057823475, 190.19294103686244, 175.94263093740145, 178.95647591105367, 514.7422526980964, 449.69863790297325, 354.63656807366635, 244.91002643698425, 178.8242269394926, 174.01709966179865, 169.85191010928483, 161.56202324832557, 135.40948544360754, 133.73934674720687, 132.12970752461337, 116.6034402934912, 116.41017642652177, 116.34971108018536, 116.34971108018536, 116.34971108018536, 116.34971108018536, 116.34971108018536, 115.90597717336858, 107.06744002857847, 106.99854519696191, 104.5206519267783, 104.42243306590278, 102.18309081640012, 100.85008887186672, 99.14938049352399, 96.27865443917678, 96.43909621113335, 95.94475979703265, 96.88960442089791, 593.4834739262153, 528.0208079175096, 427.0058833618247, 457.0590460337813, 296.62805835797343, 690.4356595966374, 163.57015188336274, 635.7021584858985, 246.67207894403572, 183.5370429517142, 122.34479001977333, 128.99617434973553, 1582.5543738294723, 465.37701970487467, 441.46315537666896, 336.5432355386107, 288.2228979245532, 281.6008537821105, 272.7116801878076, 185.8582364744852, 186.0052758117475, 183.1058874931578, 163.2933027113809, 156.77432860492905, 147.79499811055834, 141.62297455142632, 139.6145338486771, 135.25678385066217, 132.83469676772563, 132.9264255739866, 130.11281632326327, 129.95308421075922, 157.40814468713958, 129.53519221477922, 128.6653404614933, 128.6517809342385, 128.6472708856283, 126.36882958546236, 123.93619457124854, 120.1439929163835, 118.82226955006416, 117.92760518406608, 554.406848341506, 265.6640754976764, 381.82744368598804, 729.4402776880341, 339.0343983497726, 288.0256604240952, 551.1517391204816, 249.76126213958358, 187.49500216147496, 159.84749335677643, 148.3280652892875, 328.21676974087836, 305.3329874989523, 247.47833761815528, 227.29688773203662, 198.3025355040965, 146.9028799236451, 117.03937166590363, 116.85518654296129, 112.71286019637702, 104.43107248667198, 101.61348784260471, 100.54830031637702, 99.12668885903224, 97.63526508370926, 97.39433996268498, 95.401650685284, 95.22081692671873, 92.12679469218418, 90.61704168544698, 90.01454232582354, 90.0065336976302, 90.00436164039972, 90.00436164039972, 90.00436164039972, 90.00436164039972, 90.00436164039972, 90.00436164039972, 90.00436164039972, 86.58099289985435, 75.61987265507689, 276.9586443435242, 164.57551043003573, 226.42625257123782, 246.4649596533514, 145.3969380111896, 764.4201763761821, 325.5369574876446, 136.42925993481632, 305.29047913965655, 463.3797069848242, 122.5163538903391, 117.25876277168592, 147.8177157828088, 98.78569586210466, 301.3194459322482, 220.39751632356527, 175.2863926422652, 174.2653021531372, 166.7280062707199, 161.73872077518342, 161.72587715866683, 161.72587715866683, 156.8706110104315, 150.11098576886826, 148.8993433413137, 148.56273260110532, 142.96770630799517, 108.20746915237143, 99.8547644535571, 99.3357352995141, 94.81927984905684, 88.0410267683329, 87.38422742549263, 86.90869769357853, 86.04131703360268, 85.80277959768969, 84.51087605493545, 84.34467299415375, 83.59436683857923, 79.803713577659, 79.7365373275867, 79.62756762770456, 80.23780598866489, 77.81924845752407, 575.5447428853576, 348.2351551742762, 117.39048264130557, 269.6056387933705, 409.3742162020269, 405.8845205830509, 150.37755399574772, 92.5456897569348, 117.33647741657877, 96.2870421410384, 462.6874772599714, 154.36864064723542, 138.6035504795992, 136.72102577182557, 125.01937694449009, 121.90914707343354, 117.58786959730529, 103.95711306527207, 102.69617301462502, 119.23330740943139, 96.00482887260354, 88.62807785764814, 85.87859794684002, 84.86620751853248, 83.61192146540085, 119.00688094989373, 119.00688094989373, 77.22417912260046, 113.22263662590935, 75.76175382088726, 68.43648478972301, 63.78446302111746, 62.15953877631283, 59.46570774600672, 57.59913357786877, 54.58701883068886, 54.11766379720263, 52.769945991467466, 51.23182958764777, 47.18694121705845, 124.25579688296126, 207.99742366390956, 400.0960153201442, 533.1828653276301, 104.68700695098431, 371.97336365976366, 910.8805472993193, 757.2297189960741, 704.2029258226551, 703.4855109677876, 703.4496955689277, 703.3915054286167, 703.3585362866198, 141.8392872835902, 129.83832193999802, 120.95027214930225, 110.65055801722912, 77.91685483023528, 69.0820883516127, 63.36005953483255, 51.342901163913666, 50.41419620972898, 46.917001390394994, 45.69179652205578, 45.535059679280124, 45.535059679280124, 45.41771582211586, 45.31007691022765, 38.56745993919372, 40.32250589956603, 35.34774798620626, 34.870809717047656, 34.85215833418386, 34.84216678665423, 34.84216678665423, 31.697650864592667, 1027.9838562273144, 721.0254107608922, 38.66318262117702, 87.63499369279684, 906.6378851941953, 531.9128583913761, 445.44176455408217, 402.65813585322286, 291.3504002150507, 158.28507759981207, 141.17637240047043, 125.80341137406252, 98.52555852124826, 94.91150445627409, 90.65964883110146, 85.97828938881793, 83.3778390052191, 83.37328858639998, 79.16494475824732, 77.33592966302479, 76.36344859773097, 76.36344859773097, 72.29805883611665, 72.29805883611665, 67.8453938194197, 67.85602271977828, 65.97416282567211, 65.63414776455875, 63.390550680171124, 62.62620273242312, 62.61964303776179, 59.5658687875193, 57.64156505183032, 57.60340147433155, 57.60340147433155, 149.2893470381897, 138.01513988317936, 557.3062553319266, 162.4649791997614, 168.27317092676358, 177.37704780577545, 66.5050422071244], \"Total\": [1583.0, 1067.0, 911.0, 758.0, 767.0, 705.0, 704.0, 704.0, 704.0, 704.0, 1583.0, 880.0, 532.0, 813.0, 702.0, 736.0, 736.0, 736.0, 736.0, 446.0, 4438.0, 463.0, 1089.0, 403.0, 597.0, 630.0, 515.0, 466.0, 756.0, 442.0, 880.386976968945, 813.0884656057642, 736.499871087609, 736.499871087609, 736.499871087609, 736.499871087609, 356.3297862574771, 338.950010611393, 332.5899646222841, 292.34236258193414, 269.7084698569502, 245.07292436925388, 238.34624178510342, 238.25500568448481, 202.56521799909947, 202.0041830639643, 194.0390002297051, 187.12912148493186, 170.6872773940093, 166.09682953092965, 164.37539280796412, 164.7347439970482, 159.76064429998803, 159.60375027153248, 157.55525395875674, 153.45404973961314, 152.30997361468025, 151.96386730289512, 150.44517223073623, 153.03690125577685, 299.05492021409987, 447.4993801411244, 414.66699502176556, 212.11899963009458, 1583.8694556902576, 4438.86314963741, 595.3714207610604, 261.1920283620196, 3461.7620041963464, 687.3778525278357, 593.6932709823261, 384.666263560026, 1042.4393061108067, 515.5824001321697, 450.53811867961366, 355.4764210356646, 245.74890410905496, 179.67452323336676, 174.8624389646858, 170.69230152239498, 162.40163117870537, 136.25171899763248, 134.57829798686114, 132.96901161789313, 117.44428316832824, 117.24984906568787, 117.19050456212977, 117.19050456212977, 117.19050456212977, 117.19050456212977, 117.19050456212977, 116.74560686785031, 107.90679929296707, 107.84550335320978, 105.35971397925529, 105.26219891128181, 103.0231150177167, 101.6897242395366, 99.98853215909445, 97.1182336529615, 97.2817592163241, 96.78427293972766, 97.74032740196206, 630.5550683478833, 756.4919116129093, 619.2685123886326, 1042.4393061108067, 687.3778525278357, 3461.7620041963464, 264.98932070232775, 4438.86314963741, 624.26369869682, 483.2603199873303, 175.33518313001457, 225.99825155746075, 1583.4255337790257, 466.2473933819911, 442.33345696851205, 337.4149384597774, 289.0933014370313, 282.4711323401636, 273.5826219593208, 186.72856102225106, 186.87734057763925, 183.976324917842, 164.16409650728764, 157.6471838883089, 148.66541062865952, 142.49383826863416, 140.48499440612142, 136.1270879106818, 133.7051275126034, 133.79847921244092, 130.98348353365876, 130.8233707895936, 158.4651011472531, 130.40547226779915, 129.53561296199308, 129.5220530261477, 129.5175429775375, 127.24049330625347, 124.80662143549746, 121.01436763388715, 119.69261821205833, 118.7981334575697, 597.7610757868639, 279.7742332129791, 530.414749178525, 1583.8694556902576, 595.3714207610604, 624.26369869682, 3461.7620041963464, 1089.6229842570206, 687.3778525278357, 447.0835645842909, 4438.86314963741, 329.1046689928817, 306.2192310812626, 248.36471878974422, 228.19280389379122, 199.18894562370204, 147.79001608449173, 117.93094241956473, 117.74786121545712, 113.59858342175335, 105.316636834218, 102.49907115864339, 101.43407807058554, 100.01208540729992, 98.52068149422776, 98.27965889267404, 96.2870141141324, 96.10637125491452, 93.01214210435383, 91.50246785151636, 90.89978582309647, 90.89177715167487, 90.88960503518398, 90.88960503518398, 90.88960503518398, 90.88960503518398, 90.88960503518398, 90.88960503518398, 90.88960503518398, 87.46679933078802, 76.50537607224202, 283.13598300852374, 178.14205406048922, 259.4376110269043, 310.17172778725876, 168.95786142846222, 3461.7620041963464, 1089.6229842570206, 226.3514013412516, 1583.8694556902576, 4438.86314963741, 203.41587625350596, 197.47150601563726, 530.414749178525, 132.50325450470362, 302.18196136828595, 221.26147547079515, 176.1501890989059, 175.130956523304, 167.59078933934342, 162.60147808020858, 162.58863527562843, 162.58863527562843, 157.73438820660743, 150.9741738905396, 149.76193394468132, 149.4387929725042, 143.83353453199913, 109.0698630277522, 100.71769734233604, 100.19824651008692, 95.68203439096932, 88.90375790594749, 88.24679250901463, 87.7722033802867, 86.903766967801, 86.66576094503576, 85.3734823344987, 85.20707346705393, 84.45677725195598, 80.6661575008853, 80.59903844180508, 80.49220247678659, 81.11447282050673, 78.68308422976094, 702.4348427579328, 593.6932709823261, 140.9372330380133, 483.2603199873303, 3461.7620041963464, 4438.86314963741, 1042.4393061108067, 136.02422088768992, 619.2685123886326, 225.99825155746075, 463.568310666422, 155.25098123477392, 139.48937263531045, 137.6088512084814, 125.90423208089302, 122.79199580574759, 118.46842404832701, 104.83846071940637, 103.5768891885435, 120.27935545533586, 96.8889994000703, 89.50858173480572, 86.75991460868177, 85.74818022974782, 84.49705368004746, 120.2989534901197, 120.2989534901197, 78.10755932240069, 114.53892032833261, 76.64305031042863, 69.31795644222143, 64.66736737725365, 63.04014766778856, 60.347525991899786, 58.480077707050555, 55.47545983056262, 55.00007473901417, 53.651224226275616, 52.118587580906464, 48.070980032377285, 128.44861732986857, 384.666263560026, 1089.6229842570206, 3461.7620041963464, 204.26607414963763, 4438.86314963741, 911.760935899408, 758.1099681512837, 705.0831582249608, 704.3657407876616, 704.3299252095032, 704.2717350078282, 704.2387658658313, 142.72639818677033, 130.72177142959143, 121.83090853426874, 111.53357823554964, 78.80294577991373, 69.96918283408284, 64.25118906477384, 52.22345593345884, 51.29514736336515, 47.79770781502268, 46.572058912809375, 46.41561160325426, 46.41561160325426, 46.29808820263058, 46.19615487425921, 39.44781242136082, 41.296353703621655, 36.22821841616316, 35.75115414078393, 35.73251043273237, 35.72253405098612, 35.72253405098612, 32.57801297006443, 1067.05299809673, 767.117647370623, 39.98416573538573, 106.53900400813495, 4438.86314963741, 532.7678868855577, 446.2966592265799, 403.51373229280017, 292.20531178010265, 159.14065749699768, 142.0420713018195, 126.66098792070184, 99.38102533301891, 95.76637241107836, 91.51575537759818, 86.83472342476631, 84.23292328394706, 84.22837340487153, 80.019731520137, 78.19205760605588, 77.2184661123148, 77.2184661123148, 73.15425750218255, 73.15425750218255, 68.70020760976394, 68.71239699684122, 66.83054437372634, 66.49215040602334, 64.24781315425781, 63.481024730035585, 63.474465469592296, 60.42296818956677, 58.49713161801158, 58.46016572254433, 58.46016572254433, 155.46502716304593, 160.17452698679503, 4438.86314963741, 756.4919116129093, 1042.4393061108067, 3461.7620041963464, 140.97162943017616], \"Category\": [\"Default\", \"Default\", \"Default\", \"Default\", \"Default\", \"Default\", \"Default\", \"Default\", \"Default\", \"Default\", \"Default\", \"Default\", \"Default\", \"Default\", \"Default\", \"Default\", \"Default\", \"Default\", \"Default\", \"Default\", \"Default\", \"Default\", \"Default\", \"Default\", \"Default\", \"Default\", \"Default\", \"Default\", \"Default\", \"Default\", \"Topic1\", \"Topic1\", \"Topic1\", \"Topic1\", \"Topic1\", \"Topic1\", \"Topic1\", \"Topic1\", \"Topic1\", \"Topic1\", \"Topic1\", \"Topic1\", \"Topic1\", \"Topic1\", \"Topic1\", \"Topic1\", \"Topic1\", \"Topic1\", \"Topic1\", \"Topic1\", \"Topic1\", \"Topic1\", \"Topic1\", \"Topic1\", \"Topic1\", \"Topic1\", \"Topic1\", \"Topic1\", \"Topic1\", \"Topic1\", \"Topic1\", \"Topic1\", \"Topic1\", \"Topic1\", \"Topic1\", \"Topic1\", \"Topic1\", \"Topic1\", \"Topic1\", \"Topic1\", \"Topic1\", \"Topic1\", \"Topic1\", \"Topic2\", \"Topic2\", \"Topic2\", \"Topic2\", \"Topic2\", \"Topic2\", \"Topic2\", \"Topic2\", \"Topic2\", \"Topic2\", \"Topic2\", \"Topic2\", \"Topic2\", \"Topic2\", \"Topic2\", \"Topic2\", \"Topic2\", \"Topic2\", \"Topic2\", \"Topic2\", \"Topic2\", \"Topic2\", \"Topic2\", \"Topic2\", \"Topic2\", \"Topic2\", \"Topic2\", \"Topic2\", \"Topic2\", \"Topic2\", \"Topic2\", \"Topic2\", \"Topic2\", \"Topic2\", \"Topic2\", \"Topic2\", \"Topic2\", \"Topic2\", \"Topic2\", \"Topic2\", \"Topic2\", \"Topic2\", \"Topic3\", \"Topic3\", \"Topic3\", \"Topic3\", \"Topic3\", \"Topic3\", \"Topic3\", \"Topic3\", \"Topic3\", \"Topic3\", \"Topic3\", \"Topic3\", \"Topic3\", \"Topic3\", \"Topic3\", \"Topic3\", \"Topic3\", \"Topic3\", \"Topic3\", \"Topic3\", \"Topic3\", \"Topic3\", \"Topic3\", \"Topic3\", \"Topic3\", \"Topic3\", \"Topic3\", \"Topic3\", \"Topic3\", \"Topic3\", \"Topic3\", \"Topic3\", \"Topic3\", \"Topic3\", \"Topic3\", \"Topic3\", \"Topic3\", \"Topic3\", \"Topic3\", \"Topic3\", \"Topic3\", \"Topic4\", \"Topic4\", \"Topic4\", \"Topic4\", \"Topic4\", \"Topic4\", \"Topic4\", \"Topic4\", \"Topic4\", \"Topic4\", \"Topic4\", \"Topic4\", \"Topic4\", \"Topic4\", \"Topic4\", \"Topic4\", \"Topic4\", \"Topic4\", \"Topic4\", \"Topic4\", \"Topic4\", \"Topic4\", \"Topic4\", \"Topic4\", \"Topic4\", \"Topic4\", \"Topic4\", \"Topic4\", \"Topic4\", \"Topic4\", \"Topic4\", \"Topic4\", \"Topic4\", \"Topic4\", \"Topic4\", \"Topic4\", \"Topic4\", \"Topic4\", \"Topic4\", \"Topic4\", \"Topic4\", \"Topic4\", \"Topic4\", \"Topic4\", \"Topic5\", \"Topic5\", \"Topic5\", \"Topic5\", \"Topic5\", \"Topic5\", \"Topic5\", \"Topic5\", \"Topic5\", \"Topic5\", \"Topic5\", \"Topic5\", \"Topic5\", \"Topic5\", \"Topic5\", \"Topic5\", \"Topic5\", \"Topic5\", \"Topic5\", \"Topic5\", \"Topic5\", \"Topic5\", \"Topic5\", \"Topic5\", \"Topic5\", \"Topic5\", \"Topic5\", \"Topic5\", \"Topic5\", \"Topic5\", \"Topic5\", \"Topic5\", \"Topic5\", \"Topic5\", \"Topic5\", \"Topic5\", \"Topic5\", \"Topic5\", \"Topic5\", \"Topic5\", \"Topic6\", \"Topic6\", \"Topic6\", \"Topic6\", \"Topic6\", \"Topic6\", \"Topic6\", \"Topic6\", \"Topic6\", \"Topic6\", \"Topic6\", \"Topic6\", \"Topic6\", \"Topic6\", \"Topic6\", \"Topic6\", \"Topic6\", \"Topic6\", \"Topic6\", \"Topic6\", \"Topic6\", \"Topic6\", \"Topic6\", \"Topic6\", \"Topic6\", \"Topic6\", \"Topic6\", \"Topic6\", \"Topic6\", \"Topic6\", \"Topic6\", \"Topic6\", \"Topic6\", \"Topic6\", \"Topic6\", \"Topic6\", \"Topic7\", \"Topic7\", \"Topic7\", \"Topic7\", \"Topic7\", \"Topic7\", \"Topic7\", \"Topic7\", \"Topic7\", \"Topic7\", \"Topic7\", \"Topic7\", \"Topic7\", \"Topic7\", \"Topic7\", \"Topic7\", \"Topic7\", \"Topic7\", \"Topic7\", \"Topic7\", \"Topic7\", \"Topic7\", \"Topic7\", \"Topic7\", \"Topic7\", \"Topic7\", \"Topic7\", \"Topic7\", \"Topic7\", \"Topic7\", \"Topic7\", \"Topic7\", \"Topic7\", \"Topic7\", \"Topic7\", \"Topic8\", \"Topic8\", \"Topic8\", \"Topic8\", \"Topic8\", \"Topic8\", \"Topic8\", \"Topic8\", \"Topic8\", \"Topic8\", \"Topic8\", \"Topic8\", \"Topic8\", \"Topic8\", \"Topic8\", \"Topic8\", \"Topic8\", \"Topic8\", \"Topic8\", \"Topic8\", \"Topic8\", \"Topic8\", \"Topic8\", \"Topic8\", \"Topic8\", \"Topic8\", \"Topic8\", \"Topic8\", \"Topic8\", \"Topic8\", \"Topic8\", \"Topic8\", \"Topic8\", \"Topic8\", \"Topic8\", \"Topic8\", \"Topic8\"], \"logprob\": [30.0, 29.0, 28.0, 27.0, 26.0, 25.0, 24.0, 23.0, 22.0, 21.0, 20.0, 19.0, 18.0, 17.0, 16.0, 15.0, 14.0, 13.0, 12.0, 11.0, 10.0, 9.0, 8.0, 7.0, 6.0, 5.0, 4.0, 3.0, 2.0, 1.0, -3.3098, -3.3894, -3.4884, -3.4884, -3.4884, -3.4884, -4.2157, -4.2658, -4.2848, -4.4141, -4.495, -4.591, -4.619, -4.6193, -4.7822, -4.785, -4.8255, -4.8618, -4.9542, -4.9816, -4.9921, -4.9899, -5.0207, -5.0217, -5.0347, -5.0612, -5.0687, -5.071, -5.0811, -5.064, -4.4535, -4.1737, -4.3574, -4.8833, -3.7819, -3.2331, -4.6373, -4.8926, -4.3244, -4.7775, -4.8411, -4.919, -4.902, -3.5722, -3.7073, -3.9448, -4.315, -4.6295, -4.6567, -4.6809, -4.731, -4.9076, -4.92, -4.9321, -5.0571, -5.0587, -5.0593, -5.0593, -5.0593, -5.0593, -5.0593, -5.0631, -5.1424, -5.143, -5.1665, -5.1674, -5.1891, -5.2022, -5.2192, -5.2486, -5.2469, -5.2521, -5.2423, -3.4299, -3.5467, -3.7591, -3.691, -4.1234, -3.2785, -4.7186, -3.3611, -4.3078, -4.6034, -5.009, -4.9561, -2.2993, -3.5233, -3.576, -3.8474, -4.0024, -4.0256, -4.0577, -4.4411, -4.4403, -4.4561, -4.5706, -4.6113, -4.6703, -4.713, -4.7272, -4.7589, -4.777, -4.7763, -4.7977, -4.7989, -4.6073, -4.8022, -4.8089, -4.809, -4.809, -4.8269, -4.8464, -4.8774, -4.8885, -4.896, -3.3482, -4.0839, -3.7212, -3.0738, -3.84, -4.0031, -3.3541, -4.1456, -4.4324, -4.5919, -4.6667, -3.7749, -3.8472, -4.0573, -4.1423, -4.2788, -4.5788, -4.8061, -4.8076, -4.8437, -4.9201, -4.9474, -4.9579, -4.9722, -4.9873, -4.9898, -5.0105, -5.0124, -5.0454, -5.0619, -5.0686, -5.0687, -5.0687, -5.0687, -5.0687, -5.0687, -5.0687, -5.0687, -5.0687, -5.1075, -5.2429, -3.9447, -4.4652, -4.1462, -4.0614, -4.5891, -2.9295, -3.7831, -4.6528, -3.8473, -3.43, -4.7603, -4.8042, -4.5726, -4.9756, -3.712, -4.0248, -4.2538, -4.2596, -4.3038, -4.3342, -4.3343, -4.3343, -4.3648, -4.4088, -4.4169, -4.4192, -4.4576, -4.7362, -4.8165, -4.8217, -4.8682, -4.9424, -4.9499, -4.9554, -4.9654, -4.9682, -4.9833, -4.9853, -4.9942, -5.0406, -5.0415, -5.0429, -5.0352, -5.0658, -3.0649, -3.5673, -4.6547, -3.8233, -3.4056, -3.4141, -4.4071, -4.8925, -4.6552, -4.8529, -3.1473, -4.245, -4.3527, -4.3664, -4.4559, -4.4811, -4.5172, -4.6404, -4.6526, -4.5033, -4.72, -4.7999, -4.8314, -4.8433, -4.8582, -4.5052, -4.5052, -4.9376, -4.555, -4.9568, -5.0584, -5.1288, -5.1546, -5.1989, -5.2308, -5.2846, -5.2932, -5.3184, -5.348, -5.4302, -4.462, -3.9468, -3.2926, -3.0055, -4.6334, -3.3655, -2.4553, -2.64, -2.7126, -2.7137, -2.7137, -2.7138, -2.7138, -4.315, -4.4034, -4.4743, -4.5633, -4.9141, -5.0344, -5.1209, -5.3312, -5.3494, -5.4213, -5.4478, -5.4512, -5.4512, -5.4538, -5.4562, -5.6173, -5.5728, -5.7045, -5.7181, -5.7186, -5.7189, -5.7189, -5.8135, -2.3343, -2.689, -5.6148, -4.7965, -2.46, -2.8357, -3.0131, -3.1141, -3.4376, -4.0478, -4.1622, -4.2774, -4.5218, -4.5592, -4.6051, -4.6581, -4.6888, -4.6888, -4.7406, -4.764, -4.7767, -4.7767, -4.8314, -4.8314, -4.8949, -4.8948, -4.9229, -4.9281, -4.9628, -4.975, -4.9751, -5.0251, -5.0579, -5.0586, -5.0586, -4.1063, -4.1848, -2.789, -4.0217, -3.9866, -3.9339, -4.9149], \"loglift\": [30.0, 29.0, 28.0, 27.0, 26.0, 25.0, 24.0, 23.0, 22.0, 21.0, 20.0, 19.0, 18.0, 17.0, 16.0, 15.0, 14.0, 13.0, 12.0, 11.0, 10.0, 9.0, 8.0, 7.0, 6.0, 5.0, 4.0, 3.0, 2.0, 1.0, 1.5649, 1.5648, 1.5647, 1.5647, 1.5647, 1.5647, 1.5635, 1.5634, 1.5633, 1.563, 1.5626, 1.5624, 1.5623, 1.5623, 1.5617, 1.5617, 1.5615, 1.5614, 1.5609, 1.5608, 1.5607, 1.5607, 1.5606, 1.5606, 1.5605, 1.5604, 1.5603, 1.5603, 1.5603, 1.5603, 1.5009, 1.3776, 1.2701, 1.4146, 0.5054, 0.0238, 0.6285, 1.1971, -0.819, 0.3446, 0.4275, 0.7836, -0.1964, 1.8375, 1.8373, 1.8368, 1.8357, 1.8344, 1.8343, 1.8342, 1.8339, 1.8329, 1.8329, 1.8328, 1.8319, 1.8319, 1.8319, 1.8319, 1.8319, 1.8319, 1.8319, 1.8319, 1.8313, 1.8312, 1.8311, 1.8311, 1.8309, 1.8308, 1.8307, 1.8304, 1.8304, 1.8304, 1.8304, 1.7785, 1.4796, 1.4674, 1.0146, 0.9987, 0.2269, 1.3567, -0.1043, 0.9106, 0.871, 1.4793, 1.2784, 1.9883, 1.987, 1.9869, 1.9863, 1.9859, 1.9858, 1.9857, 1.9842, 1.9842, 1.9841, 1.9836, 1.9833, 1.983, 1.9827, 1.9827, 1.9825, 1.9823, 1.9823, 1.9822, 1.9822, 1.9822, 1.9822, 1.9821, 1.9821, 1.9821, 1.982, 1.9819, 1.9817, 1.9816, 1.9815, 1.9136, 1.9371, 1.6602, 1.2135, 1.4258, 1.2153, 0.1513, 0.5158, 0.6897, 0.9603, -1.4099, 2.0837, 2.0835, 2.0828, 2.0825, 2.0819, 2.0804, 2.0788, 2.0788, 2.0786, 2.078, 2.0777, 2.0776, 2.0775, 2.0774, 2.0774, 2.0772, 2.0771, 2.0768, 2.0767, 2.0766, 2.0766, 2.0766, 2.0766, 2.0766, 2.0766, 2.0766, 2.0766, 2.0766, 2.0762, 2.0748, 2.0643, 2.0072, 1.9503, 1.8565, 1.9362, 0.576, 0.8783, 1.5801, 0.44, -0.1732, 1.5794, 1.5652, 0.8087, 1.7928, 2.2319, 2.2309, 2.2299, 2.2298, 2.2296, 2.2295, 2.2295, 2.2295, 2.2293, 2.229, 2.229, 2.2289, 2.2287, 2.2268, 2.2262, 2.2261, 2.2257, 2.225, 2.225, 2.2249, 2.2248, 2.2248, 2.2246, 2.2246, 2.2245, 2.224, 2.224, 2.224, 2.2239, 2.2237, 2.0355, 1.7013, 2.052, 1.6512, 0.0999, -0.1573, 0.2986, 1.8496, 0.5713, 1.3816, 2.3687, 2.3649, 2.3643, 2.3642, 2.3636, 2.3634, 2.3632, 2.3622, 2.3621, 2.3619, 2.3615, 2.3608, 2.3604, 2.3603, 2.3601, 2.3598, 2.3598, 2.3593, 2.3591, 2.3591, 2.3578, 2.3569, 2.3566, 2.3559, 2.3555, 2.3545, 2.3545, 2.3541, 2.3535, 2.3521, 2.3375, 1.7558, 1.3688, 0.5, 1.7022, -0.1087, 2.3843, 2.3841, 2.384, 2.384, 2.384, 2.384, 2.384, 2.379, 2.3785, 2.378, 2.3773, 2.374, 2.3725, 2.3713, 2.3683, 2.368, 2.3667, 2.3662, 2.3661, 2.3661, 2.3661, 2.3659, 2.3627, 2.3614, 2.3607, 2.3604, 2.3603, 2.3603, 2.3603, 2.3579, 2.348, 2.3233, 2.3517, 2.19, 0.7969, 2.5412, 2.5409, 2.5407, 2.5399, 2.5374, 2.5367, 2.536, 2.5342, 2.5339, 2.5334, 2.5329, 2.5326, 2.5326, 2.5321, 2.5318, 2.5317, 2.5317, 2.5311, 2.5311, 2.5303, 2.5303, 2.5299, 2.5298, 2.5294, 2.5293, 2.5293, 2.5285, 2.5281, 2.5281, 2.5281, 2.5023, 2.3939, 0.4678, 1.0046, 0.7191, -0.4284, 1.7915]}, \"token.table\": {\"Topic\": [8, 2, 4, 8, 1, 2, 5, 3, 2, 4, 2, 4, 6, 2, 3, 1, 2, 2, 8, 3, 1, 1, 3, 4, 1, 7, 5, 8, 2, 3, 4, 6, 1, 7, 7, 2, 8, 2, 4, 6, 2, 6, 6, 1, 3, 4, 2, 2, 7, 1, 2, 3, 4, 2, 6, 7, 5, 5, 5, 8, 8, 8, 7, 4, 6, 5, 6, 4, 2, 3, 2, 4, 8, 6, 1, 2, 3, 1, 2, 3, 4, 5, 6, 7, 8, 4, 1, 8, 7, 6, 5, 8, 4, 8, 2, 7, 3, 4, 7, 8, 1, 2, 6, 6, 1, 2, 4, 4, 6, 2, 2, 1, 8, 1, 2, 3, 1, 3, 5, 3, 5, 2, 3, 6, 6, 1, 7, 7, 7, 3, 5, 7, 8, 6, 5, 2, 8, 4, 1, 3, 5, 6, 8, 1, 7, 2, 5, 5, 1, 4, 5, 4, 1, 3, 1, 2, 3, 3, 4, 1, 2, 6, 7, 8, 1, 2, 5, 4, 3, 4, 5, 2, 7, 7, 2, 4, 1, 2, 4, 4, 4, 2, 3, 8, 8, 4, 1, 5, 7, 1, 1, 5, 7, 8, 8, 3, 1, 4, 1, 8, 3, 2, 8, 7, 5, 3, 4, 8, 7, 2, 4, 2, 2, 3, 8, 7, 6, 1, 5, 8, 2, 2, 3, 3, 6, 1, 7, 7, 5, 4, 3, 2, 4, 8, 6, 2, 2, 8, 1, 1, 4, 4, 8, 8, 5, 7, 5, 6, 7, 1, 8, 1, 1, 6, 1, 5, 6, 3, 4, 8, 3, 5, 4, 6, 1, 3, 4, 5, 5, 8, 4, 7, 8, 5, 1, 2, 5, 8, 3, 4, 8, 3, 1, 7, 7, 7, 7, 5, 3, 7, 7, 4, 1, 4, 3, 7, 2, 4, 5, 3, 3, 2, 6, 8, 4, 4, 1, 4, 3, 5, 3, 1, 6, 4, 3, 1, 4, 7, 6, 6, 6, 1, 3, 1, 2, 6, 2, 2, 4, 5, 8, 6, 4, 1, 2, 3, 5, 8, 1, 2, 3, 4, 5, 6, 7, 8, 1, 6, 3, 8, 8, 5, 6, 8, 7, 3, 6, 6, 1, 2, 5, 7, 8, 2, 3, 4, 7, 8, 1, 2, 5, 6, 5], \"Freq\": [0.9970946248425274, 0.40005771766253806, 0.5924905438799615, 0.9805781225383993, 0.9962681024467703, 0.5708008761616519, 0.424782047376113, 0.9958947323234939, 0.07297546931610978, 0.9262271105506241, 0.9962170728421794, 0.9957205893833483, 0.9892022876971546, 0.9957028882404383, 0.9916177917240705, 0.9988288984911032, 0.9900690731634278, 0.9927125004081573, 0.9925983683334333, 0.9965477138097798, 0.9982261502599631, 0.34661947550515976, 0.4602652051789827, 0.19256637528064433, 0.9986613195835299, 0.9660977417643262, 0.9898344240194707, 0.9947814403507127, 0.1046233437134524, 0.22943715726634298, 0.29918605307531126, 0.36709945162614877, 0.05866114559382419, 0.9398819105143832, 0.9747510743230627, 0.9898412881949952, 0.9872564991063437, 0.9988056089877795, 0.9902122466607749, 0.9914293665701049, 0.9893402927539151, 0.9878618943804701, 0.9908245579418208, 0.9952388505734883, 0.996098288241164, 0.9869794125550285, 0.9921600500074571, 0.9924255686302602, 0.9822575744384546, 0.9995604467364144, 0.9898412881949952, 0.7201911345633186, 0.2790269317156313, 0.988009001100712, 0.9893634659872206, 0.9765726738763187, 0.9928718657027876, 0.994204866516621, 0.9942987116572779, 0.9915016069290736, 0.9898077802946199, 0.9919974789502447, 0.9877166926658673, 0.9933942410561475, 0.9777208612835447, 0.023355642609182065, 0.9653665611795254, 0.98663356501421, 0.9918966902792558, 0.9987702427708997, 0.9908131874823962, 0.9960184372583084, 0.9985586839889194, 0.992818096215288, 0.39366242452604816, 0.24603901532878011, 0.3578749313873165, 0.09214960462715471, 0.19932046141923745, 0.15916749890144904, 0.2206968587308658, 0.11814792568183785, 0.15396783469051242, 0.004910793976995706, 0.05113003140754352, 0.994654469189312, 0.9971971955106909, 0.9924225430814763, 0.9981942552219364, 0.9917907477918301, 0.9938850912058402, 0.9896321911623317, 0.03216157415748679, 0.9584149098931064, 0.9932173654251248, 0.9719623800242182, 0.3736188216955367, 0.6046725666914607, 0.014748111382718554, 0.009832074255145703, 0.9950288996557743, 0.9915964582500023, 0.9955754938498906, 0.9964916851652212, 0.9970409669905959, 0.9901135446460844, 0.9936486216587096, 0.9902122466607749, 0.9835002342749898, 0.9988704033884391, 0.9959441549723076, 0.9993212882890654, 0.9958751202270761, 0.29532519742011826, 0.432076766668843, 0.2720483345692715, 0.7451762588044434, 0.2532152335743254, 0.9970637278060395, 0.9917203259984425, 0.992318062660778, 0.04646603745707956, 0.9507666125833203, 0.9892022876971546, 0.9896799977435234, 0.9964758143901562, 0.9789893736625684, 0.9833107516764231, 0.9985358744800699, 0.9924915454443076, 0.8301567831152398, 0.01419071424128615, 0.14900249953350456, 0.9941175028193341, 0.996300906441257, 0.9898412881949952, 0.9842205346251953, 0.9945086961771159, 0.9973732013038894, 0.997870398510153, 0.9949123657486771, 0.9912746809583225, 0.9929998773274464, 0.9933964451095955, 0.9898107136482404, 0.9986597675472354, 0.9953441464796788, 0.9912021875884669, 0.20311328969096298, 0.7931090359361411, 0.9964748102107976, 0.9902122466607749, 0.6929767387430709, 0.30628806132290426, 0.3913523422104427, 0.038631347085150994, 0.5693924635593994, 0.249050486520907, 0.747151459562721, 0.03171808618143691, 0.9404412552796042, 0.025374468945149522, 0.9952159856790144, 0.9961660152756311, 0.8290514276980688, 0.16983263747992786, 0.9935474136705932, 0.9947307140307287, 0.9997312574731505, 0.9921060376482645, 0.993542223797804, 0.9898412881949952, 0.9991654216917537, 0.968608518976629, 0.9950679004033567, 0.9901013427595136, 0.19880592624278548, 0.19880592624278548, 0.6008356882004183, 0.9902122466607749, 0.9902122466607749, 0.9898412881949952, 0.9932815993455422, 0.9921285593898534, 0.9842215950022033, 0.9946631255017959, 0.9962171924500187, 0.9934704066751805, 0.998111786590485, 0.9936572599789532, 0.9993212882890654, 0.9945915855800026, 0.998240985975391, 0.992832394216926, 0.985362928937051, 0.9983321044658248, 0.9362828733917569, 0.06018961328947008, 0.9993212882890654, 0.9847547482116193, 0.9935370301173136, 0.997526926449012, 0.9842215950022033, 0.9949105547677328, 0.9928741684800775, 0.92679169394016, 0.00836454597418917, 0.06357054940383769, 0.9741070468415606, 0.12334371979967672, 0.8711150210852168, 0.9962458604523989, 0.6188928654382537, 0.34718380256292286, 0.033963632859416365, 0.991045866058886, 0.9776705677697433, 0.32003057687621356, 0.5861612671206438, 0.09264043014837761, 0.9969525637895719, 0.9965858489391295, 0.9965343184334527, 0.996218170979415, 0.9912411784623204, 0.1689522083257469, 0.8259885740369848, 0.9931798215718385, 0.9858715260513603, 0.9884880550532913, 0.9942133589990384, 0.6979585530191011, 0.08592292792848784, 0.2141463742217697, 0.9818168476359402, 0.9868242594845158, 0.5249283157122938, 0.475272934496266, 0.9993212882890654, 0.1361286169554078, 0.858202150371049, 0.9783284945158701, 0.017659359106784657, 0.9987268530122108, 0.9917417970370289, 0.9861484328553464, 0.9862604935746437, 0.986564214819546, 0.9753861130453761, 0.9977162469299606, 0.9925250970436358, 0.9932245017556659, 0.9956220199680758, 0.993550102345429, 0.9947325107362203, 0.9901910298770616, 0.9919422007846627, 0.9958651296755724, 0.9891181723003619, 0.9943642996173703, 0.9959693888882205, 0.9963796038103736, 0.9902122466607749, 0.992002355684614, 0.9970411355035361, 0.9907544239290159, 0.9947728242370588, 0.996088577349442, 0.9913185376952652, 0.9926636432975886, 0.03561210180542058, 0.9634010698940092, 0.9921285593898534, 0.9956253121661902, 0.05836840302372227, 0.118160425633389, 0.8200048815040006, 0.004270858757833337, 0.9940322250511299, 0.13110698932628198, 0.8615602155727101, 0.9955241059379871, 0.9946454051583696, 0.9944785675584256, 0.991045866058886, 0.979500168785752, 0.9797737179015671, 0.9925676726002433, 0.9960040704476053, 0.9797737179015671, 0.9886479783320422, 0.9945051825541311, 0.995539835864489, 0.9951309689638949, 0.994693203496276, 0.9805266006281615, 0.9936134053532798, 0.9966434113613089, 0.9896003706244879, 0.9947262492791314, 0.9929089457923221, 0.4650796780399597, 0.5140354336231133, 0.01958230223326146, 0.9874983015618837, 0.9940310662322188, 0.9939660835471684, 0.9902122466607749, 0.9969854033252408, 0.988041242718092, 0.9902507977294009, 0.45753947427348474, 0.5407284695959365, 0.9898803689256334, 0.9968906805769125, 0.9913992919597355, 0.9947150031208598, 0.998463786558613, 0.9858200751372979, 0.9785376459181665, 0.994430329071832, 0.9972096986605964, 0.9937062408297226, 0.9985473159446098, 0.6958101495781057, 0.2965748178529631, 0.9884858526468124, 0.38074717163789473, 0.0558705088816476, 0.558705088816476, 0.0062078343201830664, 0.9987740519501753, 0.9901885827340935, 0.17171263492339292, 0.43839482770944455, 0.08345809630354852, 0.14389326948887676, 0.16116046182754198, 0.214018762907255, 0.14327992969369913, 0.03334187043186709, 0.10430598655374639, 0.09146486077931108, 0.08380524189631458, 0.20433159784934765, 0.12548257993614845, 0.9959734702872857, 0.9943180673299848, 0.9953052597231565, 0.9903872161752261, 0.9875723835334662, 0.6837017657082307, 0.31612017124144004, 0.9842205346251953, 0.9980610346179893, 0.9973246104971376, 0.9960460008471462, 0.9809867960645957, 0.04521463539620131, 0.6895231897920701, 0.1889325836198412, 0.008074042035035948, 0.06782195309430197, 0.3956661271761023, 0.46134350051302614, 0.1393641824466433, 0.003203774309118237, 0.9854161566320775, 0.8580089493038444, 0.1367157117022609, 0.9858336471616919, 0.991609802743705, 0.9963796038103736], \"Term\": [\"0\", \"1\", \"1\", \"14\", \"1845\", \"2\", \"2\", \"20\", \"2021\", \"2021\", \"204344\", \"21\", \"21st\", \"2nd\", \"30\", \"4518\", \"5\", \"84\", \"according\", \"action\", \"administered\", \"africa\", \"africa\", \"africa\", \"age\", \"agreed\", \"already\", \"america\", \"amp\", \"amp\", \"amp\", \"amp\", \"another\", \"another\", \"apartheid\", \"ashevaks\", \"aundh\", \"australia\", \"bakarwals\", \"based\", \"beautiful\", \"behind\", \"benefit\", \"best\", \"blown\", \"bringing\", \"budget\", \"buy\", \"cancels\", \"capacity\", \"capita\", \"cases\", \"cases\", \"cause\", \"centre\", \"cheap\", \"child\", \"children\", \"china\", \"code411007\", \"code411027\", \"code411041\", \"colonial\", \"coming\", \"commission\", \"committed\", \"committed\", \"community\", \"control\", \"coronavirus\", \"cost\", \"countries\", \"covaxin\", \"coverage\", \"covid\", \"covid\", \"covid\", \"covid19\", \"covid19\", \"covid19\", \"covid19\", \"covid19\", \"covid19\", \"covid19\", \"covid19\", \"covidvaccination\", \"covishield\", \"credentialed\", \"crime\", \"data\", \"date\", \"day\", \"days\", \"days\", \"deadly\", \"deal\", \"deaths\", \"deaths\", \"deaths\", \"deaths\", \"delta\", \"deltavariant\", \"department\", \"designers\", \"desperate\", \"direct\", \"directly\", \"distances\", \"don\", \"dont\", \"dose\", \"dose1\", \"dose2\", \"doses\", \"doses\", \"doses\", \"dr\", \"dr\", \"education\", \"elsewhere\", \"every\", \"everyone\", \"everyone\", \"expanded\", \"expected\", \"experts\", \"expiration\", \"expire\", \"expired\", \"failure\", \"far\", \"far\", \"far\", \"fastest\", \"fireworks\", \"fish\", \"former\", \"forward\", \"free\", \"full\", \"fully\", \"fund\", \"gandhi\", \"germany\", \"global\", \"go\", \"good\", \"got\", \"government\", \"government\", \"graphic\", \"gujjars\", \"head\", \"head\", \"health\", \"health\", \"health\", \"healthcare\", \"healthcare\", \"help\", \"help\", \"help\", \"helping\", \"hit\", \"hospital\", \"hospital\", \"huge\", \"increased\", \"india\", \"indiafightscorona\", \"indian\", \"iqalutsiavak\", \"israel\", \"israelis\", \"jab\", \"jammu\", \"june\", \"june\", \"june\", \"karyakartas\", \"kashmirs\", \"kenojuak\", \"kills\", \"kuty\", \"laigude\", \"latest\", \"leaders\", \"less\", \"liars\", \"lift\", \"limit\", \"little\", \"load\", \"medical\", \"michael\", \"midst\", \"million\", \"million\", \"min\", \"moderna\", \"money\", \"mrna\", \"murlidhar\", \"must\", \"myocarditis\", \"need\", \"need\", \"need\", \"needed\", \"new\", \"new\", \"nft\", \"now\", \"now\", \"now\", \"occupation\", \"older\", \"one\", \"one\", \"one\", \"ontario\", \"outbreak\", \"overwhelm\", \"oxygen\", \"pace\", \"palestinian\", \"palestinian\", \"palestinians\", \"parts\", \"past\", \"pay\", \"people\", \"people\", \"people\", \"peoplesvaccine\", \"personnel\", \"pfizer\", \"pfizer\", \"pin\", \"places\", \"places\", \"please\", \"please\", \"pmcg\", \"pose\", \"post\", \"ppe\", \"preregister\", \"proclaimed\", \"production\", \"professionals\", \"protect\", \"provide\", \"providing\", \"public\", \"puts\", \"question\", \"quickly\", \"reach\", \"read\", \"rebound\", \"release\", \"remotest\", \"response\", \"restrictions\", \"retweet\", \"rich\", \"risk\", \"risks\", \"roberts\", \"rt\", \"rt\", \"rugnalaya\", \"rural\", \"s\", \"s\", \"s\", \"s\", \"said\", \"see\", \"see\", \"seen\", \"sending\", \"sent\", \"settler\", \"shipment\", \"showed\", \"shunned\", \"sobering\", \"sooner\", \"soontoexpire\", \"south\", \"speaks\", \"staff\", \"stand\", \"state\", \"still\", \"support\", \"surges\", \"surging\", \"systems\", \"t\", \"t\", \"t\", \"taiwan\", \"take\", \"technology\", \"terrains\", \"third\", \"threat\", \"time\", \"today\", \"today\", \"total\", \"trajectory\", \"transfer\", \"travel\", \"tried\", \"tripswaiver\", \"truth\", \"uganda\", \"uk\", \"urgent\", \"urgently\", \"us\", \"us\", \"use\", \"vaccinated\", \"vaccinated\", \"vaccinated\", \"vaccinated\", \"vaccination\", \"vaccinationdrive\", \"vaccine\", \"vaccine\", \"vaccine\", \"vaccine\", \"vaccine\", \"vaccines\", \"vaccines\", \"vaccines\", \"vaccines\", \"vaccines\", \"vaccines\", \"vaccines\", \"vaccines\", \"variant\", \"vax\", \"via\", \"videos\", \"virologist\", \"virus\", \"virus\", \"vp\", \"war\", \"wave\", \"way\", \"well\", \"will\", \"will\", \"will\", \"will\", \"will\", \"world\", \"world\", \"world\", \"world\", \"yeadon\", \"yet\", \"yet\", \"youre\", \"zimbabwe\", \"zweli\"]}, \"R\": 30, \"lambda.step\": 0.01, \"plot.opts\": {\"xlab\": \"PC1\", \"ylab\": \"PC2\"}, \"topic.order\": [6, 2, 8, 1, 5, 7, 4, 3]};\n",
       "\n",
       "function LDAvis_load_lib(url, callback){\n",
       "  var s = document.createElement('script');\n",
       "  s.src = url;\n",
       "  s.async = true;\n",
       "  s.onreadystatechange = s.onload = callback;\n",
       "  s.onerror = function(){console.warn(\"failed to load library \" + url);};\n",
       "  document.getElementsByTagName(\"head\")[0].appendChild(s);\n",
       "}\n",
       "\n",
       "if(typeof(LDAvis) !== \"undefined\"){\n",
       "   // already loaded: just create the visualization\n",
       "   !function(LDAvis){\n",
       "       new LDAvis(\"#\" + \"ldavis_el146215006858048609156665\", ldavis_el146215006858048609156665_data);\n",
       "   }(LDAvis);\n",
       "}else if(typeof define === \"function\" && define.amd){\n",
       "   // require.js is available: use it to load d3/LDAvis\n",
       "   require.config({paths: {d3: \"https://d3js.org/d3.v5\"}});\n",
       "   require([\"d3\"], function(d3){\n",
       "      window.d3 = d3;\n",
       "      LDAvis_load_lib(\"https://cdn.jsdelivr.net/gh/bmabey/pyLDAvis@3.3.1/pyLDAvis/js/ldavis.v3.0.0.js\", function(){\n",
       "        new LDAvis(\"#\" + \"ldavis_el146215006858048609156665\", ldavis_el146215006858048609156665_data);\n",
       "      });\n",
       "    });\n",
       "}else{\n",
       "    // require.js not available: dynamically load d3 & LDAvis\n",
       "    LDAvis_load_lib(\"https://d3js.org/d3.v5.js\", function(){\n",
       "         LDAvis_load_lib(\"https://cdn.jsdelivr.net/gh/bmabey/pyLDAvis@3.3.1/pyLDAvis/js/ldavis.v3.0.0.js\", function(){\n",
       "                 new LDAvis(\"#\" + \"ldavis_el146215006858048609156665\", ldavis_el146215006858048609156665_data);\n",
       "            })\n",
       "         });\n",
       "}\n",
       "</script>"
      ],
      "text/plain": [
       "PreparedData(topic_coordinates=              x         y  topics  cluster       Freq\n",
       "topic                                                \n",
       "5      0.097026  0.162001       1        1  20.891795\n",
       "1      0.046701 -0.131040       2        1  15.895585\n",
       "7      0.279378  0.101146       3        1  13.685014\n",
       "0      0.111302  0.025912       4        1  12.413266\n",
       "4     -0.105702 -0.200947       5        1  10.701581\n",
       "6     -0.029678 -0.109745       6        1   9.342092\n",
       "3     -0.293203  0.261939       7        1   9.206277\n",
       "2     -0.105825 -0.109266       8        1   7.864390, topic_info=         Term         Freq        Total Category  logprob  loglift\n",
       "219     india  1583.000000  1583.000000  Default  30.0000  30.0000\n",
       "205        rt  1067.000000  1067.000000  Default  29.0000  29.0000\n",
       "456    israel   911.000000   911.000000  Default  28.0000  28.0000\n",
       "455   expired   758.000000   758.000000  Default  27.0000  27.0000\n",
       "128   another   767.000000   767.000000  Default  26.0000  26.0000\n",
       "..        ...          ...          ...      ...      ...      ...\n",
       "40   vaccines   557.306255  4438.863150   Topic8  -2.7890   0.4678\n",
       "196    people   162.464979   756.491912   Topic8  -4.0217   1.0046\n",
       "104   vaccine   168.273171  1042.439306   Topic8  -3.9866   0.7191\n",
       "64    covid19   177.377048  3461.762004   Topic8  -3.9339  -0.4284\n",
       "74     pfizer    66.505042   140.971629   Topic8  -4.9149   1.7915\n",
       "\n",
       "[348 rows x 6 columns], token_table=      Topic      Freq      Term\n",
       "term                           \n",
       "660       8  0.997095         0\n",
       "276       2  0.400058         1\n",
       "276       4  0.592491         1\n",
       "438       8  0.980578        14\n",
       "637       1  0.996268      1845\n",
       "...     ...       ...       ...\n",
       "149       1  0.858009       yet\n",
       "149       2  0.136716       yet\n",
       "1204      5  0.985834     youre\n",
       "1099      6  0.991610  zimbabwe\n",
       "2730      5  0.996380     zweli\n",
       "\n",
       "[373 rows x 3 columns], R=30, lambda_step=0.01, plot_opts={'xlab': 'PC1', 'ylab': 'PC2'}, topic_order=[6, 2, 8, 1, 5, 7, 4, 3])"
      ]
     },
     "execution_count": 43,
     "metadata": {},
     "output_type": "execute_result"
    }
   ],
   "source": [
    "lda_prepared"
   ]
  },
  {
   "cell_type": "code",
   "execution_count": null,
   "metadata": {},
   "outputs": [],
   "source": []
  }
 ],
 "metadata": {
  "kernelspec": {
   "display_name": "Python 3",
   "language": "python",
   "name": "python3"
  },
  "language_info": {
   "codemirror_mode": {
    "name": "ipython",
    "version": 3
   },
   "file_extension": ".py",
   "mimetype": "text/x-python",
   "name": "python",
   "nbconvert_exporter": "python",
   "pygments_lexer": "ipython3",
   "version": "3.9.4"
  }
 },
 "nbformat": 4,
 "nbformat_minor": 4
}
