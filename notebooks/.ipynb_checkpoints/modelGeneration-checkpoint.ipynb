{
 "cells": [
  {
   "cell_type": "code",
   "execution_count": 71,
   "metadata": {},
   "outputs": [],
   "source": [
    "CLEANED_SAVE_PATH = \"../cleaned_tweet_data.csv\""
   ]
  },
  {
   "cell_type": "code",
   "execution_count": 72,
   "metadata": {},
   "outputs": [],
   "source": [
    "import pandas as pd\n",
    "from wordcloud import STOPWORDS,WordCloud"
   ]
  },
  {
   "cell_type": "code",
   "execution_count": 73,
   "metadata": {},
   "outputs": [],
   "source": [
    "# taking a csv file path and reading a dataframe\n",
    "\n",
    "def read_proccessed_data(csv_path):\n",
    "    try:    \n",
    "        df = pd.read_csv(csv_path)\n",
    "        print(\"file read as csv\")\n",
    "        return df\n",
    "    \n",
    "    except FileNotFoundError:\n",
    "        print(\"file not found\")"
   ]
  },
  {
   "cell_type": "code",
   "execution_count": 74,
   "metadata": {},
   "outputs": [
    {
     "name": "stdout",
     "output_type": "stream",
     "text": [
      "file read as csv\n"
     ]
    }
   ],
   "source": [
    "df = read_proccessed_data(CLEANED_SAVE_PATH)"
   ]
  },
  {
   "cell_type": "code",
   "execution_count": 75,
   "metadata": {},
   "outputs": [
    {
     "name": "stdout",
     "output_type": "stream",
     "text": [
      "<class 'pandas.core.frame.DataFrame'>\n",
      "RangeIndex: 6532 entries, 0 to 6531\n",
      "Data columns (total 17 columns):\n",
      " #   Column              Non-Null Count  Dtype  \n",
      "---  ------              --------------  -----  \n",
      " 0   created_at          6532 non-null   object \n",
      " 1   source              6532 non-null   object \n",
      " 2   original_text       6532 non-null   object \n",
      " 3   polarity            6532 non-null   float64\n",
      " 4   subjectivity        6532 non-null   float64\n",
      " 5   lang                6532 non-null   object \n",
      " 6   favorite_count      6532 non-null   int64  \n",
      " 7   retweet_count       4785 non-null   float64\n",
      " 8   original_author     6532 non-null   object \n",
      " 9   followers_count     6532 non-null   int64  \n",
      " 10  friends_count       6532 non-null   int64  \n",
      " 11  possibly_sensitive  0 non-null      float64\n",
      " 12  hashtags            6532 non-null   object \n",
      " 13  user_mentions       6532 non-null   object \n",
      " 14  place               4088 non-null   object \n",
      " 15  friends_count       6532 non-null   float64\n",
      " 16  clean_text          6532 non-null   object \n",
      "dtypes: float64(5), int64(3), object(9)\n",
      "memory usage: 867.7+ KB\n"
     ]
    }
   ],
   "source": [
    "# inspecting the columns\n",
    "df.info()"
   ]
  },
  {
   "cell_type": "code",
   "execution_count": 76,
   "metadata": {},
   "outputs": [
    {
     "data": {
      "text/plain": [
       " 0.000000    1829\n",
       "-0.750000     501\n",
       " 0.500000     210\n",
       " 0.133333     201\n",
       " 0.337500     189\n",
       "             ... \n",
       "-0.190625       1\n",
       "-0.035714       1\n",
       "-0.175000       1\n",
       " 0.186111       1\n",
       "-0.055556       1\n",
       "Name: polarity, Length: 401, dtype: int64"
      ]
     },
     "execution_count": 76,
     "metadata": {},
     "output_type": "execute_result"
    }
   ],
   "source": [
    "# inspecting the polarity column\n",
    "df['polarity']\n",
    "df['polarity'].value_counts()\n"
   ]
  },
  {
   "cell_type": "code",
   "execution_count": 77,
   "metadata": {},
   "outputs": [
    {
     "name": "stdout",
     "output_type": "stream",
     "text": [
      "sum of null values in clean_text column: 0\n",
      "sum of null values in polarity cloumn: 0\n"
     ]
    }
   ],
   "source": [
    "# checking if there are null values\n",
    "text_null_sum = df['clean_text'].isnull().sum()\n",
    "polarity_null_sum = df['polarity'].isnull().sum()\n",
    "\n",
    "print(f'sum of null values in clean_text column: {text_null_sum}')\n",
    "print(f'sum of null values in polarity cloumn: {polarity_null_sum}')"
   ]
  },
  {
   "cell_type": "code",
   "execution_count": 78,
   "metadata": {},
   "outputs": [],
   "source": [
    "# creating cleanedTweet dataframe\n",
    "cleanedTweet = pd.DataFrame(columns=['clean_text','polarity'])\n",
    "\n",
    "cleanedTweet['clean_text'] = df['clean_text']\n",
    "cleanedTweet['polarity'] = df['polarity']\n",
    "cleanedTweet.dropna(inplace=True)"
   ]
  },
  {
   "cell_type": "code",
   "execution_count": 79,
   "metadata": {},
   "outputs": [
    {
     "data": {
      "text/html": [
       "<div>\n",
       "<style scoped>\n",
       "    .dataframe tbody tr th:only-of-type {\n",
       "        vertical-align: middle;\n",
       "    }\n",
       "\n",
       "    .dataframe tbody tr th {\n",
       "        vertical-align: top;\n",
       "    }\n",
       "\n",
       "    .dataframe thead th {\n",
       "        text-align: right;\n",
       "    }\n",
       "</style>\n",
       "<table border=\"1\" class=\"dataframe\">\n",
       "  <thead>\n",
       "    <tr style=\"text-align: right;\">\n",
       "      <th></th>\n",
       "      <th>clean_text</th>\n",
       "      <th>polarity</th>\n",
       "    </tr>\n",
       "  </thead>\n",
       "  <tbody>\n",
       "    <tr>\n",
       "      <th>0</th>\n",
       "      <td>🚨africa is \"in the midst of a full-blown third...</td>\n",
       "      <td>0.166667</td>\n",
       "    </tr>\n",
       "    <tr>\n",
       "      <th>1</th>\n",
       "      <td>dr moeti is head of who in africa and one of t...</td>\n",
       "      <td>0.133333</td>\n",
       "    </tr>\n",
       "    <tr>\n",
       "      <th>2</th>\n",
       "      <td>thank you  for creating this amazing campaign ...</td>\n",
       "      <td>0.316667</td>\n",
       "    </tr>\n",
       "    <tr>\n",
       "      <th>3</th>\n",
       "      <td>former pfizer vp and virologist dr michael yea...</td>\n",
       "      <td>0.086111</td>\n",
       "    </tr>\n",
       "    <tr>\n",
       "      <th>4</th>\n",
       "      <td>i think it’s important that we don’t sell cova...</td>\n",
       "      <td>0.280000</td>\n",
       "    </tr>\n",
       "    <tr>\n",
       "      <th>...</th>\n",
       "      <td>...</td>\n",
       "      <td>...</td>\n",
       "    </tr>\n",
       "    <tr>\n",
       "      <th>6527</th>\n",
       "      <td>rt : zweli please just release the graphic des...</td>\n",
       "      <td>0.000000</td>\n",
       "    </tr>\n",
       "    <tr>\n",
       "      <th>6528</th>\n",
       "      <td>former pfizer vp and virologist dr michael yea...</td>\n",
       "      <td>0.086111</td>\n",
       "    </tr>\n",
       "    <tr>\n",
       "      <th>6529</th>\n",
       "      <td>respectfully veterinarians have to have a br...</td>\n",
       "      <td>0.281250</td>\n",
       "    </tr>\n",
       "    <tr>\n",
       "      <th>6530</th>\n",
       "      <td>\"africa needs millions more doses here &amp;amp; n...</td>\n",
       "      <td>0.125000</td>\n",
       "    </tr>\n",
       "    <tr>\n",
       "      <th>6531</th>\n",
       "      <td>rt : liars you tried to load off your expired ...</td>\n",
       "      <td>0.000000</td>\n",
       "    </tr>\n",
       "  </tbody>\n",
       "</table>\n",
       "<p>6532 rows × 2 columns</p>\n",
       "</div>"
      ],
      "text/plain": [
       "                                             clean_text  polarity\n",
       "0     🚨africa is \"in the midst of a full-blown third...  0.166667\n",
       "1     dr moeti is head of who in africa and one of t...  0.133333\n",
       "2     thank you  for creating this amazing campaign ...  0.316667\n",
       "3     former pfizer vp and virologist dr michael yea...  0.086111\n",
       "4     i think it’s important that we don’t sell cova...  0.280000\n",
       "...                                                 ...       ...\n",
       "6527  rt : zweli please just release the graphic des...  0.000000\n",
       "6528  former pfizer vp and virologist dr michael yea...  0.086111\n",
       "6529    respectfully veterinarians have to have a br...  0.281250\n",
       "6530  \"africa needs millions more doses here &amp; n...  0.125000\n",
       "6531  rt : liars you tried to load off your expired ...  0.000000\n",
       "\n",
       "[6532 rows x 2 columns]"
      ]
     },
     "execution_count": 79,
     "metadata": {},
     "output_type": "execute_result"
    }
   ],
   "source": [
    "cleanedTweet"
   ]
  },
  {
   "cell_type": "code",
   "execution_count": 80,
   "metadata": {},
   "outputs": [],
   "source": [
    "# takes polarity and returns a string either postive, negative or neutral\n",
    "\n",
    "def text_category(p: float) -> str:\n",
    "    if p > 0:\n",
    "        return \"positive\"\n",
    "    elif p == 0:\n",
    "        return \"neutral\"\n",
    "    else:\n",
    "        return \"negative\""
   ]
  },
  {
   "cell_type": "code",
   "execution_count": 81,
   "metadata": {},
   "outputs": [
    {
     "data": {
      "text/plain": [
       "positive    3426\n",
       "neutral     1829\n",
       "negative    1277\n",
       "Name: score, dtype: int64"
      ]
     },
     "execution_count": 81,
     "metadata": {},
     "output_type": "execute_result"
    }
   ],
   "source": [
    "# creating score column by applying text_category\n",
    "cleanedTweet['score'] = cleanedTweet['polarity'].apply(text_category)\n",
    "cleanedTweet['score'].value_counts()"
   ]
  },
  {
   "cell_type": "code",
   "execution_count": 82,
   "metadata": {},
   "outputs": [
    {
     "data": {
      "text/plain": [
       "<matplotlib.axes._subplots.AxesSubplot at 0x1a24e50550>"
      ]
     },
     "execution_count": 82,
     "metadata": {},
     "output_type": "execute_result"
    },
    {
     "data": {
      "image/png": "[encoded data removed]",
      "text/plain": [
       "<Figure size 576x576 with 1 Axes>"
      ]
     },
     "metadata": {
      "needs_background": "light"
     },
     "output_type": "display_data"
    }
   ],
   "source": [
    "# Grouping the scores and plotting bar graph\n",
    "score_count =  cleanedTweet['score'].value_counts()\n",
    "score_count.plot(kind=\"bar\", y=\"score\", title=\"score\", figsize=[8, 8])"
   ]
  },
  {
   "cell_type": "code",
   "execution_count": 83,
   "metadata": {},
   "outputs": [
    {
     "data": {
      "text/plain": [
       "<matplotlib.axes._subplots.AxesSubplot at 0x1a24e25310>"
      ]
     },
     "execution_count": 83,
     "metadata": {},
     "output_type": "execute_result"
    },
    {
     "data": {
      "image/png": "[encoded data removed]",
      "text/plain": [
       "<Figure size 576x576 with 1 Axes>"
      ]
     },
     "metadata": {},
     "output_type": "display_data"
    }
   ],
   "source": [
    "score_count.plot(kind=\"pie\", y=\"score\", title=\"score\", x=\"\", figsize=[8, 8])\n"
   ]
  },
  {
   "cell_type": "code",
   "execution_count": 84,
   "metadata": {},
   "outputs": [],
   "source": [
    "# takes a string and returns if a value is \"neutral\"\n",
    "def remove_neutral(value):\n",
    "    return value != \"neutral\""
   ]
  },
  {
   "cell_type": "code",
   "execution_count": 85,
   "metadata": {},
   "outputs": [
    {
     "name": "stderr",
     "output_type": "stream",
     "text": [
      "/Users/daniel/opt/anaconda3/lib/python3.7/site-packages/ipykernel_launcher.py:6: SettingWithCopyWarning: \n",
      "A value is trying to be set on a copy of a slice from a DataFrame.\n",
      "Try using .loc[row_indexer,col_indexer] = value instead\n",
      "\n",
      "See the caveats in the documentation: https://pandas.pydata.org/pandas-docs/stable/user_guide/indexing.html#returning-a-view-versus-a-copy\n",
      "  \n"
     ]
    }
   ],
   "source": [
    "# creating score_map column\n",
    "# we remove all rows that have neutral score\n",
    "# then create a score_map. if score is \"positive\" it has value 1 else 0\n",
    "\n",
    "cleanedTweet = cleanedTweet[cleanedTweet['score'].map(remove_neutral)]\n",
    "cleanedTweet['score_map'] = cleanedTweet[\"score\"].map( lambda score: 1 if score == \"positive\" else 0)"
   ]
  },
  {
   "cell_type": "code",
   "execution_count": 86,
   "metadata": {},
   "outputs": [],
   "source": [
    "\n",
    "from sklearn.feature_extraction.text import CountVectorizer, TfidfTransformer\n",
    "from joblib import dump, load # used for saving and loading sklearn objects\n",
    "from scipy.sparse import save_npz, load_npz # used for saving and loading sparse matrices\n",
    "from sklearn.decomposition import NMF, LatentDirichletAllocation\n",
    "from sklearn.linear_model import SGDClassifier\n",
    "from sklearn.model_selection import train_test_split"
   ]
  },
  {
   "cell_type": "code",
   "execution_count": 87,
   "metadata": {},
   "outputs": [],
   "source": [
    "# separating our input and output\n",
    "(X, y) = cleanedTweet['clean_text'], cleanedTweet['score_map']"
   ]
  },
  {
   "cell_type": "code",
   "execution_count": 88,
   "metadata": {},
   "outputs": [
    {
     "data": {
      "text/plain": [
       "CountVectorizer(analyzer='word', binary=False, decode_error='strict',\n",
       "                dtype=<class 'numpy.int64'>, encoding='utf-8', input='content',\n",
       "                lowercase=True, max_df=1.0, max_features=None, min_df=1,\n",
       "                ngram_range=(1, 3), preprocessor=None, stop_words=None,\n",
       "                strip_accents=None, token_pattern='(?u)\\\\b\\\\w\\\\w+\\\\b',\n",
       "                tokenizer=None, vocabulary=None)"
      ]
     },
     "execution_count": 88,
     "metadata": {},
     "output_type": "execute_result"
    }
   ],
   "source": [
    "# creating CountVectorizer and fitting it\n",
    "trigram_vectorizer = CountVectorizer(ngram_range=(1, 3))\n",
    "trigram_vectorizer.fit(X.values)\n"
   ]
  },
  {
   "cell_type": "code",
   "execution_count": 89,
   "metadata": {},
   "outputs": [],
   "source": [
    "# creating a tri_gram Vector representation for X\n",
    "X_trigram = trigram_vectorizer.transform(X.values)"
   ]
  },
  {
   "cell_type": "code",
   "execution_count": 90,
   "metadata": {},
   "outputs": [
    {
     "data": {
      "text/plain": [
       "TfidfTransformer(norm='l2', smooth_idf=True, sublinear_tf=False, use_idf=True)"
      ]
     },
     "execution_count": 90,
     "metadata": {},
     "output_type": "execute_result"
    }
   ],
   "source": [
    "# creating a trigram tfidf transformer\n",
    "trigram_tf_idf_transformer = TfidfTransformer()\n",
    "trigram_tf_idf_transformer.fit(X_trigram)"
   ]
  },
  {
   "cell_type": "code",
   "execution_count": 91,
   "metadata": {},
   "outputs": [],
   "source": [
    "# creating a tfidf representation of x\n",
    "X_train_tf_idf = trigram_tf_idf_transformer.transform(X_trigram)"
   ]
  },
  {
   "cell_type": "code",
   "execution_count": 92,
   "metadata": {},
   "outputs": [],
   "source": [
    "# takes input as X, and ouput as Y, title of model as title\n",
    "# split the input to train and valid\n",
    "# use Stochastic Gradient Descent Classifier\n",
    "# train\n",
    "# out put the training score and validation score\n",
    "def train_and_show_scores(X, y, title: str) -> None:\n",
    "    X_train, X_valid, y_train, y_valid = train_test_split(\n",
    "        X, y, train_size=0.75, stratify=y\n",
    "    )\n",
    "\n",
    "    clf = SGDClassifier()\n",
    "    clf.fit(X_train, y_train)\n",
    "    train_score = clf.score(X_train, y_train)\n",
    "    valid_score = clf.score(X_valid, y_valid)\n",
    "    print(f'{title}\\nTrain score: {round(train_score, 2)} ; Validation score: {round(valid_score, 2)}\\n')"
   ]
  },
  {
   "cell_type": "code",
   "execution_count": 93,
   "metadata": {},
   "outputs": [
    {
     "name": "stdout",
     "output_type": "stream",
     "text": [
      "trigram\n",
      "Train score: 1.0 ; Validation score: 0.96\n",
      "\n"
     ]
    }
   ],
   "source": [
    "# train using inputs vectorized as trigram\n",
    "\n",
    "train_and_show_scores(X_trigram, y, title=\"trigram\")"
   ]
  },
  {
   "cell_type": "code",
   "execution_count": 94,
   "metadata": {},
   "outputs": [
    {
     "name": "stdout",
     "output_type": "stream",
     "text": [
      "trigram_tf_idf\n",
      "Train score: 1.0 ; Validation score: 0.96\n",
      "\n"
     ]
    }
   ],
   "source": [
    "# train using inputs vectorized as trigram_tfidf\n",
    "\n",
    "\n",
    "train_and_show_scores(X_train_tf_idf, y, title=\"trigram_tf_idf\")"
   ]
  },
  {
   "cell_type": "code",
   "execution_count": null,
   "metadata": {},
   "outputs": [],
   "source": []
  },
  {
   "cell_type": "code",
   "execution_count": null,
   "metadata": {},
   "outputs": [],
   "source": []
  },
  {
   "cell_type": "code",
   "execution_count": null,
   "metadata": {},
   "outputs": [],
   "source": []
  },
  {
   "cell_type": "code",
   "execution_count": 95,
   "metadata": {},
   "outputs": [],
   "source": [
    "# Topic Modeling"
   ]
  },
  {
   "cell_type": "code",
   "execution_count": 96,
   "metadata": {},
   "outputs": [],
   "source": [
    "# !pip3 install gensim"
   ]
  },
  {
   "cell_type": "code",
   "execution_count": 97,
   "metadata": {},
   "outputs": [],
   "source": [
    "\n",
    "import string\n",
    "import gensim\n",
    "from gensim.models import CoherenceModel\n",
    "from gensim import corpora\n",
    "from pprint import pprint\n",
    "import pyLDAvis\n",
    "import pyLDAvis.gensim_models\n",
    "\n",
    "\n",
    "\n",
    "\n"
   ]
  },
  {
   "cell_type": "code",
   "execution_count": 98,
   "metadata": {},
   "outputs": [],
   "source": [
    "def remove_stopwords(sent: str) -> str:\n",
    "    sent_list = sent.split()\n",
    "    return ' '.join([word for word in sent_list if word not in STOPWORDS])"
   ]
  },
  {
   "cell_type": "code",
   "execution_count": 101,
   "metadata": {},
   "outputs": [],
   "source": [
    "class TopicModel:\n",
    "    \n",
    "    def __init__(self, tweet_df, num_of_topics):\n",
    "        self.df = tweet_df\n",
    "        self.num_of_topics = num_of_topics\n",
    "    \n",
    "    def extract_text_df(self):\n",
    "        self.df = pd.DataFrame(self.df['clean_text']) \n",
    "        \n",
    "        return self.df\n",
    "    \n",
    "    \n",
    "    def further_pre_process(self):\n",
    "        \n",
    "        self.df['clean_text']= df['clean_text'].apply(lambda x: str(x).translate(str.maketrans(' ', ' ', string.punctuation))) \n",
    "        \n",
    "        self.df['clean_text'] = self.df['clean_text'].apply(remove_stopwords)\n",
    "        \n",
    "        return self.df\n",
    "    \n",
    "    def prepare_inputs(self):\n",
    "        \n",
    "        df = self.extract_text_df()\n",
    "        df = self.further_pre_process()\n",
    "        \n",
    "        sentence_list = [text for text in self.df['clean_text']]\n",
    "        \n",
    "        word_list = [sent.split() for sent in sentence_list]\n",
    "        word_to_int = corpora.Dictionary(word_list)\n",
    "        \n",
    "        corpus = [word_to_int.doc2bow(tweet) for tweet in word_list]\n",
    "        \n",
    "        return word_list, word_to_int, corpus\n",
    "    \n",
    "    def lda_prepared(self, lda_model, corpus,  word_list):\n",
    "        pyLDAvis.enable_notebook()\n",
    "        LDAvis_prepared = pyLDAvis.gensim_models.prepare(lda_model, corpus, word_list)\n",
    "        return LDAvis_prepared\n",
    "        \n",
    "    \n",
    "            \n",
    "    def build(self, show_print=False):\n",
    "        word_list, word_to_int, corpus = self.prepare_inputs()\n",
    "        \n",
    "        lda_model = gensim.models.ldamodel.LdaModel(\n",
    "            corpus, id2word=word_to_int,num_topics=self.num_of_topics, \n",
    "            random_state=100, update_every=1, \n",
    "            chunksize=100, passes=10, alpha='auto',\n",
    "            per_word_topics=True\n",
    "        )\n",
    "        \n",
    "        lda_prepared = self.lda_prepared(lda_model, corpus, word_to_int)\n",
    "        \n",
    "        \n",
    "        if show_print:\n",
    "            pprint(lda_model.print_topics())\n",
    "        \n",
    "        return lda_model, lda_prepared\n",
    "    \n",
    "        \n",
    "        "
   ]
  },
  {
   "cell_type": "code",
   "execution_count": 102,
   "metadata": {},
   "outputs": [
    {
     "name": "stdout",
     "output_type": "stream",
     "text": [
      "file read as csv\n",
      "[(0,\n",
      "  '0.041*\"need\" + 0.037*\"covid19\" + 0.036*\"vaccination\" + 0.036*\"world\" + '\n",
      "  '0.025*\"vaccines\" + 0.025*\"countries\" + 0.021*\"oxygen\" + 0.018*\"please\" + '\n",
      "  '0.017*\"vaccine\" + 0.013*\"via\"'),\n",
      " (1,\n",
      "  '0.042*\"covid19\" + 0.039*\"vaccines\" + 0.015*\"amp\" + 0.013*\"will\" + '\n",
      "  '0.013*\"vaccinated\" + 0.012*\"people\" + 0.010*\"south\" + 0.010*\"vaccine\" + '\n",
      "  '0.008*\"take\" + 0.007*\"china\"'),\n",
      " (2,\n",
      "  '0.050*\"india\" + 0.040*\"covid19\" + 0.034*\"africa\" + 0.025*\"amp\" + '\n",
      "  '0.015*\"help\" + 0.014*\"wave\" + 0.014*\"cases\" + 0.014*\"third\" + 0.013*\"dont\" '\n",
      "  '+ 0.012*\"vaccines\"'),\n",
      " (3,\n",
      "  '0.062*\"vaccines\" + 0.037*\"israel\" + 0.037*\"rt\" + 0.031*\"expired\" + '\n",
      "  '0.030*\"another\" + 0.029*\"tried\" + 0.029*\"war\" + 0.029*\"liars\" + '\n",
      "  '0.029*\"crime\" + 0.029*\"load\"'),\n",
      " (4,\n",
      "  '0.049*\"vaccines\" + 0.042*\"age\" + 0.041*\"capacity\" + 0.038*\"dose1\" + '\n",
      "  '0.038*\"min\" + 0.038*\"limit\" + 0.038*\"pin\" + 0.033*\"covaxin\" + '\n",
      "  '0.026*\"africa\" + 0.025*\"pmcg\"')]\n"
     ]
    }
   ],
   "source": [
    "df = read_proccessed_data(CLEANED_SAVE_PATH)\n",
    "tm = TopicModel(df, 8)\n",
    "lda_model, lda_prepared =tm.build(show_print=True)"
   ]
  },
  {
   "cell_type": "code",
   "execution_count": 111,
   "metadata": {},
   "outputs": [
    {
     "data": {
      "text/html": [
       "\n",
       "<link rel=\"stylesheet\" type=\"text/css\" href=\"https://cdn.jsdelivr.net/gh/bmabey/pyLDAvis@3.3.1/pyLDAvis/js/ldavis.v1.0.0.css\">\n",
       "\n",
       "\n",
       "<div id=\"ldavis_el872441122963904809966239437\"></div>\n",
       "<script type=\"text/javascript\">\n",
       "\n",
       "var ldavis_el872441122963904809966239437_data = {\"mdsDat\": {\"x\": [0.1323717930930087, 0.15605209280902888, -0.004460313252022278, 0.07778195736587028, -0.36174553001588544], \"y\": [0.009639141150264463, -0.2689264432098983, 0.2638144615489084, 0.09152920001956932, -0.09605635950884386], \"topics\": [1, 2, 3, 4, 5], \"cluster\": [1, 1, 1, 1, 1], \"Freq\": [25.440326556330245, 24.624600590056257, 21.33626067263877, 15.360418510710725, 13.238393670264006]}, \"tinfo\": {\"Term\": [\"india\", \"israel\", \"need\", \"age\", \"africa\", \"capacity\", \"expired\", \"vaccination\", \"rt\", \"pin\", \"min\", \"limit\", \"dose1\", \"tried\", \"war\", \"liars\", \"crime\", \"load\", \"world\", \"another\", \"covaxin\", \"amp\", \"countries\", \"pmcg\", \"covid19\", \"0\", \"hospital\", \"oxygen\", \"vaccines\", \"please\", \"south\", \"take\", \"china\", \"graphic\", \"designers\", \"fireworks\", \"release\", \"zweli\", \"healthcare\", \"fully\", \"mrna\", \"6\", \"covidvaccination\", \"taiwan\", \"staff\", \"variants\", \"speaks\", \"it\\u2019s\", \"travel\", \"bringing\", \"total\", \"community\", \"long\", \"reach\", \"forward\", \"jammu\", \"vaccinationdrive\", \"bakarwals\", \"distances\", \"gujjars\", \"response\", \"america\", \"cost\", \"places\", \"delta\", \"2\", \"vaccinated\", \"variant\", \"will\", \"covid19\", \"people\", \"vaccines\", \"amp\", \"risk\", \"vaccine\", \"covid\", \"1\", \"new\", \"government\", \"rt\", \"israel\", \"expired\", \"tried\", \"war\", \"liars\", \"crime\", \"load\", \"administered\", \"million\", \"2021\", \"ontario\", \"free\", \"provide\", \"question\", \"huge\", \"palestinians\", \"far\", \"sending\", \"increased\", \"way\", \"coverage\", \"providing\", \"sent\", \"directly\", \"committed\", \"indiafightscorona\", \"palestinian\", \"protect\", \"past\", \"friday\", \"another\", \"june\", \"rt\", \"centre\", \"vaccines\", \"go\", \"doses\", \"\\u2026\", \"covid19\", \"today\", \"vaccine\", \"india\", \"australia\", \"full\", \"everyone\", \"rich\", \"\\ud83d\\udd30\", \"blown\", \"systems\", \"indian\", \"must\", \"seen\", \"overwhelm\", \"nft\", \"action\", \"retweet\", \"elsewhere\", \"surging\", \"urgent\", \"trajectory\", \"quickly\", \"rebound\", \"sobering\", \"time\", \"education\", \"roberts\", \"21\", \"needs\", \"uganda\", \"we\\u2019ve\", \"rouse\", \"make\", \"see\", \"dont\", \"support\", \"help\", \"third\", \"wave\", \"africa\", \"amp\", \"one\", \"cases\", \"now\", \"midst\", \"covid19\", \"coronavirus\", \"people\", \"vaccines\", \"dr\", \"government\", \"health\", \"vaccine\", \"doses\", \"vaccination\", \"countries\", \"oxygen\", \"please\", \"via\", \"stand\", \"20\", \"days\", \"failure\", \"money\", \"dying\", \"30\", \"pay\", \"kills\", \"ppes\", \"ugandans\", \"mulago\", \"overstretched\", \"welcome\", \"find\", \"risen\", \"wecandothis\", \"call\", \"zip\", \"438829\", \"code\", \"i\\u2019m\", \"pleased\", \"near\", \"18002320233\", \"need\", \"world\", \"week\", \"workers\", \"deaths\", \"covid19\", \"patients\", \"covid\", \"vaccine\", \"health\", \"vaccines\", \"cases\", \"today\", \"age\", \"capacity\", \"dose1\", \"limit\", \"min\", \"pin\", \"covaxin\", \"pmcg\", \"0\", \"hospital\", \"1845\", \"covishield\", \"4518\", \"public\", \"dose2\", \"urgently\", \"uk\", \"technology\", \"germany\", \"production\", \"best\", \"leaders\", \"experts\", \"restrictions\", \"transfer\", \"lift\", \"desperate\", \"request\", \"patent\", \"moeti\", \"vaccines\", \"africa\", \"one\", \"know\", \"dr\", \"health\"], \"Freq\": [1237.0, 1073.0, 755.0, 655.0, 1268.0, 625.0, 891.0, 650.0, 1258.0, 593.0, 593.0, 593.0, 593.0, 830.0, 829.0, 829.0, 829.0, 829.0, 705.0, 886.0, 504.0, 1084.0, 450.0, 381.0, 3449.0, 354.0, 346.0, 370.0, 4430.0, 324.0, 304.36708043465063, 243.89066766889988, 214.29995072734727, 167.12802448762778, 162.56929181317082, 162.13141401480257, 162.11850889753586, 162.11850889753586, 156.6911625608981, 149.2725814475438, 136.03845262814917, 132.57749595998584, 179.78142303002156, 128.4837335576461, 125.01615888062807, 122.33150843864077, 131.68373386415712, 124.27313572398384, 119.95605688535295, 119.80553854646362, 121.91170607695695, 117.3711039892582, 120.89712395697441, 113.34740286190849, 111.49614586622835, 110.75308134702878, 110.74307850239526, 110.74036925502035, 110.74036925502035, 110.74036925502035, 121.75432155388084, 117.79210586504695, 114.09243210248681, 194.84596901096322, 157.778005065063, 193.9406116121203, 375.9531446648047, 129.351023618056, 378.99690481227077, 1246.0681573043837, 340.91056717881503, 1143.6249098381804, 454.34489345077463, 179.04711358503602, 283.6536778456967, 207.03326670472705, 150.07151299149191, 174.14769132974592, 165.51460907892303, 202.19419241768085, 1072.6136455250169, 890.9272865191422, 829.9989326228815, 829.1533660842917, 829.1114080477178, 829.0428125299092, 829.0038972517127, 268.19910613864266, 246.57133973654226, 214.3691739013051, 207.28900879264694, 210.08695857507405, 197.38005260941077, 182.00839761292497, 151.31427888038957, 141.91471781675526, 140.39223095719183, 156.1258807825799, 139.4874373936926, 138.70120464346408, 147.3792449541177, 143.72657366710533, 152.9122608458369, 144.53928375339072, 149.84745581553034, 144.7235307804073, 117.9258910225973, 123.10329120166179, 117.81384277988897, 113.18144333161568, 847.326480711684, 233.36966524417952, 1055.602811216104, 139.11207044244708, 1770.2092427651505, 242.99244199475282, 328.9997976373631, 182.8500139037966, 551.5211484672733, 215.6213490462357, 160.8418092864882, 1237.0445316083158, 306.2265071205313, 236.22470371197903, 239.098414632852, 226.14791356570885, 189.05903863082304, 161.01196925471484, 141.47160224015943, 132.73268571993543, 134.42953038182415, 128.04991988940233, 122.70468112965737, 121.961322928067, 120.96529509291798, 138.09760521357435, 117.19132357432827, 115.09445816724127, 112.59790735060986, 112.23640395241554, 111.4829972445068, 111.46736366505638, 111.46736366505638, 106.21472379897934, 117.83696034105506, 107.82564159038274, 100.02772316817422, 98.54218622143131, 97.38755618528963, 94.14169785003587, 92.9698731891584, 93.68713302623723, 125.22306345368702, 323.5804741084105, 304.3170827806717, 382.45209401213117, 335.7472379359153, 352.091405200239, 854.2723423695968, 629.1790941252746, 299.16419948997844, 337.1088163237022, 164.53332895623797, 196.756275413775, 990.4681087670685, 217.2944278848378, 246.23993085751394, 308.93814685088864, 151.5922172874038, 149.15066151801074, 158.50912800374837, 163.2442755760791, 153.0084438234767, 649.4511000804853, 450.177301415107, 370.13426945453097, 324.02184993194595, 238.88822215174773, 235.12552605146075, 199.74117834266275, 176.84363658951077, 167.12286521229356, 159.2086448205219, 158.49310704656017, 154.34021751093408, 152.6428860568004, 151.49774590990577, 144.3794628525692, 144.31336505694296, 143.65358585163418, 143.65358585163418, 139.64423009336167, 135.88432275397327, 131.3629837933577, 114.86479918720528, 113.4639837761963, 104.63703940328428, 104.57278135738518, 104.57278135738518, 102.89668610937773, 102.91932918294238, 102.14274668160945, 100.7180894460824, 733.1071341160397, 636.0446690010573, 191.05301436658758, 175.62961821075075, 173.3046573859063, 660.9918084954612, 151.25876158788594, 215.11409376390543, 309.0570759117061, 227.01704140795943, 451.5477068453323, 198.12129951957516, 176.1111498090131, 654.2747244868963, 624.5536730748792, 592.5972406234728, 592.5972406234728, 592.5972406234728, 592.5972406234728, 503.3455803132999, 381.0583390740315, 353.22576162488576, 346.0531823125875, 286.40126499182736, 272.4008610586779, 234.86510212149943, 191.27125451257845, 172.09148028755934, 191.25706312034333, 161.14924246029238, 150.10327402183466, 133.1744784533531, 131.77996251505382, 128.07107300525774, 127.9520461108287, 126.3031756540666, 122.99988158705911, 122.07749848871148, 121.7998982114813, 120.57642514016146, 120.3769707902442, 120.22539983354089, 119.71087935692337, 756.3909894774596, 394.3985634581887, 134.36705762428647, 122.76839974728462, 124.1112871423463, 124.68808329368618], \"Total\": [1237.0, 1073.0, 755.0, 655.0, 1268.0, 625.0, 891.0, 650.0, 1258.0, 593.0, 593.0, 593.0, 593.0, 830.0, 829.0, 829.0, 829.0, 829.0, 705.0, 886.0, 504.0, 1084.0, 450.0, 381.0, 3449.0, 354.0, 346.0, 370.0, 4430.0, 324.0, 305.1766240405877, 244.7042112238158, 215.1064609400735, 167.93216606688463, 163.37158556763345, 162.93392813110742, 162.92103045676643, 162.92103045676643, 157.5102586801204, 150.07250658284883, 136.83875098456613, 133.3965869600254, 180.89825893061058, 129.28274190770034, 125.8172166610213, 123.13111221121919, 132.55639453711785, 125.10126934167837, 120.75546756971045, 120.6171053703461, 122.73952966659873, 118.17425559178055, 121.7303166548407, 114.14918538929793, 112.29410776196043, 111.55088525064205, 111.54088167916497, 111.53817166895092, 111.53817166895092, 111.53817166895092, 122.6556994941277, 118.64642017828771, 114.92745784165399, 197.8522011278587, 161.7492960203033, 204.61855276645665, 423.80335277000455, 134.61540692015714, 538.9990292099445, 3449.2508160365096, 608.7482733534448, 4430.710995777012, 1084.1739249724922, 302.49310024977416, 917.0049404711816, 437.7210217538231, 210.8680519587086, 322.2380528820164, 315.3727206572775, 1258.3995250333412, 1073.4106509632807, 891.7240867698885, 830.795601713909, 829.9499756426429, 829.9080113138683, 829.8394148139182, 829.8004994818643, 269.0093727528244, 247.3734246074718, 215.1852752209962, 208.08643593855015, 210.89862764331204, 198.26084930409044, 182.88915178316185, 152.11911476481342, 142.71491178522862, 141.19088007605805, 157.03057272914845, 140.29665577546317, 139.5177426775877, 148.25939109623292, 144.58844991735936, 153.84668497777287, 145.42436270889073, 150.78373453315479, 145.64823393312687, 118.72291438885972, 123.9397861920529, 118.64195761510086, 113.98936528175781, 886.9277941165842, 243.2900787318576, 1258.3995250333412, 142.0782911257968, 4430.710995777012, 309.81036907644153, 579.8900743842869, 236.98078644404558, 3449.2508160365096, 392.3099377703178, 917.0049404711816, 1237.8832604773318, 307.21434014320255, 237.06670457802394, 239.95745146618822, 226.98988200612305, 189.89543773691562, 161.8478164403895, 142.30981112835957, 133.57245850432767, 135.30397131782067, 128.88602552340086, 123.5427207644015, 122.80378874305235, 121.80204032358506, 139.06106786565869, 118.02722335877266, 115.93057025582634, 113.43404613244981, 113.07221229854642, 112.31880161794487, 112.30316549486221, 112.30316549486221, 107.06109565650573, 118.80409108482945, 108.72633903315214, 100.88057691147047, 99.38533172777456, 98.2367678123954, 94.97775090447574, 93.80567504546126, 94.53066143028371, 128.07207321267333, 357.92405067717516, 337.95946806642365, 436.15929740039115, 405.6941620481206, 428.5104171487941, 1268.206570667912, 1084.1739249724922, 434.1747066622419, 535.8359285230096, 201.49976031696863, 267.5196143153806, 3449.2508160365096, 327.14583121749166, 608.7482733534448, 4430.710995777012, 326.01012447145615, 315.3727206572775, 570.7681272376308, 917.0049404711816, 579.8900743842869, 650.2610951894512, 450.9669037475844, 370.89344432202364, 324.9180820841949, 239.6596171045512, 235.90877095071835, 200.51182552926048, 177.6120659799472, 167.89097430749874, 159.96806491146967, 159.25437824677937, 155.09924895619264, 153.40184262374896, 152.25619693523467, 145.13777315296414, 145.07199439122124, 144.4118685055725, 144.4118685055725, 140.4133854445549, 136.64632590225085, 132.12127142981026, 115.62490203382282, 114.22323549316224, 105.39543731406708, 105.33117590959189, 105.33117590959189, 103.65633229631591, 103.68062796648144, 102.90111940705337, 101.47639551583059, 755.2313894142707, 705.9637651493889, 216.53173258084425, 263.63528627995606, 265.89637616201526, 3449.2508160365096, 215.19870866094715, 437.7210217538231, 917.0049404711816, 570.7681272376308, 4430.710995777012, 535.8359285230096, 392.3099377703178, 655.0777726919988, 625.3517974957075, 593.3945532792299, 593.3945532792299, 593.3945532792299, 593.3945532792299, 504.14443482895285, 381.8556439703427, 354.02308972159403, 346.86260814966136, 287.19857094597745, 273.2004460375531, 235.66240507051765, 192.09126855347725, 172.88884644172953, 192.15015139225738, 161.96413001536834, 150.91728385541765, 133.9803053969913, 132.5918441656136, 128.86979023396415, 128.75026604913464, 127.10195585284566, 123.79786925431453, 122.87588039442062, 122.59758860406241, 121.37395936040767, 121.17458247696285, 121.02272184846586, 120.50817095112494, 4430.710995777012, 1268.206570667912, 434.1747066622419, 160.2739508996301, 326.01012447145615, 570.7681272376308], \"Category\": [\"Default\", \"Default\", \"Default\", \"Default\", \"Default\", \"Default\", \"Default\", \"Default\", \"Default\", \"Default\", \"Default\", \"Default\", \"Default\", \"Default\", \"Default\", \"Default\", \"Default\", \"Default\", \"Default\", \"Default\", \"Default\", \"Default\", \"Default\", \"Default\", \"Default\", \"Default\", \"Default\", \"Default\", \"Default\", \"Default\", \"Topic1\", \"Topic1\", \"Topic1\", \"Topic1\", \"Topic1\", \"Topic1\", \"Topic1\", \"Topic1\", \"Topic1\", \"Topic1\", \"Topic1\", \"Topic1\", \"Topic1\", \"Topic1\", \"Topic1\", \"Topic1\", \"Topic1\", \"Topic1\", \"Topic1\", \"Topic1\", \"Topic1\", \"Topic1\", \"Topic1\", \"Topic1\", \"Topic1\", \"Topic1\", \"Topic1\", \"Topic1\", \"Topic1\", \"Topic1\", \"Topic1\", \"Topic1\", \"Topic1\", \"Topic1\", \"Topic1\", \"Topic1\", \"Topic1\", \"Topic1\", \"Topic1\", \"Topic1\", \"Topic1\", \"Topic1\", \"Topic1\", \"Topic1\", \"Topic1\", \"Topic1\", \"Topic1\", \"Topic1\", \"Topic1\", \"Topic1\", \"Topic2\", \"Topic2\", \"Topic2\", \"Topic2\", \"Topic2\", \"Topic2\", \"Topic2\", \"Topic2\", \"Topic2\", \"Topic2\", \"Topic2\", \"Topic2\", \"Topic2\", \"Topic2\", \"Topic2\", \"Topic2\", \"Topic2\", \"Topic2\", \"Topic2\", \"Topic2\", \"Topic2\", \"Topic2\", \"Topic2\", \"Topic2\", \"Topic2\", \"Topic2\", \"Topic2\", \"Topic2\", \"Topic2\", \"Topic2\", \"Topic2\", \"Topic2\", \"Topic2\", \"Topic2\", \"Topic2\", \"Topic2\", \"Topic2\", \"Topic2\", \"Topic2\", \"Topic2\", \"Topic2\", \"Topic3\", \"Topic3\", \"Topic3\", \"Topic3\", \"Topic3\", \"Topic3\", \"Topic3\", \"Topic3\", \"Topic3\", \"Topic3\", \"Topic3\", \"Topic3\", \"Topic3\", \"Topic3\", \"Topic3\", \"Topic3\", \"Topic3\", \"Topic3\", \"Topic3\", \"Topic3\", \"Topic3\", \"Topic3\", \"Topic3\", \"Topic3\", \"Topic3\", \"Topic3\", \"Topic3\", \"Topic3\", \"Topic3\", \"Topic3\", \"Topic3\", \"Topic3\", \"Topic3\", \"Topic3\", \"Topic3\", \"Topic3\", \"Topic3\", \"Topic3\", \"Topic3\", \"Topic3\", \"Topic3\", \"Topic3\", \"Topic3\", \"Topic3\", \"Topic3\", \"Topic3\", \"Topic3\", \"Topic3\", \"Topic3\", \"Topic3\", \"Topic3\", \"Topic3\", \"Topic4\", \"Topic4\", \"Topic4\", \"Topic4\", \"Topic4\", \"Topic4\", \"Topic4\", \"Topic4\", \"Topic4\", \"Topic4\", \"Topic4\", \"Topic4\", \"Topic4\", \"Topic4\", \"Topic4\", \"Topic4\", \"Topic4\", \"Topic4\", \"Topic4\", \"Topic4\", \"Topic4\", \"Topic4\", \"Topic4\", \"Topic4\", \"Topic4\", \"Topic4\", \"Topic4\", \"Topic4\", \"Topic4\", \"Topic4\", \"Topic4\", \"Topic4\", \"Topic4\", \"Topic4\", \"Topic4\", \"Topic4\", \"Topic4\", \"Topic4\", \"Topic4\", \"Topic4\", \"Topic4\", \"Topic4\", \"Topic4\", \"Topic5\", \"Topic5\", \"Topic5\", \"Topic5\", \"Topic5\", \"Topic5\", \"Topic5\", \"Topic5\", \"Topic5\", \"Topic5\", \"Topic5\", \"Topic5\", \"Topic5\", \"Topic5\", \"Topic5\", \"Topic5\", \"Topic5\", \"Topic5\", \"Topic5\", \"Topic5\", \"Topic5\", \"Topic5\", \"Topic5\", \"Topic5\", \"Topic5\", \"Topic5\", \"Topic5\", \"Topic5\", \"Topic5\", \"Topic5\", \"Topic5\", \"Topic5\", \"Topic5\", \"Topic5\", \"Topic5\", \"Topic5\"], \"logprob\": [30.0, 29.0, 28.0, 27.0, 26.0, 25.0, 24.0, 23.0, 22.0, 21.0, 20.0, 19.0, 18.0, 17.0, 16.0, 15.0, 14.0, 13.0, 12.0, 11.0, 10.0, 9.0, 8.0, 7.0, 6.0, 5.0, 4.0, 3.0, 2.0, 1.0, -4.5776, -4.7991, -4.9284, -5.1771, -5.2047, -5.2074, -5.2075, -5.2075, -5.2415, -5.29, -5.3829, -5.4086, -5.1041, -5.44, -5.4674, -5.4891, -5.4154, -5.4733, -5.5087, -5.5099, -5.4925, -5.5305, -5.5009, -5.5654, -5.5818, -5.5885, -5.5886, -5.5886, -5.5886, -5.5886, -5.4938, -5.5269, -5.5588, -5.0236, -5.2346, -5.0283, -4.3664, -5.4333, -4.3583, -3.1681, -4.4642, -3.2539, -4.177, -5.1082, -4.6481, -4.9629, -5.2847, -5.1359, -5.1868, -4.9866, -3.2854, -3.471, -3.5418, -3.5428, -3.5429, -3.543, -3.543, -4.6715, -4.7556, -4.8955, -4.9291, -4.9157, -4.9781, -5.0592, -5.2439, -5.308, -5.3188, -5.2126, -5.3253, -5.3309, -5.2702, -5.2953, -5.2334, -5.2897, -5.2536, -5.2884, -5.4932, -5.4502, -5.4941, -5.5342, -3.5211, -4.8106, -3.3014, -5.3279, -2.7844, -4.7702, -4.4672, -5.0546, -3.9505, -4.8897, -5.1828, -2.9994, -4.3956, -4.6551, -4.643, -4.6987, -4.8778, -5.0384, -5.1678, -5.2316, -5.2188, -5.2675, -5.3101, -5.3162, -5.3244, -5.1919, -5.3561, -5.3741, -5.3961, -5.3993, -5.406, -5.4062, -5.4062, -5.4544, -5.3506, -5.4394, -5.5144, -5.5294, -5.5412, -5.5751, -5.5876, -5.5799, -5.2898, -4.3404, -4.4018, -4.1733, -4.3035, -4.256, -3.3696, -3.6755, -4.4189, -4.2995, -5.0168, -4.8379, -3.2217, -4.7386, -4.6136, -4.3867, -5.0987, -5.1149, -5.0541, -5.0246, -5.0894, -3.3151, -3.6816, -3.8774, -4.0105, -4.3153, -4.3312, -4.4943, -4.616, -4.6725, -4.7211, -4.7256, -4.7521, -4.7632, -4.7707, -4.8188, -4.8193, -4.8239, -4.8239, -4.8522, -4.8795, -4.9133, -5.0475, -5.0598, -5.1408, -5.1414, -5.1414, -5.1575, -5.1573, -5.1649, -5.1789, -3.194, -3.336, -4.5387, -4.6229, -4.6362, -3.2975, -4.7723, -4.4201, -4.0577, -4.3662, -3.6786, -4.5024, -4.6202, -3.1591, -3.2056, -3.2581, -3.2581, -3.2581, -3.2581, -3.4213, -3.6996, -3.7755, -3.796, -3.9852, -4.0353, -4.1836, -4.3889, -4.4946, -4.389, -4.5603, -4.6313, -4.7509, -4.7615, -4.79, -4.7909, -4.8039, -4.8304, -4.8379, -4.8402, -4.8503, -4.852, -4.8532, -4.8575, -3.014, -3.6652, -4.742, -4.8323, -4.8214, -4.8168], \"loglift\": [30.0, 29.0, 28.0, 27.0, 26.0, 25.0, 24.0, 23.0, 22.0, 21.0, 20.0, 19.0, 18.0, 17.0, 16.0, 15.0, 14.0, 13.0, 12.0, 11.0, 10.0, 9.0, 8.0, 7.0, 6.0, 5.0, 4.0, 3.0, 2.0, 1.0, 1.3662, 1.3655, 1.3651, 1.364, 1.3639, 1.3639, 1.3639, 1.3639, 1.3636, 1.3635, 1.363, 1.3627, 1.3626, 1.3626, 1.3624, 1.3623, 1.3622, 1.3622, 1.3622, 1.3621, 1.3621, 1.362, 1.362, 1.3618, 1.3617, 1.3617, 1.3617, 1.3617, 1.3617, 1.3617, 1.3615, 1.3616, 1.3615, 1.3535, 1.344, 1.3152, 1.249, 1.3289, 1.0166, 0.3507, 0.789, 0.0145, 0.4991, 0.8444, 0.1955, 0.6201, 1.0287, 0.7534, 0.7241, -0.4595, 1.4007, 1.4005, 1.4005, 1.4005, 1.4005, 1.4005, 1.4005, 1.3984, 1.3982, 1.3976, 1.3976, 1.3976, 1.397, 1.3966, 1.3961, 1.3958, 1.3958, 1.3956, 1.3956, 1.3956, 1.3955, 1.3954, 1.3953, 1.3953, 1.3952, 1.3951, 1.3947, 1.3947, 1.3944, 1.3943, 1.3557, 1.3598, 1.2257, 1.3803, 0.484, 1.1585, 0.8346, 1.1421, -0.4318, 0.8029, -0.3393, 1.5441, 1.5415, 1.5412, 1.5412, 1.541, 1.5403, 1.5396, 1.5389, 1.5385, 1.5383, 1.5383, 1.538, 1.5379, 1.5379, 1.5378, 1.5377, 1.5375, 1.5374, 1.5373, 1.5373, 1.5373, 1.5373, 1.5368, 1.5366, 1.5364, 1.5363, 1.5362, 1.5361, 1.5359, 1.5358, 1.5358, 1.5223, 1.4439, 1.4399, 1.4134, 1.3555, 1.3483, 1.1497, 1.0006, 1.1723, 1.0813, 1.3421, 1.2375, 0.297, 1.1356, 0.6397, -1.1184, 0.779, 0.796, 0.2636, -0.1811, 0.2124, 1.8721, 1.8716, 1.8713, 1.8706, 1.8702, 1.8701, 1.8695, 1.869, 1.8688, 1.8686, 1.8686, 1.8685, 1.8684, 1.8684, 1.8681, 1.8681, 1.8681, 1.8681, 1.8679, 1.8678, 1.8676, 1.8668, 1.8667, 1.8662, 1.8662, 1.8662, 1.866, 1.866, 1.866, 1.8659, 1.8436, 1.7691, 1.7482, 1.4672, 1.4453, 0.2212, 1.5208, 1.163, 0.7858, 0.9514, -0.4103, 0.8784, 1.0724, 2.0208, 2.0208, 2.0207, 2.0207, 2.0207, 2.0207, 2.0205, 2.02, 2.0198, 2.0197, 2.0193, 2.0191, 2.0187, 2.0178, 2.0174, 2.0174, 2.017, 2.0166, 2.016, 2.0159, 2.0158, 2.0158, 2.0157, 2.0156, 2.0155, 2.0155, 2.0155, 2.0154, 2.0154, 2.0154, 0.2543, 0.8541, 0.8492, 1.7555, 1.0563, 0.5009]}, \"token.table\": {\"Topic\": [5, 1, 2, 5, 4, 5, 1, 2, 4, 2, 3, 4, 4, 5, 1, 3, 2, 1, 3, 5, 5, 1, 1, 3, 1, 2, 3, 1, 5, 3, 1, 4, 5, 3, 4, 1, 2, 3, 4, 1, 4, 2, 1, 3, 4, 1, 4, 5, 2, 1, 3, 4, 1, 2, 3, 4, 1, 5, 2, 4, 2, 4, 1, 3, 1, 5, 2, 1, 1, 3, 5, 5, 1, 2, 3, 1, 3, 5, 4, 3, 3, 3, 5, 2, 4, 2, 4, 1, 1, 2, 2, 3, 1, 5, 1, 2, 4, 1, 3, 1, 1, 2, 3, 4, 5, 1, 2, 3, 5, 2, 2, 3, 2, 3, 2, 1, 4, 1, 1, 2, 4, 3, 5, 5, 2, 5, 5, 2, 1, 3, 3, 4, 2, 5, 5, 4, 1, 4, 3, 4, 2, 4, 3, 1, 2, 4, 3, 1, 3, 3, 5, 2, 4, 3, 4, 2, 2, 2, 5, 1, 3, 4, 4, 1, 2, 3, 5, 1, 2, 4, 4, 5, 4, 5, 2, 2, 2, 5, 2, 3, 1, 3, 1, 5, 1, 5, 3, 3, 4, 1, 2, 3, 3, 1, 2, 3, 4, 3, 2, 2, 3, 1, 1, 1, 4, 3, 4, 3, 3, 1, 1, 5, 3, 4, 3, 2, 4, 1, 3, 5, 1, 2, 3, 4, 5, 3, 5, 1, 2, 4, 1, 1, 2, 3, 4, 1, 2, 3, 4, 5, 1, 3, 1, 4, 2, 3, 4, 2, 4, 2, 4, 4, 3, 1, 2, 3, 1, 4, 2, 4, 4, 1, 1, 2, 3], \"Freq\": [0.997110104534711, 0.7113453109974783, 0.2323728015925096, 0.05216532280648175, 0.9953053563500266, 0.9958266820686831, 0.9481056208105614, 0.04887142375312172, 0.9974474047707187, 0.9944918386270672, 0.991271095602048, 0.9929126094188688, 0.9968558605110784, 0.997189178009452, 0.9970270081936636, 0.9934152143801999, 0.9962478156708992, 0.014981786437199647, 0.673391874598342, 0.31067493980298216, 0.9983547408614251, 0.9945517093788725, 0.4187520005256712, 0.5801652165873286, 0.04397201244419854, 0.9549819112881067, 0.9960472543611196, 0.9951750000838436, 0.9932506273783402, 0.994761644246824, 0.9948837657109137, 0.9892908348473857, 0.9994374406580163, 0.6289238590792419, 0.3695160952453706, 0.007038372942665782, 0.9783338390305436, 0.007038372942665782, 0.007038372942665782, 0.9948562170785668, 0.9968558605110784, 0.9948022607638594, 0.9900633552891851, 0.6633127470780302, 0.3331847439239875, 0.991930058672908, 0.9978559319108579, 0.9977299465195105, 0.9915054885432825, 0.4729039495763994, 0.03426840214321735, 0.49118043071944867, 0.3612378648160364, 0.16003475231015418, 0.28701884925190696, 0.19163581753081868, 0.9950344523163425, 0.9956059880027133, 0.9989884611420796, 0.9965539166690606, 0.3459994503420491, 0.6506294011866792, 0.9768203255745072, 0.01854722137166786, 0.9977255189980413, 0.9969189489872599, 0.9970819008521962, 0.9951750000838436, 0.09499221953840103, 0.9052199744247628, 0.999335091168179, 0.9948588560799432, 0.16727308206299657, 0.5673489072033595, 0.2638431088210152, 0.1533694699852113, 0.4662431887550424, 0.38035628556332407, 0.9921234300708794, 0.9932317896001132, 0.9912967251999976, 0.9960099115058191, 0.9913301424399679, 0.9991879923615035, 0.9946931375484969, 0.9915654603511463, 0.995270082104416, 0.9942680561266778, 0.9884757287113972, 0.9957390540974412, 0.991320547497459, 0.9955004032307165, 0.9928534106128444, 0.9926832126999069, 0.01936668555634941, 0.7843507650321511, 0.19689463648955233, 0.5263613151259073, 0.47245684309494096, 0.9944491511738534, 0.9951750000838436, 0.10512149704361452, 0.27857196716557847, 0.3977096638150083, 0.21900311884086357, 0.9967604733533157, 0.12151523609812305, 0.8758267960279813, 0.9975131128885211, 0.9926431680427299, 0.9907577570662953, 0.9992864751422592, 0.9955493182744357, 0.9957142474523734, 0.9996174334930326, 0.9911969770772623, 0.9936681890842936, 0.995061578853415, 0.036992877173258505, 0.9577044868188036, 0.9917494528267443, 0.2308547321153321, 0.7674360013563744, 0.9941727029220404, 0.9989058892052014, 0.9951256088242293, 0.999335091168179, 0.9990353109182699, 0.9940005359806015, 0.994386356529674, 0.7363946023328048, 0.2616630566664789, 0.9984904416953262, 0.999335091168179, 0.9957830996262399, 0.9939483864357213, 0.9938705156358761, 0.9971479594451989, 0.9903626530313901, 0.9912428609888222, 0.029130145155993027, 0.9705634726974041, 0.9961228511182112, 0.5399734713010695, 0.10551205761055381, 0.3506724267644877, 0.993454691005225, 0.17866026214309289, 0.8188595348225091, 0.6886628709870967, 0.30863152077682593, 0.9947789199538648, 0.9971479594451989, 0.9956070194905576, 0.9975911024157981, 0.9939109110268981, 0.9949906300870333, 0.9945891181500603, 0.9915493402160759, 0.20446219344802616, 0.08829049262528403, 0.7016770729693625, 0.9973804576472098, 0.5601658598906815, 0.03449701776452877, 0.40410792238447985, 0.999335091168179, 0.9855841829830565, 0.010108555722903144, 0.9971744198466708, 0.9934353410098801, 0.9977592475485076, 0.9921607371516923, 0.9955363456226286, 0.9924173970205448, 0.9936404524215643, 0.9959301734149879, 0.9943190101158947, 0.9951383022202648, 0.9882584073285361, 0.9899326010485426, 0.9883960038960626, 0.9943467675463123, 0.9903066926004374, 0.9946541457361376, 0.993555064726716, 0.9923697704760635, 0.9956390919393652, 0.9915133163821699, 0.5917490344480465, 0.4066208449000543, 0.9933195669088916, 0.991411233434749, 0.16052135747162494, 0.839161155891267, 0.9760129344703281, 0.01561620695152525, 0.9931255113205427, 0.9934371204840091, 0.9944965666442849, 0.9883960038960626, 0.9961444489915087, 0.995802582447563, 0.9935047310478735, 0.9961477865063856, 0.8995161512689174, 0.09764484536800748, 0.9919730382264762, 0.9907960588382894, 0.9900780112738007, 0.9971221940959091, 0.9939219429876804, 0.8282100937901741, 0.17007885854619645, 0.990088877290121, 0.5505850838947128, 0.4486248831734697, 0.9939748044610605, 0.9905174553787324, 0.9928718281276266, 0.9937438230755529, 0.9990423616684203, 0.9874103368836679, 0.9926106041643685, 0.9940472620988557, 0.9961735815017742, 0.9940143092059842, 0.8872039297057022, 0.11090049121321277, 0.9980606325693162, 0.9951508211964761, 0.30970389303908574, 0.17557157316652394, 0.1777525864977851, 0.3369665596798503, 0.2581978380197595, 0.39948441721588657, 0.06974049995463782, 0.10201522970710776, 0.17062724260746343, 0.9582855555048929, 0.037142850988561744, 0.9908137578642279, 0.9972476919035407, 0.9988553820464814, 0.8214502749831005, 0.17735858209862396, 0.9962890549427527, 0.9945954372904894, 0.11545651855284539, 0.8820878017437388, 0.9970559399073948, 0.9897054742277577, 0.7031552553174941, 0.24489840026888976, 0.05194814551158268, 0.3300013485585314, 0.6675889350149601, 0.09773872740536324, 0.9008960960842177, 0.9962480604080732, 0.9943467675463123, 0.22786657437627392, 0.7722145020529283, 0.9952845747765874], \"Term\": [\"0\", \"1\", \"1\", \"1\", \"18002320233\", \"1845\", \"2\", \"2\", \"20\", \"2021\", \"21\", \"30\", \"438829\", \"4518\", \"6\", \"action\", \"administered\", \"africa\", \"africa\", \"africa\", \"age\", \"america\", \"amp\", \"amp\", \"another\", \"another\", \"australia\", \"bakarwals\", \"best\", \"blown\", \"bringing\", \"call\", \"capacity\", \"cases\", \"cases\", \"centre\", \"centre\", \"centre\", \"centre\", \"china\", \"code\", \"committed\", \"community\", \"coronavirus\", \"coronavirus\", \"cost\", \"countries\", \"covaxin\", \"coverage\", \"covid\", \"covid\", \"covid\", \"covid19\", \"covid19\", \"covid19\", \"covid19\", \"covidvaccination\", \"covishield\", \"crime\", \"days\", \"deaths\", \"deaths\", \"delta\", \"delta\", \"designers\", \"desperate\", \"directly\", \"distances\", \"dont\", \"dont\", \"dose1\", \"dose2\", \"doses\", \"doses\", \"doses\", \"dr\", \"dr\", \"dr\", \"dying\", \"education\", \"elsewhere\", \"everyone\", \"experts\", \"expired\", \"failure\", \"far\", \"find\", \"fireworks\", \"forward\", \"free\", \"friday\", \"full\", \"fully\", \"germany\", \"go\", \"go\", \"go\", \"government\", \"government\", \"graphic\", \"gujjars\", \"health\", \"health\", \"health\", \"health\", \"healthcare\", \"help\", \"help\", \"hospital\", \"huge\", \"increased\", \"india\", \"indiafightscorona\", \"indian\", \"israel\", \"it\\u2019s\", \"i\\u2019m\", \"jammu\", \"june\", \"june\", \"kills\", \"know\", \"know\", \"leaders\", \"liars\", \"lift\", \"limit\", \"load\", \"long\", \"make\", \"midst\", \"midst\", \"million\", \"min\", \"moeti\", \"money\", \"mrna\", \"mulago\", \"must\", \"near\", \"need\", \"need\", \"needs\", \"new\", \"new\", \"new\", \"nft\", \"now\", \"now\", \"one\", \"one\", \"ontario\", \"overstretched\", \"overwhelm\", \"oxygen\", \"palestinian\", \"palestinians\", \"past\", \"patent\", \"patients\", \"patients\", \"patients\", \"pay\", \"people\", \"people\", \"people\", \"pin\", \"places\", \"places\", \"please\", \"pleased\", \"pmcg\", \"ppes\", \"production\", \"protect\", \"provide\", \"providing\", \"public\", \"question\", \"quickly\", \"reach\", \"rebound\", \"release\", \"request\", \"response\", \"restrictions\", \"retweet\", \"rich\", \"risen\", \"risk\", \"risk\", \"roberts\", \"rouse\", \"rt\", \"rt\", \"see\", \"see\", \"seen\", \"sending\", \"sent\", \"sobering\", \"south\", \"speaks\", \"staff\", \"stand\", \"support\", \"support\", \"surging\", \"systems\", \"taiwan\", \"take\", \"technology\", \"third\", \"third\", \"time\", \"today\", \"today\", \"total\", \"trajectory\", \"transfer\", \"travel\", \"tried\", \"uganda\", \"ugandans\", \"uk\", \"urgent\", \"urgently\", \"vaccinated\", \"vaccinated\", \"vaccination\", \"vaccinationdrive\", \"vaccine\", \"vaccine\", \"vaccine\", \"vaccine\", \"vaccines\", \"vaccines\", \"vaccines\", \"vaccines\", \"vaccines\", \"variant\", \"variant\", \"variants\", \"via\", \"war\", \"wave\", \"wave\", \"way\", \"wecandothis\", \"week\", \"week\", \"welcome\", \"we\\u2019ve\", \"will\", \"will\", \"will\", \"workers\", \"workers\", \"world\", \"world\", \"zip\", \"zweli\", \"\\u2026\", \"\\u2026\", \"\\ud83d\\udd30\"]}, \"R\": 30, \"lambda.step\": 0.01, \"plot.opts\": {\"xlab\": \"PC1\", \"ylab\": \"PC2\"}, \"topic.order\": [2, 4, 3, 1, 5]};\n",
       "\n",
       "function LDAvis_load_lib(url, callback){\n",
       "  var s = document.createElement('script');\n",
       "  s.src = url;\n",
       "  s.async = true;\n",
       "  s.onreadystatechange = s.onload = callback;\n",
       "  s.onerror = function(){console.warn(\"failed to load library \" + url);};\n",
       "  document.getElementsByTagName(\"head\")[0].appendChild(s);\n",
       "}\n",
       "\n",
       "if(typeof(LDAvis) !== \"undefined\"){\n",
       "   // already loaded: just create the visualization\n",
       "   !function(LDAvis){\n",
       "       new LDAvis(\"#\" + \"ldavis_el872441122963904809966239437\", ldavis_el872441122963904809966239437_data);\n",
       "   }(LDAvis);\n",
       "}else if(typeof define === \"function\" && define.amd){\n",
       "   // require.js is available: use it to load d3/LDAvis\n",
       "   require.config({paths: {d3: \"https://d3js.org/d3.v5\"}});\n",
       "   require([\"d3\"], function(d3){\n",
       "      window.d3 = d3;\n",
       "      LDAvis_load_lib(\"https://cdn.jsdelivr.net/gh/bmabey/pyLDAvis@3.3.1/pyLDAvis/js/ldavis.v3.0.0.js\", function(){\n",
       "        new LDAvis(\"#\" + \"ldavis_el872441122963904809966239437\", ldavis_el872441122963904809966239437_data);\n",
       "      });\n",
       "    });\n",
       "}else{\n",
       "    // require.js not available: dynamically load d3 & LDAvis\n",
       "    LDAvis_load_lib(\"https://d3js.org/d3.v5.js\", function(){\n",
       "         LDAvis_load_lib(\"https://cdn.jsdelivr.net/gh/bmabey/pyLDAvis@3.3.1/pyLDAvis/js/ldavis.v3.0.0.js\", function(){\n",
       "                 new LDAvis(\"#\" + \"ldavis_el872441122963904809966239437\", ldavis_el872441122963904809966239437_data);\n",
       "            })\n",
       "         });\n",
       "}\n",
       "</script>"
      ],
      "text/plain": [
       "PreparedData(topic_coordinates=              x         y  topics  cluster       Freq\n",
       "topic                                                \n",
       "1      0.132372  0.009639       1        1  25.440327\n",
       "3      0.156052 -0.268926       2        1  24.624601\n",
       "2     -0.004460  0.263814       3        1  21.336261\n",
       "0      0.077782  0.091529       4        1  15.360419\n",
       "4     -0.361746 -0.096056       5        1  13.238394, topic_info=       Term         Freq        Total Category  logprob  loglift\n",
       "224   india  1237.000000  1237.000000  Default  30.0000  30.0000\n",
       "472  israel  1073.000000  1073.000000  Default  29.0000  29.0000\n",
       "162    need   755.000000   755.000000  Default  28.0000  28.0000\n",
       "665     age   655.000000   655.000000  Default  27.0000  27.0000\n",
       "19   africa  1268.000000  1268.000000  Default  26.0000  26.0000\n",
       "..      ...          ...          ...      ...      ...      ...\n",
       "19   africa   394.398563  1268.206571   Topic5  -3.6652   0.8541\n",
       "31      one   134.367058   434.174707   Topic5  -4.7420   0.8492\n",
       "27     know   122.768400   160.273951   Topic5  -4.8323   1.7555\n",
       "22       dr   124.111287   326.010124   Topic5  -4.8214   1.0563\n",
       "26   health   124.688083   570.768127   Topic5  -4.8168   0.5009\n",
       "\n",
       "[252 rows x 6 columns], token_table=      Topic      Freq         Term\n",
       "term                              \n",
       "688       5  0.997110            0\n",
       "285       1  0.711345            1\n",
       "285       2  0.232373            1\n",
       "285       5  0.052165            1\n",
       "108       4  0.995305  18002320233\n",
       "...     ...       ...          ...\n",
       "125       4  0.996248          zip\n",
       "2953      1  0.994347        zweli\n",
       "510       1  0.227867            …\n",
       "510       2  0.772215            …\n",
       "6440      3  0.995285            🔰\n",
       "\n",
       "[265 rows x 3 columns], R=30, lambda_step=0.01, plot_opts={'xlab': 'PC1', 'ylab': 'PC2'}, topic_order=[2, 4, 3, 1, 5])"
      ]
     },
     "execution_count": 111,
     "metadata": {},
     "output_type": "execute_result"
    }
   ],
   "source": [
    "lda_prepared"
   ]
  },
  {
   "cell_type": "code",
   "execution_count": null,
   "metadata": {},
   "outputs": [],
   "source": []
  }
 ],
 "metadata": {
  "kernelspec": {
   "display_name": "Python 3",
   "language": "python",
   "name": "python3"
  },
  "language_info": {
   "codemirror_mode": {
    "name": "ipython",
    "version": 3
   },
   "file_extension": ".py",
   "mimetype": "text/x-python",
   "name": "python",
   "nbconvert_exporter": "python",
   "pygments_lexer": "ipython3",
   "version": "3.7.6"
  }
 },
 "nbformat": 4,
 "nbformat_minor": 4
}
